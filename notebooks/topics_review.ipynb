{
 "cells": [
  {
   "metadata": {},
   "cell_type": "markdown",
   "source": [
    "This notebook is clean version of topics review playground. It allows to run summarization both localy through Gemini call or\n",
    "through Google Cloud function. Input function is JSON exported from PubTrends request (paper or keyword search).\n",
    "\n",
    "This was prototype for integration with the hackathon project"
   ],
   "id": "d4880a42e58116dd"
  },
  {
   "metadata": {
    "ExecuteTime": {
     "end_time": "2025-05-07T20:03:44.844120Z",
     "start_time": "2025-05-07T20:03:44.839876Z"
    }
   },
   "cell_type": "code",
   "source": "from IPython.display import display, HTML",
   "id": "9ea30ccbe8fc91f",
   "outputs": [],
   "execution_count": 190
  },
  {
   "metadata": {
    "ExecuteTime": {
     "end_time": "2025-05-07T17:01:02.932561Z",
     "start_time": "2025-05-07T17:01:02.931054Z"
    }
   },
   "cell_type": "code",
   "source": [
    "import os\n",
    "import gzip"
   ],
   "id": "7ea4afc83159d7ce",
   "outputs": [],
   "execution_count": 1
  },
  {
   "metadata": {
    "ExecuteTime": {
     "end_time": "2025-05-07T17:01:03.151361Z",
     "start_time": "2025-05-07T17:01:03.065950Z"
    }
   },
   "cell_type": "code",
   "source": [
    "import pandas as pd\n",
    "import numpy as np\n",
    "\n",
    "import requests\n",
    "import json\n",
    "import re\n",
    "from urllib.parse import urlencode"
   ],
   "id": "7a79e182b4911a1c",
   "outputs": [],
   "execution_count": 2
  },
  {
   "metadata": {},
   "cell_type": "markdown",
   "source": "# Summarization service prototype",
   "id": "d74bf1e31a02b03b"
  },
  {
   "metadata": {
    "ExecuteTime": {
     "end_time": "2025-05-07T17:01:04.089123Z",
     "start_time": "2025-05-07T17:01:04.085950Z"
    }
   },
   "cell_type": "code",
   "source": [
    "# file_path = \"/Users/romeo/work/pubtrends_related/hackathon/json_examples/pubmed-human-aging-most-cited-1000.json.gz\"\n",
    "# file_path = \"/Users/romeo/work/pubtrends_related/hackathon/json_examples/pubmed-drug-resistance-in-cancer.json.gz\"\n",
    "# file_path = \"/Users/romeo/work/pubtrends_related/hackathon/json_examples/pubmed-fibrosis-from-mechanisms-to-medicines.json.gz\"\n",
    "file_path = \"/Users/romeo/work/pubtrends_related/hackathon/json_examples/pubmed-hallmarks-of-aging-an-expanding-universe.json.gz\""
   ],
   "id": "97554e3bf8cb53ab",
   "outputs": [],
   "execution_count": 3
  },
  {
   "metadata": {},
   "cell_type": "markdown",
   "source": "## Load & Prepare data & Get Result From Lambda",
   "id": "11a595a53d67618a"
  },
  {
   "metadata": {
    "ExecuteTime": {
     "end_time": "2025-05-07T17:01:10.413132Z",
     "start_time": "2025-05-07T17:01:06.741028Z"
    }
   },
   "cell_type": "code",
   "source": [
    "from pysrc.papers.data import AnalysisData\n",
    "from pysrc.papers.plot.plotter import get_topics_description"
   ],
   "id": "80241ee014c79ac6",
   "outputs": [
    {
     "data": {
      "text/html": [
       "<script type=\"esms-options\">{\"shimMode\": true}</script><style>*[data-root-id],\n",
       "*[data-root-id] > * {\n",
       "  box-sizing: border-box;\n",
       "  font-family: var(--jp-ui-font-family);\n",
       "  font-size: var(--jp-ui-font-size1);\n",
       "  color: var(--vscode-editor-foreground, var(--jp-ui-font-color1));\n",
       "}\n",
       "\n",
       "/* Override VSCode background color */\n",
       ".cell-output-ipywidget-background:has(\n",
       "    > .cell-output-ipywidget-background > .lm-Widget > *[data-root-id]\n",
       "  ),\n",
       ".cell-output-ipywidget-background:has(> .lm-Widget > *[data-root-id]) {\n",
       "  background-color: transparent !important;\n",
       "}\n",
       "</style>"
      ]
     },
     "metadata": {},
     "output_type": "display_data"
    },
    {
     "data": {
      "application/javascript": "(function(root) {\n  function now() {\n    return new Date();\n  }\n\n  const force = true;\n  const py_version = '3.6.3'.replace('rc', '-rc.').replace('.dev', '-dev.');\n  const reloading = false;\n  const Bokeh = root.Bokeh;\n\n  // Set a timeout for this load but only if we are not already initializing\n  if (typeof (root._bokeh_timeout) === \"undefined\" || (force || !root._bokeh_is_initializing)) {\n    root._bokeh_timeout = Date.now() + 5000;\n    root._bokeh_failed_load = false;\n  }\n\n  function run_callbacks() {\n    try {\n      root._bokeh_onload_callbacks.forEach(function(callback) {\n        if (callback != null)\n          callback();\n      });\n    } finally {\n      delete root._bokeh_onload_callbacks;\n    }\n    console.debug(\"Bokeh: all callbacks have finished\");\n  }\n\n  function load_libs(css_urls, js_urls, js_modules, js_exports, callback) {\n    if (css_urls == null) css_urls = [];\n    if (js_urls == null) js_urls = [];\n    if (js_modules == null) js_modules = [];\n    if (js_exports == null) js_exports = {};\n\n    root._bokeh_onload_callbacks.push(callback);\n\n    if (root._bokeh_is_loading > 0) {\n      // Don't load bokeh if it is still initializing\n      console.debug(\"Bokeh: BokehJS is being loaded, scheduling callback at\", now());\n      return null;\n    } else if (js_urls.length === 0 && js_modules.length === 0 && Object.keys(js_exports).length === 0) {\n      // There is nothing to load\n      run_callbacks();\n      return null;\n    }\n\n    function on_load() {\n      root._bokeh_is_loading--;\n      if (root._bokeh_is_loading === 0) {\n        console.debug(\"Bokeh: all BokehJS libraries/stylesheets loaded\");\n        run_callbacks()\n      }\n    }\n    window._bokeh_on_load = on_load\n\n    function on_error(e) {\n      const src_el = e.srcElement\n      console.error(\"failed to load \" + (src_el.href || src_el.src));\n    }\n\n    const skip = [];\n    if (window.requirejs) {\n      window.requirejs.config({'packages': {}, 'paths': {}, 'shim': {}});\n      root._bokeh_is_loading = css_urls.length + 0;\n    } else {\n      root._bokeh_is_loading = css_urls.length + js_urls.length + js_modules.length + Object.keys(js_exports).length;\n    }\n\n    const existing_stylesheets = []\n    const links = document.getElementsByTagName('link')\n    for (let i = 0; i < links.length; i++) {\n      const link = links[i]\n      if (link.href != null) {\n        existing_stylesheets.push(link.href)\n      }\n    }\n    for (let i = 0; i < css_urls.length; i++) {\n      const url = css_urls[i];\n      const escaped = encodeURI(url)\n      if (existing_stylesheets.indexOf(escaped) !== -1) {\n        on_load()\n        continue;\n      }\n      const element = document.createElement(\"link\");\n      element.onload = on_load;\n      element.onerror = on_error;\n      element.rel = \"stylesheet\";\n      element.type = \"text/css\";\n      element.href = url;\n      console.debug(\"Bokeh: injecting link tag for BokehJS stylesheet: \", url);\n      document.body.appendChild(element);\n    }    var existing_scripts = []\n    const scripts = document.getElementsByTagName('script')\n    for (let i = 0; i < scripts.length; i++) {\n      var script = scripts[i]\n      if (script.src != null) {\n        existing_scripts.push(script.src)\n      }\n    }\n    for (let i = 0; i < js_urls.length; i++) {\n      const url = js_urls[i];\n      const escaped = encodeURI(url)\n      if (skip.indexOf(escaped) !== -1 || existing_scripts.indexOf(escaped) !== -1) {\n        if (!window.requirejs) {\n          on_load();\n        }\n        continue;\n      }\n      const element = document.createElement('script');\n      element.onload = on_load;\n      element.onerror = on_error;\n      element.async = false;\n      element.src = url;\n      console.debug(\"Bokeh: injecting script tag for BokehJS library: \", url);\n      document.head.appendChild(element);\n    }\n    for (let i = 0; i < js_modules.length; i++) {\n      const url = js_modules[i];\n      const escaped = encodeURI(url)\n      if (skip.indexOf(escaped) !== -1 || existing_scripts.indexOf(escaped) !== -1) {\n        if (!window.requirejs) {\n          on_load();\n        }\n        continue;\n      }\n      var element = document.createElement('script');\n      element.onload = on_load;\n      element.onerror = on_error;\n      element.async = false;\n      element.src = url;\n      element.type = \"module\";\n      console.debug(\"Bokeh: injecting script tag for BokehJS library: \", url);\n      document.head.appendChild(element);\n    }\n    for (const name in js_exports) {\n      const url = js_exports[name];\n      const escaped = encodeURI(url)\n      if (skip.indexOf(escaped) >= 0 || root[name] != null) {\n        if (!window.requirejs) {\n          on_load();\n        }\n        continue;\n      }\n      var element = document.createElement('script');\n      element.onerror = on_error;\n      element.async = false;\n      element.type = \"module\";\n      console.debug(\"Bokeh: injecting script tag for BokehJS library: \", url);\n      element.textContent = `\n      import ${name} from \"${url}\"\n      window.${name} = ${name}\n      window._bokeh_on_load()\n      `\n      document.head.appendChild(element);\n    }\n    if (!js_urls.length && !js_modules.length) {\n      on_load()\n    }\n  };\n\n  function inject_raw_css(css) {\n    const element = document.createElement(\"style\");\n    element.appendChild(document.createTextNode(css));\n    document.body.appendChild(element);\n  }\n\n  const js_urls = [\"https://cdn.holoviz.org/panel/1.6.3/dist/bundled/reactiveesm/es-module-shims@^1.10.0/dist/es-module-shims.min.js\", \"https://cdn.bokeh.org/bokeh/release/bokeh-3.6.3.min.js\", \"https://cdn.bokeh.org/bokeh/release/bokeh-gl-3.6.3.min.js\", \"https://cdn.bokeh.org/bokeh/release/bokeh-widgets-3.6.3.min.js\", \"https://cdn.bokeh.org/bokeh/release/bokeh-tables-3.6.3.min.js\", \"https://cdn.holoviz.org/panel/1.6.3/dist/panel.min.js\"];\n  const js_modules = [];\n  const js_exports = {};\n  const css_urls = [];\n  const inline_js = [    function(Bokeh) {\n      Bokeh.set_log_level(\"info\");\n    },\nfunction(Bokeh) {} // ensure no trailing comma for IE\n  ];\n\n  function run_inline_js() {\n    if ((root.Bokeh !== undefined) || (force === true)) {\n      for (let i = 0; i < inline_js.length; i++) {\n        try {\n          inline_js[i].call(root, root.Bokeh);\n        } catch(e) {\n          if (!reloading) {\n            throw e;\n          }\n        }\n      }\n      // Cache old bokeh versions\n      if (Bokeh != undefined && !reloading) {\n        var NewBokeh = root.Bokeh;\n        if (Bokeh.versions === undefined) {\n          Bokeh.versions = new Map();\n        }\n        if (NewBokeh.version !== Bokeh.version) {\n          Bokeh.versions.set(NewBokeh.version, NewBokeh)\n        }\n        root.Bokeh = Bokeh;\n      }\n    } else if (Date.now() < root._bokeh_timeout) {\n      setTimeout(run_inline_js, 100);\n    } else if (!root._bokeh_failed_load) {\n      console.log(\"Bokeh: BokehJS failed to load within specified timeout.\");\n      root._bokeh_failed_load = true;\n    }\n    root._bokeh_is_initializing = false\n  }\n\n  function load_or_wait() {\n    // Implement a backoff loop that tries to ensure we do not load multiple\n    // versions of Bokeh and its dependencies at the same time.\n    // In recent versions we use the root._bokeh_is_initializing flag\n    // to determine whether there is an ongoing attempt to initialize\n    // bokeh, however for backward compatibility we also try to ensure\n    // that we do not start loading a newer (Panel>=1.0 and Bokeh>3) version\n    // before older versions are fully initialized.\n    if (root._bokeh_is_initializing && Date.now() > root._bokeh_timeout) {\n      // If the timeout and bokeh was not successfully loaded we reset\n      // everything and try loading again\n      root._bokeh_timeout = Date.now() + 5000;\n      root._bokeh_is_initializing = false;\n      root._bokeh_onload_callbacks = undefined;\n      root._bokeh_is_loading = 0\n      console.log(\"Bokeh: BokehJS was loaded multiple times but one version failed to initialize.\");\n      load_or_wait();\n    } else if (root._bokeh_is_initializing || (typeof root._bokeh_is_initializing === \"undefined\" && root._bokeh_onload_callbacks !== undefined)) {\n      setTimeout(load_or_wait, 100);\n    } else {\n      root._bokeh_is_initializing = true\n      root._bokeh_onload_callbacks = []\n      const bokeh_loaded = root.Bokeh != null && (root.Bokeh.version === py_version || (root.Bokeh.versions !== undefined && root.Bokeh.versions.has(py_version)));\n      if (!reloading && !bokeh_loaded) {\n        if (root.Bokeh) {\n          root.Bokeh = undefined;\n        }\n        console.debug(\"Bokeh: BokehJS not loaded, scheduling load and callback at\", now());\n      }\n      load_libs(css_urls, js_urls, js_modules, js_exports, function() {\n        console.debug(\"Bokeh: BokehJS plotting callback run at\", now());\n        run_inline_js();\n      });\n    }\n  }\n  // Give older versions of the autoload script a head-start to ensure\n  // they initialize before we start loading newer version.\n  setTimeout(load_or_wait, 100)\n}(window));",
      "application/vnd.holoviews_load.v0+json": "(function(root) {\n  function now() {\n    return new Date();\n  }\n\n  const force = true;\n  const py_version = '3.6.3'.replace('rc', '-rc.').replace('.dev', '-dev.');\n  const reloading = false;\n  const Bokeh = root.Bokeh;\n\n  // Set a timeout for this load but only if we are not already initializing\n  if (typeof (root._bokeh_timeout) === \"undefined\" || (force || !root._bokeh_is_initializing)) {\n    root._bokeh_timeout = Date.now() + 5000;\n    root._bokeh_failed_load = false;\n  }\n\n  function run_callbacks() {\n    try {\n      root._bokeh_onload_callbacks.forEach(function(callback) {\n        if (callback != null)\n          callback();\n      });\n    } finally {\n      delete root._bokeh_onload_callbacks;\n    }\n    console.debug(\"Bokeh: all callbacks have finished\");\n  }\n\n  function load_libs(css_urls, js_urls, js_modules, js_exports, callback) {\n    if (css_urls == null) css_urls = [];\n    if (js_urls == null) js_urls = [];\n    if (js_modules == null) js_modules = [];\n    if (js_exports == null) js_exports = {};\n\n    root._bokeh_onload_callbacks.push(callback);\n\n    if (root._bokeh_is_loading > 0) {\n      // Don't load bokeh if it is still initializing\n      console.debug(\"Bokeh: BokehJS is being loaded, scheduling callback at\", now());\n      return null;\n    } else if (js_urls.length === 0 && js_modules.length === 0 && Object.keys(js_exports).length === 0) {\n      // There is nothing to load\n      run_callbacks();\n      return null;\n    }\n\n    function on_load() {\n      root._bokeh_is_loading--;\n      if (root._bokeh_is_loading === 0) {\n        console.debug(\"Bokeh: all BokehJS libraries/stylesheets loaded\");\n        run_callbacks()\n      }\n    }\n    window._bokeh_on_load = on_load\n\n    function on_error(e) {\n      const src_el = e.srcElement\n      console.error(\"failed to load \" + (src_el.href || src_el.src));\n    }\n\n    const skip = [];\n    if (window.requirejs) {\n      window.requirejs.config({'packages': {}, 'paths': {}, 'shim': {}});\n      root._bokeh_is_loading = css_urls.length + 0;\n    } else {\n      root._bokeh_is_loading = css_urls.length + js_urls.length + js_modules.length + Object.keys(js_exports).length;\n    }\n\n    const existing_stylesheets = []\n    const links = document.getElementsByTagName('link')\n    for (let i = 0; i < links.length; i++) {\n      const link = links[i]\n      if (link.href != null) {\n        existing_stylesheets.push(link.href)\n      }\n    }\n    for (let i = 0; i < css_urls.length; i++) {\n      const url = css_urls[i];\n      const escaped = encodeURI(url)\n      if (existing_stylesheets.indexOf(escaped) !== -1) {\n        on_load()\n        continue;\n      }\n      const element = document.createElement(\"link\");\n      element.onload = on_load;\n      element.onerror = on_error;\n      element.rel = \"stylesheet\";\n      element.type = \"text/css\";\n      element.href = url;\n      console.debug(\"Bokeh: injecting link tag for BokehJS stylesheet: \", url);\n      document.body.appendChild(element);\n    }    var existing_scripts = []\n    const scripts = document.getElementsByTagName('script')\n    for (let i = 0; i < scripts.length; i++) {\n      var script = scripts[i]\n      if (script.src != null) {\n        existing_scripts.push(script.src)\n      }\n    }\n    for (let i = 0; i < js_urls.length; i++) {\n      const url = js_urls[i];\n      const escaped = encodeURI(url)\n      if (skip.indexOf(escaped) !== -1 || existing_scripts.indexOf(escaped) !== -1) {\n        if (!window.requirejs) {\n          on_load();\n        }\n        continue;\n      }\n      const element = document.createElement('script');\n      element.onload = on_load;\n      element.onerror = on_error;\n      element.async = false;\n      element.src = url;\n      console.debug(\"Bokeh: injecting script tag for BokehJS library: \", url);\n      document.head.appendChild(element);\n    }\n    for (let i = 0; i < js_modules.length; i++) {\n      const url = js_modules[i];\n      const escaped = encodeURI(url)\n      if (skip.indexOf(escaped) !== -1 || existing_scripts.indexOf(escaped) !== -1) {\n        if (!window.requirejs) {\n          on_load();\n        }\n        continue;\n      }\n      var element = document.createElement('script');\n      element.onload = on_load;\n      element.onerror = on_error;\n      element.async = false;\n      element.src = url;\n      element.type = \"module\";\n      console.debug(\"Bokeh: injecting script tag for BokehJS library: \", url);\n      document.head.appendChild(element);\n    }\n    for (const name in js_exports) {\n      const url = js_exports[name];\n      const escaped = encodeURI(url)\n      if (skip.indexOf(escaped) >= 0 || root[name] != null) {\n        if (!window.requirejs) {\n          on_load();\n        }\n        continue;\n      }\n      var element = document.createElement('script');\n      element.onerror = on_error;\n      element.async = false;\n      element.type = \"module\";\n      console.debug(\"Bokeh: injecting script tag for BokehJS library: \", url);\n      element.textContent = `\n      import ${name} from \"${url}\"\n      window.${name} = ${name}\n      window._bokeh_on_load()\n      `\n      document.head.appendChild(element);\n    }\n    if (!js_urls.length && !js_modules.length) {\n      on_load()\n    }\n  };\n\n  function inject_raw_css(css) {\n    const element = document.createElement(\"style\");\n    element.appendChild(document.createTextNode(css));\n    document.body.appendChild(element);\n  }\n\n  const js_urls = [\"https://cdn.holoviz.org/panel/1.6.3/dist/bundled/reactiveesm/es-module-shims@^1.10.0/dist/es-module-shims.min.js\", \"https://cdn.bokeh.org/bokeh/release/bokeh-3.6.3.min.js\", \"https://cdn.bokeh.org/bokeh/release/bokeh-gl-3.6.3.min.js\", \"https://cdn.bokeh.org/bokeh/release/bokeh-widgets-3.6.3.min.js\", \"https://cdn.bokeh.org/bokeh/release/bokeh-tables-3.6.3.min.js\", \"https://cdn.holoviz.org/panel/1.6.3/dist/panel.min.js\"];\n  const js_modules = [];\n  const js_exports = {};\n  const css_urls = [];\n  const inline_js = [    function(Bokeh) {\n      Bokeh.set_log_level(\"info\");\n    },\nfunction(Bokeh) {} // ensure no trailing comma for IE\n  ];\n\n  function run_inline_js() {\n    if ((root.Bokeh !== undefined) || (force === true)) {\n      for (let i = 0; i < inline_js.length; i++) {\n        try {\n          inline_js[i].call(root, root.Bokeh);\n        } catch(e) {\n          if (!reloading) {\n            throw e;\n          }\n        }\n      }\n      // Cache old bokeh versions\n      if (Bokeh != undefined && !reloading) {\n        var NewBokeh = root.Bokeh;\n        if (Bokeh.versions === undefined) {\n          Bokeh.versions = new Map();\n        }\n        if (NewBokeh.version !== Bokeh.version) {\n          Bokeh.versions.set(NewBokeh.version, NewBokeh)\n        }\n        root.Bokeh = Bokeh;\n      }\n    } else if (Date.now() < root._bokeh_timeout) {\n      setTimeout(run_inline_js, 100);\n    } else if (!root._bokeh_failed_load) {\n      console.log(\"Bokeh: BokehJS failed to load within specified timeout.\");\n      root._bokeh_failed_load = true;\n    }\n    root._bokeh_is_initializing = false\n  }\n\n  function load_or_wait() {\n    // Implement a backoff loop that tries to ensure we do not load multiple\n    // versions of Bokeh and its dependencies at the same time.\n    // In recent versions we use the root._bokeh_is_initializing flag\n    // to determine whether there is an ongoing attempt to initialize\n    // bokeh, however for backward compatibility we also try to ensure\n    // that we do not start loading a newer (Panel>=1.0 and Bokeh>3) version\n    // before older versions are fully initialized.\n    if (root._bokeh_is_initializing && Date.now() > root._bokeh_timeout) {\n      // If the timeout and bokeh was not successfully loaded we reset\n      // everything and try loading again\n      root._bokeh_timeout = Date.now() + 5000;\n      root._bokeh_is_initializing = false;\n      root._bokeh_onload_callbacks = undefined;\n      root._bokeh_is_loading = 0\n      console.log(\"Bokeh: BokehJS was loaded multiple times but one version failed to initialize.\");\n      load_or_wait();\n    } else if (root._bokeh_is_initializing || (typeof root._bokeh_is_initializing === \"undefined\" && root._bokeh_onload_callbacks !== undefined)) {\n      setTimeout(load_or_wait, 100);\n    } else {\n      root._bokeh_is_initializing = true\n      root._bokeh_onload_callbacks = []\n      const bokeh_loaded = root.Bokeh != null && (root.Bokeh.version === py_version || (root.Bokeh.versions !== undefined && root.Bokeh.versions.has(py_version)));\n      if (!reloading && !bokeh_loaded) {\n        if (root.Bokeh) {\n          root.Bokeh = undefined;\n        }\n        console.debug(\"Bokeh: BokehJS not loaded, scheduling load and callback at\", now());\n      }\n      load_libs(css_urls, js_urls, js_modules, js_exports, function() {\n        console.debug(\"Bokeh: BokehJS plotting callback run at\", now());\n        run_inline_js();\n      });\n    }\n  }\n  // Give older versions of the autoload script a head-start to ensure\n  // they initialize before we start loading newer version.\n  setTimeout(load_or_wait, 100)\n}(window));"
     },
     "metadata": {},
     "output_type": "display_data"
    },
    {
     "data": {
      "application/vnd.holoviews_load.v0+json": "\nif ((window.PyViz === undefined) || (window.PyViz instanceof HTMLElement)) {\n  window.PyViz = {comms: {}, comm_status:{}, kernels:{}, receivers: {}, plot_index: []}\n}\n\n\n    function JupyterCommManager() {\n    }\n\n    JupyterCommManager.prototype.register_target = function(plot_id, comm_id, msg_handler) {\n      if (window.comm_manager || ((window.Jupyter !== undefined) && (Jupyter.notebook.kernel != null))) {\n        var comm_manager = window.comm_manager || Jupyter.notebook.kernel.comm_manager;\n        comm_manager.register_target(comm_id, function(comm) {\n          comm.on_msg(msg_handler);\n        });\n      } else if ((plot_id in window.PyViz.kernels) && (window.PyViz.kernels[plot_id])) {\n        window.PyViz.kernels[plot_id].registerCommTarget(comm_id, function(comm) {\n          comm.onMsg = msg_handler;\n        });\n      } else if (typeof google != 'undefined' && google.colab.kernel != null) {\n        google.colab.kernel.comms.registerTarget(comm_id, (comm) => {\n          var messages = comm.messages[Symbol.asyncIterator]();\n          function processIteratorResult(result) {\n            var message = result.value;\n            console.log(message)\n            var content = {data: message.data, comm_id};\n            var buffers = []\n            for (var buffer of message.buffers || []) {\n              buffers.push(new DataView(buffer))\n            }\n            var metadata = message.metadata || {};\n            var msg = {content, buffers, metadata}\n            msg_handler(msg);\n            return messages.next().then(processIteratorResult);\n          }\n          return messages.next().then(processIteratorResult);\n        })\n      }\n    }\n\n    JupyterCommManager.prototype.get_client_comm = function(plot_id, comm_id, msg_handler) {\n      if (comm_id in window.PyViz.comms) {\n        return window.PyViz.comms[comm_id];\n      } else if (window.comm_manager || ((window.Jupyter !== undefined) && (Jupyter.notebook.kernel != null))) {\n        var comm_manager = window.comm_manager || Jupyter.notebook.kernel.comm_manager;\n        var comm = comm_manager.new_comm(comm_id, {}, {}, {}, comm_id);\n        if (msg_handler) {\n          comm.on_msg(msg_handler);\n        }\n      } else if ((plot_id in window.PyViz.kernels) && (window.PyViz.kernels[plot_id])) {\n        var comm = window.PyViz.kernels[plot_id].connectToComm(comm_id);\n        comm.open();\n        if (msg_handler) {\n          comm.onMsg = msg_handler;\n        }\n      } else if (typeof google != 'undefined' && google.colab.kernel != null) {\n        var comm_promise = google.colab.kernel.comms.open(comm_id)\n        comm_promise.then((comm) => {\n          window.PyViz.comms[comm_id] = comm;\n          if (msg_handler) {\n            var messages = comm.messages[Symbol.asyncIterator]();\n            function processIteratorResult(result) {\n              var message = result.value;\n              var content = {data: message.data};\n              var metadata = message.metadata || {comm_id};\n              var msg = {content, metadata}\n              msg_handler(msg);\n              return messages.next().then(processIteratorResult);\n            }\n            return messages.next().then(processIteratorResult);\n          }\n        })\n        var sendClosure = (data, metadata, buffers, disposeOnDone) => {\n          return comm_promise.then((comm) => {\n            comm.send(data, metadata, buffers, disposeOnDone);\n          });\n        };\n        var comm = {\n          send: sendClosure\n        };\n      }\n      window.PyViz.comms[comm_id] = comm;\n      return comm;\n    }\n    window.PyViz.comm_manager = new JupyterCommManager();\n    \n\n\nvar JS_MIME_TYPE = 'application/javascript';\nvar HTML_MIME_TYPE = 'text/html';\nvar EXEC_MIME_TYPE = 'application/vnd.holoviews_exec.v0+json';\nvar CLASS_NAME = 'output';\n\n/**\n * Render data to the DOM node\n */\nfunction render(props, node) {\n  var div = document.createElement(\"div\");\n  var script = document.createElement(\"script\");\n  node.appendChild(div);\n  node.appendChild(script);\n}\n\n/**\n * Handle when a new output is added\n */\nfunction handle_add_output(event, handle) {\n  var output_area = handle.output_area;\n  var output = handle.output;\n  if ((output.data == undefined) || (!output.data.hasOwnProperty(EXEC_MIME_TYPE))) {\n    return\n  }\n  var id = output.metadata[EXEC_MIME_TYPE][\"id\"];\n  var toinsert = output_area.element.find(\".\" + CLASS_NAME.split(' ')[0]);\n  if (id !== undefined) {\n    var nchildren = toinsert.length;\n    var html_node = toinsert[nchildren-1].children[0];\n    html_node.innerHTML = output.data[HTML_MIME_TYPE];\n    var scripts = [];\n    var nodelist = html_node.querySelectorAll(\"script\");\n    for (var i in nodelist) {\n      if (nodelist.hasOwnProperty(i)) {\n        scripts.push(nodelist[i])\n      }\n    }\n\n    scripts.forEach( function (oldScript) {\n      var newScript = document.createElement(\"script\");\n      var attrs = [];\n      var nodemap = oldScript.attributes;\n      for (var j in nodemap) {\n        if (nodemap.hasOwnProperty(j)) {\n          attrs.push(nodemap[j])\n        }\n      }\n      attrs.forEach(function(attr) { newScript.setAttribute(attr.name, attr.value) });\n      newScript.appendChild(document.createTextNode(oldScript.innerHTML));\n      oldScript.parentNode.replaceChild(newScript, oldScript);\n    });\n    if (JS_MIME_TYPE in output.data) {\n      toinsert[nchildren-1].children[1].textContent = output.data[JS_MIME_TYPE];\n    }\n    output_area._hv_plot_id = id;\n    if ((window.Bokeh !== undefined) && (id in Bokeh.index)) {\n      window.PyViz.plot_index[id] = Bokeh.index[id];\n    } else {\n      window.PyViz.plot_index[id] = null;\n    }\n  } else if (output.metadata[EXEC_MIME_TYPE][\"server_id\"] !== undefined) {\n    var bk_div = document.createElement(\"div\");\n    bk_div.innerHTML = output.data[HTML_MIME_TYPE];\n    var script_attrs = bk_div.children[0].attributes;\n    for (var i = 0; i < script_attrs.length; i++) {\n      toinsert[toinsert.length - 1].childNodes[1].setAttribute(script_attrs[i].name, script_attrs[i].value);\n    }\n    // store reference to server id on output_area\n    output_area._bokeh_server_id = output.metadata[EXEC_MIME_TYPE][\"server_id\"];\n  }\n}\n\n/**\n * Handle when an output is cleared or removed\n */\nfunction handle_clear_output(event, handle) {\n  var id = handle.cell.output_area._hv_plot_id;\n  var server_id = handle.cell.output_area._bokeh_server_id;\n  if (((id === undefined) || !(id in PyViz.plot_index)) && (server_id !== undefined)) { return; }\n  var comm = window.PyViz.comm_manager.get_client_comm(\"hv-extension-comm\", \"hv-extension-comm\", function () {});\n  if (server_id !== null) {\n    comm.send({event_type: 'server_delete', 'id': server_id});\n    return;\n  } else if (comm !== null) {\n    comm.send({event_type: 'delete', 'id': id});\n  }\n  delete PyViz.plot_index[id];\n  if ((window.Bokeh !== undefined) & (id in window.Bokeh.index)) {\n    var doc = window.Bokeh.index[id].model.document\n    doc.clear();\n    const i = window.Bokeh.documents.indexOf(doc);\n    if (i > -1) {\n      window.Bokeh.documents.splice(i, 1);\n    }\n  }\n}\n\n/**\n * Handle kernel restart event\n */\nfunction handle_kernel_cleanup(event, handle) {\n  delete PyViz.comms[\"hv-extension-comm\"];\n  window.PyViz.plot_index = {}\n}\n\n/**\n * Handle update_display_data messages\n */\nfunction handle_update_output(event, handle) {\n  handle_clear_output(event, {cell: {output_area: handle.output_area}})\n  handle_add_output(event, handle)\n}\n\nfunction register_renderer(events, OutputArea) {\n  function append_mime(data, metadata, element) {\n    // create a DOM node to render to\n    var toinsert = this.create_output_subarea(\n    metadata,\n    CLASS_NAME,\n    EXEC_MIME_TYPE\n    );\n    this.keyboard_manager.register_events(toinsert);\n    // Render to node\n    var props = {data: data, metadata: metadata[EXEC_MIME_TYPE]};\n    render(props, toinsert[0]);\n    element.append(toinsert);\n    return toinsert\n  }\n\n  events.on('output_added.OutputArea', handle_add_output);\n  events.on('output_updated.OutputArea', handle_update_output);\n  events.on('clear_output.CodeCell', handle_clear_output);\n  events.on('delete.Cell', handle_clear_output);\n  events.on('kernel_ready.Kernel', handle_kernel_cleanup);\n\n  OutputArea.prototype.register_mime_type(EXEC_MIME_TYPE, append_mime, {\n    safe: true,\n    index: 0\n  });\n}\n\nif (window.Jupyter !== undefined) {\n  try {\n    var events = require('base/js/events');\n    var OutputArea = require('notebook/js/outputarea').OutputArea;\n    if (OutputArea.prototype.mime_types().indexOf(EXEC_MIME_TYPE) == -1) {\n      register_renderer(events, OutputArea);\n    }\n  } catch(err) {\n  }\n}\n",
      "application/javascript": "\nif ((window.PyViz === undefined) || (window.PyViz instanceof HTMLElement)) {\n  window.PyViz = {comms: {}, comm_status:{}, kernels:{}, receivers: {}, plot_index: []}\n}\n\n\n    function JupyterCommManager() {\n    }\n\n    JupyterCommManager.prototype.register_target = function(plot_id, comm_id, msg_handler) {\n      if (window.comm_manager || ((window.Jupyter !== undefined) && (Jupyter.notebook.kernel != null))) {\n        var comm_manager = window.comm_manager || Jupyter.notebook.kernel.comm_manager;\n        comm_manager.register_target(comm_id, function(comm) {\n          comm.on_msg(msg_handler);\n        });\n      } else if ((plot_id in window.PyViz.kernels) && (window.PyViz.kernels[plot_id])) {\n        window.PyViz.kernels[plot_id].registerCommTarget(comm_id, function(comm) {\n          comm.onMsg = msg_handler;\n        });\n      } else if (typeof google != 'undefined' && google.colab.kernel != null) {\n        google.colab.kernel.comms.registerTarget(comm_id, (comm) => {\n          var messages = comm.messages[Symbol.asyncIterator]();\n          function processIteratorResult(result) {\n            var message = result.value;\n            console.log(message)\n            var content = {data: message.data, comm_id};\n            var buffers = []\n            for (var buffer of message.buffers || []) {\n              buffers.push(new DataView(buffer))\n            }\n            var metadata = message.metadata || {};\n            var msg = {content, buffers, metadata}\n            msg_handler(msg);\n            return messages.next().then(processIteratorResult);\n          }\n          return messages.next().then(processIteratorResult);\n        })\n      }\n    }\n\n    JupyterCommManager.prototype.get_client_comm = function(plot_id, comm_id, msg_handler) {\n      if (comm_id in window.PyViz.comms) {\n        return window.PyViz.comms[comm_id];\n      } else if (window.comm_manager || ((window.Jupyter !== undefined) && (Jupyter.notebook.kernel != null))) {\n        var comm_manager = window.comm_manager || Jupyter.notebook.kernel.comm_manager;\n        var comm = comm_manager.new_comm(comm_id, {}, {}, {}, comm_id);\n        if (msg_handler) {\n          comm.on_msg(msg_handler);\n        }\n      } else if ((plot_id in window.PyViz.kernels) && (window.PyViz.kernels[plot_id])) {\n        var comm = window.PyViz.kernels[plot_id].connectToComm(comm_id);\n        comm.open();\n        if (msg_handler) {\n          comm.onMsg = msg_handler;\n        }\n      } else if (typeof google != 'undefined' && google.colab.kernel != null) {\n        var comm_promise = google.colab.kernel.comms.open(comm_id)\n        comm_promise.then((comm) => {\n          window.PyViz.comms[comm_id] = comm;\n          if (msg_handler) {\n            var messages = comm.messages[Symbol.asyncIterator]();\n            function processIteratorResult(result) {\n              var message = result.value;\n              var content = {data: message.data};\n              var metadata = message.metadata || {comm_id};\n              var msg = {content, metadata}\n              msg_handler(msg);\n              return messages.next().then(processIteratorResult);\n            }\n            return messages.next().then(processIteratorResult);\n          }\n        })\n        var sendClosure = (data, metadata, buffers, disposeOnDone) => {\n          return comm_promise.then((comm) => {\n            comm.send(data, metadata, buffers, disposeOnDone);\n          });\n        };\n        var comm = {\n          send: sendClosure\n        };\n      }\n      window.PyViz.comms[comm_id] = comm;\n      return comm;\n    }\n    window.PyViz.comm_manager = new JupyterCommManager();\n    \n\n\nvar JS_MIME_TYPE = 'application/javascript';\nvar HTML_MIME_TYPE = 'text/html';\nvar EXEC_MIME_TYPE = 'application/vnd.holoviews_exec.v0+json';\nvar CLASS_NAME = 'output';\n\n/**\n * Render data to the DOM node\n */\nfunction render(props, node) {\n  var div = document.createElement(\"div\");\n  var script = document.createElement(\"script\");\n  node.appendChild(div);\n  node.appendChild(script);\n}\n\n/**\n * Handle when a new output is added\n */\nfunction handle_add_output(event, handle) {\n  var output_area = handle.output_area;\n  var output = handle.output;\n  if ((output.data == undefined) || (!output.data.hasOwnProperty(EXEC_MIME_TYPE))) {\n    return\n  }\n  var id = output.metadata[EXEC_MIME_TYPE][\"id\"];\n  var toinsert = output_area.element.find(\".\" + CLASS_NAME.split(' ')[0]);\n  if (id !== undefined) {\n    var nchildren = toinsert.length;\n    var html_node = toinsert[nchildren-1].children[0];\n    html_node.innerHTML = output.data[HTML_MIME_TYPE];\n    var scripts = [];\n    var nodelist = html_node.querySelectorAll(\"script\");\n    for (var i in nodelist) {\n      if (nodelist.hasOwnProperty(i)) {\n        scripts.push(nodelist[i])\n      }\n    }\n\n    scripts.forEach( function (oldScript) {\n      var newScript = document.createElement(\"script\");\n      var attrs = [];\n      var nodemap = oldScript.attributes;\n      for (var j in nodemap) {\n        if (nodemap.hasOwnProperty(j)) {\n          attrs.push(nodemap[j])\n        }\n      }\n      attrs.forEach(function(attr) { newScript.setAttribute(attr.name, attr.value) });\n      newScript.appendChild(document.createTextNode(oldScript.innerHTML));\n      oldScript.parentNode.replaceChild(newScript, oldScript);\n    });\n    if (JS_MIME_TYPE in output.data) {\n      toinsert[nchildren-1].children[1].textContent = output.data[JS_MIME_TYPE];\n    }\n    output_area._hv_plot_id = id;\n    if ((window.Bokeh !== undefined) && (id in Bokeh.index)) {\n      window.PyViz.plot_index[id] = Bokeh.index[id];\n    } else {\n      window.PyViz.plot_index[id] = null;\n    }\n  } else if (output.metadata[EXEC_MIME_TYPE][\"server_id\"] !== undefined) {\n    var bk_div = document.createElement(\"div\");\n    bk_div.innerHTML = output.data[HTML_MIME_TYPE];\n    var script_attrs = bk_div.children[0].attributes;\n    for (var i = 0; i < script_attrs.length; i++) {\n      toinsert[toinsert.length - 1].childNodes[1].setAttribute(script_attrs[i].name, script_attrs[i].value);\n    }\n    // store reference to server id on output_area\n    output_area._bokeh_server_id = output.metadata[EXEC_MIME_TYPE][\"server_id\"];\n  }\n}\n\n/**\n * Handle when an output is cleared or removed\n */\nfunction handle_clear_output(event, handle) {\n  var id = handle.cell.output_area._hv_plot_id;\n  var server_id = handle.cell.output_area._bokeh_server_id;\n  if (((id === undefined) || !(id in PyViz.plot_index)) && (server_id !== undefined)) { return; }\n  var comm = window.PyViz.comm_manager.get_client_comm(\"hv-extension-comm\", \"hv-extension-comm\", function () {});\n  if (server_id !== null) {\n    comm.send({event_type: 'server_delete', 'id': server_id});\n    return;\n  } else if (comm !== null) {\n    comm.send({event_type: 'delete', 'id': id});\n  }\n  delete PyViz.plot_index[id];\n  if ((window.Bokeh !== undefined) & (id in window.Bokeh.index)) {\n    var doc = window.Bokeh.index[id].model.document\n    doc.clear();\n    const i = window.Bokeh.documents.indexOf(doc);\n    if (i > -1) {\n      window.Bokeh.documents.splice(i, 1);\n    }\n  }\n}\n\n/**\n * Handle kernel restart event\n */\nfunction handle_kernel_cleanup(event, handle) {\n  delete PyViz.comms[\"hv-extension-comm\"];\n  window.PyViz.plot_index = {}\n}\n\n/**\n * Handle update_display_data messages\n */\nfunction handle_update_output(event, handle) {\n  handle_clear_output(event, {cell: {output_area: handle.output_area}})\n  handle_add_output(event, handle)\n}\n\nfunction register_renderer(events, OutputArea) {\n  function append_mime(data, metadata, element) {\n    // create a DOM node to render to\n    var toinsert = this.create_output_subarea(\n    metadata,\n    CLASS_NAME,\n    EXEC_MIME_TYPE\n    );\n    this.keyboard_manager.register_events(toinsert);\n    // Render to node\n    var props = {data: data, metadata: metadata[EXEC_MIME_TYPE]};\n    render(props, toinsert[0]);\n    element.append(toinsert);\n    return toinsert\n  }\n\n  events.on('output_added.OutputArea', handle_add_output);\n  events.on('output_updated.OutputArea', handle_update_output);\n  events.on('clear_output.CodeCell', handle_clear_output);\n  events.on('delete.Cell', handle_clear_output);\n  events.on('kernel_ready.Kernel', handle_kernel_cleanup);\n\n  OutputArea.prototype.register_mime_type(EXEC_MIME_TYPE, append_mime, {\n    safe: true,\n    index: 0\n  });\n}\n\nif (window.Jupyter !== undefined) {\n  try {\n    var events = require('base/js/events');\n    var OutputArea = require('notebook/js/outputarea').OutputArea;\n    if (OutputArea.prototype.mime_types().indexOf(EXEC_MIME_TYPE) == -1) {\n      register_renderer(events, OutputArea);\n    }\n  } catch(err) {\n  }\n}\n"
     },
     "metadata": {},
     "output_type": "display_data"
    },
    {
     "data": {
      "text/html": [
       "<div id='4c09fed0-d7a8-41ab-ba45-381615108140'>\n",
       "  <div id=\"aadaa21d-d5cf-4d97-b6c0-36b850c4b77d\" data-root-id=\"4c09fed0-d7a8-41ab-ba45-381615108140\" style=\"display: contents;\"></div>\n",
       "</div>\n",
       "<script type=\"application/javascript\">(function(root) {\n",
       "  var docs_json = {\"bc5ad9d6-85ad-4970-8186-11a104922e3f\":{\"version\":\"3.6.3\",\"title\":\"Bokeh Application\",\"roots\":[{\"type\":\"object\",\"name\":\"panel.models.browser.BrowserInfo\",\"id\":\"4c09fed0-d7a8-41ab-ba45-381615108140\"},{\"type\":\"object\",\"name\":\"panel.models.comm_manager.CommManager\",\"id\":\"af80d626-1fa2-4c75-9123-f64605823fc7\",\"attributes\":{\"plot_id\":\"4c09fed0-d7a8-41ab-ba45-381615108140\",\"comm_id\":\"b4acb461382344afbf51ef1db974a386\",\"client_comm_id\":\"0e21552515534f4b958452d9175ff20e\"}}],\"defs\":[{\"type\":\"model\",\"name\":\"ReactiveHTML1\"},{\"type\":\"model\",\"name\":\"FlexBox1\",\"properties\":[{\"name\":\"align_content\",\"kind\":\"Any\",\"default\":\"flex-start\"},{\"name\":\"align_items\",\"kind\":\"Any\",\"default\":\"flex-start\"},{\"name\":\"flex_direction\",\"kind\":\"Any\",\"default\":\"row\"},{\"name\":\"flex_wrap\",\"kind\":\"Any\",\"default\":\"wrap\"},{\"name\":\"gap\",\"kind\":\"Any\",\"default\":\"\"},{\"name\":\"justify_content\",\"kind\":\"Any\",\"default\":\"flex-start\"}]},{\"type\":\"model\",\"name\":\"FloatPanel1\",\"properties\":[{\"name\":\"config\",\"kind\":\"Any\",\"default\":{\"type\":\"map\"}},{\"name\":\"contained\",\"kind\":\"Any\",\"default\":true},{\"name\":\"position\",\"kind\":\"Any\",\"default\":\"right-top\"},{\"name\":\"offsetx\",\"kind\":\"Any\",\"default\":null},{\"name\":\"offsety\",\"kind\":\"Any\",\"default\":null},{\"name\":\"theme\",\"kind\":\"Any\",\"default\":\"primary\"},{\"name\":\"status\",\"kind\":\"Any\",\"default\":\"normalized\"}]},{\"type\":\"model\",\"name\":\"GridStack1\",\"properties\":[{\"name\":\"ncols\",\"kind\":\"Any\",\"default\":null},{\"name\":\"nrows\",\"kind\":\"Any\",\"default\":null},{\"name\":\"allow_resize\",\"kind\":\"Any\",\"default\":true},{\"name\":\"allow_drag\",\"kind\":\"Any\",\"default\":true},{\"name\":\"state\",\"kind\":\"Any\",\"default\":[]}]},{\"type\":\"model\",\"name\":\"drag1\",\"properties\":[{\"name\":\"slider_width\",\"kind\":\"Any\",\"default\":5},{\"name\":\"slider_color\",\"kind\":\"Any\",\"default\":\"black\"},{\"name\":\"value\",\"kind\":\"Any\",\"default\":50}]},{\"type\":\"model\",\"name\":\"click1\",\"properties\":[{\"name\":\"terminal_output\",\"kind\":\"Any\",\"default\":\"\"},{\"name\":\"debug_name\",\"kind\":\"Any\",\"default\":\"\"},{\"name\":\"clears\",\"kind\":\"Any\",\"default\":0}]},{\"type\":\"model\",\"name\":\"FastWrapper1\",\"properties\":[{\"name\":\"object\",\"kind\":\"Any\",\"default\":null},{\"name\":\"style\",\"kind\":\"Any\",\"default\":null}]},{\"type\":\"model\",\"name\":\"NotificationArea1\",\"properties\":[{\"name\":\"js_events\",\"kind\":\"Any\",\"default\":{\"type\":\"map\"}},{\"name\":\"max_notifications\",\"kind\":\"Any\",\"default\":5},{\"name\":\"notifications\",\"kind\":\"Any\",\"default\":[]},{\"name\":\"position\",\"kind\":\"Any\",\"default\":\"bottom-right\"},{\"name\":\"_clear\",\"kind\":\"Any\",\"default\":0},{\"name\":\"types\",\"kind\":\"Any\",\"default\":[{\"type\":\"map\",\"entries\":[[\"type\",\"warning\"],[\"background\",\"#ffc107\"],[\"icon\",{\"type\":\"map\",\"entries\":[[\"className\",\"fas fa-exclamation-triangle\"],[\"tagName\",\"i\"],[\"color\",\"white\"]]}]]},{\"type\":\"map\",\"entries\":[[\"type\",\"info\"],[\"background\",\"#007bff\"],[\"icon\",{\"type\":\"map\",\"entries\":[[\"className\",\"fas fa-info-circle\"],[\"tagName\",\"i\"],[\"color\",\"white\"]]}]]}]}]},{\"type\":\"model\",\"name\":\"Notification\",\"properties\":[{\"name\":\"background\",\"kind\":\"Any\",\"default\":null},{\"name\":\"duration\",\"kind\":\"Any\",\"default\":3000},{\"name\":\"icon\",\"kind\":\"Any\",\"default\":null},{\"name\":\"message\",\"kind\":\"Any\",\"default\":\"\"},{\"name\":\"notification_type\",\"kind\":\"Any\",\"default\":null},{\"name\":\"_rendered\",\"kind\":\"Any\",\"default\":false},{\"name\":\"_destroyed\",\"kind\":\"Any\",\"default\":false}]},{\"type\":\"model\",\"name\":\"TemplateActions1\",\"properties\":[{\"name\":\"open_modal\",\"kind\":\"Any\",\"default\":0},{\"name\":\"close_modal\",\"kind\":\"Any\",\"default\":0}]},{\"type\":\"model\",\"name\":\"BootstrapTemplateActions1\",\"properties\":[{\"name\":\"open_modal\",\"kind\":\"Any\",\"default\":0},{\"name\":\"close_modal\",\"kind\":\"Any\",\"default\":0}]},{\"type\":\"model\",\"name\":\"TemplateEditor1\",\"properties\":[{\"name\":\"layout\",\"kind\":\"Any\",\"default\":[]}]},{\"type\":\"model\",\"name\":\"MaterialTemplateActions1\",\"properties\":[{\"name\":\"open_modal\",\"kind\":\"Any\",\"default\":0},{\"name\":\"close_modal\",\"kind\":\"Any\",\"default\":0}]},{\"type\":\"model\",\"name\":\"ReactiveESM1\",\"properties\":[{\"name\":\"esm_constants\",\"kind\":\"Any\",\"default\":{\"type\":\"map\"}}]},{\"type\":\"model\",\"name\":\"JSComponent1\",\"properties\":[{\"name\":\"esm_constants\",\"kind\":\"Any\",\"default\":{\"type\":\"map\"}}]},{\"type\":\"model\",\"name\":\"ReactComponent1\",\"properties\":[{\"name\":\"esm_constants\",\"kind\":\"Any\",\"default\":{\"type\":\"map\"}}]},{\"type\":\"model\",\"name\":\"AnyWidgetComponent1\",\"properties\":[{\"name\":\"esm_constants\",\"kind\":\"Any\",\"default\":{\"type\":\"map\"}}]},{\"type\":\"model\",\"name\":\"request_value1\",\"properties\":[{\"name\":\"fill\",\"kind\":\"Any\",\"default\":\"none\"},{\"name\":\"_synced\",\"kind\":\"Any\",\"default\":null},{\"name\":\"_request_sync\",\"kind\":\"Any\",\"default\":0}]}]}};\n",
       "  var render_items = [{\"docid\":\"bc5ad9d6-85ad-4970-8186-11a104922e3f\",\"roots\":{\"4c09fed0-d7a8-41ab-ba45-381615108140\":\"aadaa21d-d5cf-4d97-b6c0-36b850c4b77d\"},\"root_ids\":[\"4c09fed0-d7a8-41ab-ba45-381615108140\"]}];\n",
       "  var docs = Object.values(docs_json)\n",
       "  if (!docs) {\n",
       "    return\n",
       "  }\n",
       "  const py_version = docs[0].version.replace('rc', '-rc.').replace('.dev', '-dev.')\n",
       "  async function embed_document(root) {\n",
       "    var Bokeh = get_bokeh(root)\n",
       "    await Bokeh.embed.embed_items_notebook(docs_json, render_items);\n",
       "    for (const render_item of render_items) {\n",
       "      for (const root_id of render_item.root_ids) {\n",
       "\tconst id_el = document.getElementById(root_id)\n",
       "\tif (id_el.children.length && id_el.children[0].hasAttribute('data-root-id')) {\n",
       "\t  const root_el = id_el.children[0]\n",
       "\t  root_el.id = root_el.id + '-rendered'\n",
       "\t  for (const child of root_el.children) {\n",
       "            // Ensure JupyterLab does not capture keyboard shortcuts\n",
       "            // see: https://jupyterlab.readthedocs.io/en/4.1.x/extension/notebook.html#keyboard-interaction-model\n",
       "\t    child.setAttribute('data-lm-suppress-shortcuts', 'true')\n",
       "\t  }\n",
       "\t}\n",
       "      }\n",
       "    }\n",
       "  }\n",
       "  function get_bokeh(root) {\n",
       "    if (root.Bokeh === undefined) {\n",
       "      return null\n",
       "    } else if (root.Bokeh.version !== py_version) {\n",
       "      if (root.Bokeh.versions === undefined || !root.Bokeh.versions.has(py_version)) {\n",
       "\treturn null\n",
       "      }\n",
       "      return root.Bokeh.versions.get(py_version);\n",
       "    } else if (root.Bokeh.version === py_version) {\n",
       "      return root.Bokeh\n",
       "    }\n",
       "    return null\n",
       "  }\n",
       "  function is_loaded(root) {\n",
       "    var Bokeh = get_bokeh(root)\n",
       "    return (Bokeh != null && Bokeh.Panel !== undefined)\n",
       "  }\n",
       "  if (is_loaded(root)) {\n",
       "    embed_document(root);\n",
       "  } else {\n",
       "    var attempts = 0;\n",
       "    var timer = setInterval(function(root) {\n",
       "      if (is_loaded(root)) {\n",
       "        clearInterval(timer);\n",
       "        embed_document(root);\n",
       "      } else if (document.readyState == \"complete\") {\n",
       "        attempts++;\n",
       "        if (attempts > 200) {\n",
       "          clearInterval(timer);\n",
       "\t  var Bokeh = get_bokeh(root)\n",
       "\t  if (Bokeh == null || Bokeh.Panel == null) {\n",
       "            console.warn(\"Panel: ERROR: Unable to run Panel code because Bokeh or Panel library is missing\");\n",
       "\t  } else {\n",
       "\t    console.warn(\"Panel: WARNING: Attempting to render but not all required libraries could be resolved.\")\n",
       "\t    embed_document(root)\n",
       "\t  }\n",
       "        }\n",
       "      }\n",
       "    }, 25, root)\n",
       "  }\n",
       "})(window);</script>"
      ],
      "application/vnd.holoviews_exec.v0+json": ""
     },
     "metadata": {
      "application/vnd.holoviews_exec.v0+json": {
       "id": "4c09fed0-d7a8-41ab-ba45-381615108140"
      }
     },
     "output_type": "display_data"
    },
    {
     "data": {
      "text/html": [
       "\n",
       "<div class=\"logo-block\">\n",
       "<img src='data:image/png;base64,iVBORw0KGgoAAAANSUhEUgAAAEAAAABACAYAAACqaXHeAAAABHNCSVQICAgIfAhkiAAAAAlwSFlz\n",
       "AAAB+wAAAfsBxc2miwAAABl0RVh0U29mdHdhcmUAd3d3Lmlua3NjYXBlLm9yZ5vuPBoAAA6zSURB\n",
       "VHic7ZtpeFRVmsf/5966taWqUlUJ2UioBBJiIBAwCZtog9IOgjqACsogKtqirT2ttt069nQ/zDzt\n",
       "tI4+CrJIREFaFgWhBXpUNhHZQoKBkIUASchWla1S+3ar7r1nPkDaCAnZKoQP/D7mnPOe9/xy76n3\n",
       "nFSAW9ziFoPFNED2LLK5wcyBDObkb8ZkxuaoSYlI6ZcOKq1eWFdedqNzGHQBk9RMEwFAASkk0Xw3\n",
       "ETacDNi2vtvc7L0ROdw0AjoSotQVkKSvHQz/wRO1lScGModBFbDMaNRN1A4tUBCS3lk7BWhQkgpD\n",
       "lG4852/+7DWr1R3uHAZVQDsbh6ZPN7CyxUrCzJMRouusj0ipRwD2uKm0Zn5d2dFwzX1TCGhnmdGo\n",
       "G62Nna+isiUqhkzuKrkQaJlPEv5mFl2fvGg2t/VnzkEV8F5ioioOEWkLG86fvbpthynjdhXYZziQ\n",
       "x1hC9J2NFyi8vCTt91Fh04KGip0AaG9zuCk2wQCVyoNU3Hjezee9bq92duzzTmxsRJoy+jEZZZYo\n",
       "GTKJ6SJngdJqAfRzpze0+jHreUtPc7gpBLQnIYK6BYp/uGhw9YK688eu7v95ysgshcg9qSLMo3JC\n",
       "4jqLKQFBgdKDPoQ+Pltb8dUyQLpeDjeVgI6EgLIQFT5tEl3rn2losHVsexbZ3EyT9wE1uGdkIPcy\n",
       "BGxn8QUq1QrA5nqW5i2tLqvrrM9NK6AdkVIvL9E9bZL/oyfMVd/jqvc8LylzRBKDJSzIExwhQzuL\n",
       "QYGQj4rHfFTc8mUdu3E7yoLtbTe9gI4EqVgVkug2i5+uXGo919ixbRog+3fTbQ8qJe4ZOYNfMoTI\n",
       "OoshUNosgO60AisX15aeI2PSIp5KiFLI9ubb1vV3Qb2ltwLakUCDAkWX7/nHKRmmGIl9VgYsUhJm\n",
       "2NXjKYADtM1ygne9QQDIXlk49FBstMKx66D1v4+XuQr7vqTe0VcBHQlRWiOCbmmSYe2SqtL6q5rJ\n",
       "zsTb7lKx3FKOYC4DoqyS/B5bvLPxvD9Qtf6saxYLQGJErmDOdOMr/zo96km1nElr8bmPOBwI9COv\n",
       "HnFPRIwmkSOv9kcAS4heRsidOkpeWBgZM+UBrTFAXNYL5Vf2ii9c1trNzpYdaoVil3WIc+wdk+gQ\n",
       "noie3ecCcxt9ITcLAPWt/laGEO/9U6PmzZkenTtsSMQ8uYywJVW+grCstAvCIaAdArAsIWkRDDs/\n",
       "KzLm2YcjY1Lv0UdW73HabE9n6V66cxSzfEmuJssTpKGVp+0vHq73FwL46eOjpMpbRAnNmJFrGJNu\n",
       "Ukf9Yrz+3rghiumCKNXXWPhLYcjxGsIpoCMsIRoFITkW8AuyM8jC1+/QLx4bozCEJIq38+1rtpR6\n",
       "V/yzb8eBlRb3fo5l783N0CWolAzJHaVNzkrTzlEp2bQ2q3TC5gn6wpnoQAmwSiGh2GitnTmVMc5O\n",
       "UyfKWUKCIsU7+fZDKwqdT6DDpvkzAX4/+AMFjk0tDp5GRXLpQ2MUmhgDp5gxQT8+Y7hyPsMi8uxF\n",
       "71H0oebujHALECjFKaW9Lm68n18wXp2kVzIcABytD5iXFzg+WVXkegpAsOOYziqo0OkK76GyquC3\n",
       "ltZAzMhhqlSNmmWTE5T6e3IN05ITFLM4GdN0vtZ3ob8Jh1NAKXFbm5PtLU/eqTSlGjkNAJjdgn/N\n",
       "aedXa0tdi7+t9G0FIF49rtMSEgAs1kDLkTPO7ebm4IUWeyh1bKomXqlgMG6kJmHcSM0clYLJ8XtR\n",
       "1GTnbV3F6I5wCGikAb402npp1h1s7LQUZZSMIfALFOuL3UUrfnS8+rez7v9qcold5tilgHbO1fjK\n",
       "9ubb17u9oshxzMiUBKXWqJNxd+fqb0tLVs4lILFnK71H0Ind7uiPgACVcFJlrb0tV6DzxqqTIhUM\n",
       "CwDf1/rrVhTa33/3pGPxJYdQ2l2cbgVcQSosdx8uqnDtbGjh9SlDVSMNWhlnilfqZk42Th2ZpLpf\n",
       "xrHec5e815zrr0dfBZSwzkZfqsv+1FS1KUknUwPARVvItfKUY+cn57yP7qv07UE3p8B2uhUwLk09\n",
       "e0SCOrK+hbdYHYLjRIl71wWzv9jpEoeOHhGRrJAzyEyNiJuUqX0g2sBN5kGK6y2Blp5M3lsB9Qh4\n",
       "y2Ja6x6+i0ucmKgwMATwhSjdUu49tKrQ/pvN5d53ml2CGwCmJipmKjgmyuaXzNeL2a0AkQ01Th5j\n",
       "2DktO3Jyk8f9vcOBQHV94OK+fPumJmvQHxJoWkaKWq9Vs+yUsbq0zGT1I4RgeH2b5wef7+c7bl8F\n",
       "eKgoHVVZa8ZPEORzR6sT1BzDUAD/d9F78e2Tzv99v8D+fLVTqAKAsbGamKey1Mt9Ann4eH3gTXTz\n",
       "idWtAJ8PQWOk7NzSeQn/OTHDuEikVF1R4z8BQCy+6D1aWRfY0tTGG2OM8rRoPaeIj5ZHzJxszElN\n",
       "VM8K8JS5WOfv8mzRnQAKoEhmt8gyPM4lU9SmBK1MCQBnW4KONT86v1hZ1PbwSXPw4JWussVjtH9Y\n",
       "NCoiL9UoH/6PSu8jFrfY2t36erQHXLIEakMi1SydmzB31h3GGXFDFNPaK8Rme9B79Ixrd0WN+1ij\n",
       "NRQ/doRmuFLBkHSTOm5GruG+pFjFdAmorG4IXH1Qua6ASniclfFtDYt+oUjKipPrCQB7QBQ2lrgP\n",
       "fFzm+9XWUtcqJ3/5vDLDpJ79XHZk3u8nGZ42qlj1+ydtbxysCezrydp6ugmipNJ7WBPB5tydY0jP\n",
       "HaVNzs3QzeE4ZpTbI+ZbnSFPbVOw9vsfnVvqWnirPyCNGD08IlqtYkh2hjZ5dErEQzoNm+6ykyOt\n",
       "Lt5/PQEuSRRKo22VkydK+vvS1XEKlhCJAnsqvcVvH7f/ZU2R67eXbMEGAMiIV5oWZWiWvz5Fv2xG\n",
       "sjqNJQRvn3Rs2lji/lNP19VjAQDgD7FHhujZB9OGqYxRkZxixgRDVlqS6uEOFaJUVu0rPFzctrnF\n",
       "JqijImVp8dEKVWyUXDk92zAuMZ6bFwpBU1HrOw6AdhQgUooChb0+ItMbWJitSo5Ws3IAOGEOtL53\n",
       "0vHZih9sC4vtofZ7Qu6523V/fmGcds1TY3V36pUsBwAbSlxnVh2xLfAD/IAIMDf7XYIkNmXfpp2l\n",
       "18rkAJAy9HKFaIr/qULkeQQKy9zf1JgDB2uaeFNGijo5QsUyacNUUTOnGO42xSnv4oOwpDi1zYkc\n",
       "efUc3I5Gk6PhyTuVKaOGyLUAYPGIoY9Pu/atL/L92+4q9wbflRJ2Trpm/jPjdBtfnqB/dIThcl8A\n",
       "KG7hbRuKnb8qsQsVvVlTrwQAQMUlf3kwJI24Z4JhPMtcfng5GcH49GsrxJpGvvHIaeem2ma+KSjQ\n",
       "lIwUdYyCY8j4dE1KzijNnIP2llF2wcXNnsoapw9XxsgYAl6k+KzUXbi2yP3KR2ecf6z3BFsBICdW\n",
       "nvnIaG3eHybqX7vbpEqUMT+9OL4Qpe8VON7dXuFd39v19FoAABRVePbGGuXTszO0P7tu6lghUonE\n",
       "llRdrhArLvmKdh9u29jcFiRRkfLUxBiFNiqSU9icoZQHo5mYBI1MBgBH6wMNb+U7Pnw337H4gi1Y\n",
       "ciWs+uks3Z9fztUvfzxTm9Ne8XXkvQLHNytOOZeiD4e0PgkAIAYCYknKUNUDSXEKzdWNpnil7r4p\n",
       "xqkjTarZMtk/K8TQ6Qve78qqvXurGwIJqcOUKfUWHsm8KGvxSP68YudXq4pcj39X49uOK2X142O0\n",
       "Tz5/u/7TVybqH0rSya6ZBwD21/gubbrgWdDgEOx9WUhfBaC2ibcEBYm7a7x+ukrBMNcEZggyR0TE\n",
       "T8zUPjikQ4VosQZbTpS4vqizBKvqmvjsqnpfzaZyx9JPiz1/bfGKdgD45XB1zoIMzYbfTdS/NClB\n",
       "Gct0USiY3YL/g0LHy/uq/Ef6uo5+n0R/vyhp17Klpge763f8rMu6YU/zrn2nml+2WtH+Z+5IAAFc\n",
       "2bUTdTDOSNa9+cQY7YLsOIXhevEkCvzph7a8laecz/Un/z4/Ae04XeL3UQb57IwU9ZDr9UuKVajv\n",
       "nxp1+1UVIo/LjztZkKH59fO3G/JemqCfmaCRqbqbd90ZZ8FfjtkfAyD0J/9+C2h1hDwsSxvGjNDc\n",
       "b4zk5NfrSwiQblLHzZhg+Jf4aPlUwpDqkQqa9nimbt1/TDH8OitGMaQnj+RJS6B1fbF7SY1TqO5v\n",
       "/v0WAADl1f7zokgS7s7VT2DZ7pegUjBM7mjtiDZbcN4j0YrHH0rXpCtY0qPX0cVL0rv5jv/ZXend\n",
       "0u/EESYBAFBU4T4Qa5TflZOhTe7pmKpaP8kCVUVw1+yhXfJWvn1P3hnXi33JsTN6PnP3hHZ8Z3/h\n",
       "aLHzmkNPuPj7Bc/F/Q38CwjTpSwQXgE4Vmwry9tpfq/ZFgqFMy4AVDtCvi8rvMvOmv0N4YwbVgEA\n",
       "sPM72/KVnzfspmH7HQGCRLG2yL1+z8XwvPcdCbsAANh+xPzstgMtxeGKt+6MK3/tacfvwhWvIwMi\n",
       "oKEBtm0H7W+UVfkc/Y1V0BhoPlDr/w1w/eu1vjIgAgDg22OtX6/eYfnEz/focrZTHAFR+PSs56/7\n",
       "q32nwpjazxgwAQCwcU/T62t3WL7r6/jVRa6/byp1rei+Z98ZUAEAhEPHPc8fKnTU9nbgtnOe8h0l\n",
       "9hcGIqmODLQAHCy2Xti6v/XNRivf43f4fFvIteu854+VHnR7q9tfBlwAAGz+pnndB9vM26UebAe8\n",
       "SLHujPOTPVW+rwY+sxskAAC2HrA8t2Vvc7ffP1r9o+vwR2dcr92InIAbKKC1FZ5tB1tf+/G8p8sv\n",
       "N/9Q5zd/XR34LYCwV5JdccMEAMDBk45DH243r/X4xGvqxFa/GNpS7n6rwOwNWwHVE26oAADYurf1\n",
       "zx/utOzt+DMKYM0p17YtZZ5VNzqfsB2HewG1WXE8PoZ7gOclbTIvynZf9JV+fqZtfgs/8F/Nu5rB\n",
       "EIBmJ+8QRMmpU7EzGRsf2FzuePqYRbzh/zE26EwdrT10f6r6o8HOYzCJB9Dpff8tbnGLG8L/A/WE\n",
       "roTBs2RqAAAAAElFTkSuQmCC'\n",
       "     style='height:25px; border-radius:12px; display: inline-block; float: left; vertical-align: middle'></img>\n",
       "\n",
       "\n",
       "  <img src='data:image/png;base64,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'\n",
       "       style='height:15px; border-radius:12px; display: inline-block; float: left'></img>\n",
       "  \n",
       "\n",
       "\n",
       "\n",
       "\n",
       "</div>\n"
      ]
     },
     "metadata": {},
     "output_type": "display_data"
    }
   ],
   "execution_count": 4
  },
  {
   "metadata": {
    "ExecuteTime": {
     "end_time": "2025-05-07T17:01:10.671219Z",
     "start_time": "2025-05-07T17:01:10.423680Z"
    }
   },
   "cell_type": "code",
   "source": [
    "# Open and load the JSON file\n",
    "# with open(file_path, 'r', encoding='utf-8') as file:\n",
    "with gzip.open(file_path, 'rt') as file:\n",
    "    json_data = json.load(file)\n",
    "\n",
    "    data = AnalysisData.from_json(json_data)\n"
   ],
   "id": "d6de82346d341d3f",
   "outputs": [
    {
     "name": "stderr",
     "output_type": "stream",
     "text": [
      "/Users/romeo/mambaforge/envs/pubtrends/lib/python3.10/site-packages/networkx/readwrite/json_graph/node_link.py:287: FutureWarning: \n",
      "The default value will be changed to `edges=\"edges\" in NetworkX 3.6.\n",
      "\n",
      "To make this warning go away, explicitly set the edges kwarg, e.g.:\n",
      "\n",
      "  nx.node_link_graph(data, edges=\"links\") to preserve current behavior, or\n",
      "  nx.node_link_graph(data, edges=\"edges\") for forward compatibility.\n",
      "  warnings.warn(\n"
     ]
    }
   ],
   "execution_count": 5
  },
  {
   "metadata": {
    "ExecuteTime": {
     "end_time": "2025-05-07T17:01:10.687450Z",
     "start_time": "2025-05-07T17:01:10.683879Z"
    }
   },
   "cell_type": "code",
   "source": [
    "def filter_by_connectivity(df, graph, percentile=75, preferred_count=None):\n",
    "    # Step 1: Compute connectivity (without modifying df)\n",
    "    connectivity = df['id'].apply(lambda pid: len(list(graph.neighbors(pid))))\n",
    "\n",
    "    # Step 2: Compute the percentile threshold\n",
    "    if len(df) <= preferred_count:\n",
    "        # If few elements => TAKE all\n",
    "        threshold = np.nanmin(connectivity)\n",
    "    else:\n",
    "        # If need to limit => limit by percentile, but not lower than preferred_count\n",
    "        threshold = min(np.percentile(connectivity, percentile), sorted(connectivity, reverse=True)[preferred_count - 1])\n",
    "\n",
    "    # Step 3: Get mask for nodes above threshold\n",
    "    above_threshold_mask = connectivity >= threshold\n",
    "\n",
    "    # print(f\"len(df) = {len(df)}, threshold = {threshold}, {percentile}-th : {np.percentile(connectivity, percentile)}\")\n",
    "    # print(sorted(connectivity, reverse=True))\n",
    "    # print(\"---\")\n",
    "\n",
    "\n",
    "    # Step 4: Apply the mask\n",
    "    filtered_df = df[above_threshold_mask].copy()\n",
    "    filtered_df['connections'] = connectivity[above_threshold_mask].values\n",
    "\n",
    "    # Step 5: If max_count is specified, take top N by connections\n",
    "    if (preferred_count is not None) and len(filtered_df) > preferred_count:\n",
    "        filtered_df = filtered_df.sort_values('connections', ascending=False).head(preferred_count)\n",
    "\n",
    "    return filtered_df"
   ],
   "id": "94f32e399633444e",
   "outputs": [],
   "execution_count": 6
  },
  {
   "metadata": {
    "ExecuteTime": {
     "end_time": "2025-05-07T20:06:06.570463Z",
     "start_time": "2025-05-07T20:06:06.562149Z"
    }
   },
   "cell_type": "code",
   "source": [
    "def prepare_abstracts_for_topic(data, topic_name, *, preferred_count_per_topic, connectivity_percentile_thr):\n",
    "    filtered_df = data.df[data.df.comp == topic_name]\n",
    "\n",
    "    highly_connected_df = filter_by_connectivity(\n",
    "        filtered_df,\n",
    "        data.papers_graph,\n",
    "        percentile=connectivity_percentile_thr,\n",
    "        preferred_count=preferred_count_per_topic\n",
    "    )\n",
    "    abstract_entries = highly_connected_df[['id', 'abstract']].to_dict(orient='records')\n",
    "\n",
    "    topic_data = {\n",
    "        'abstracts': abstract_entries\n",
    "        #'abstracts': abstract_entries[0:2] # XXX: Playground\n",
    "    }\n",
    "\n",
    "    print(f\"Highly connected papers: {len(filtered_df)} -> {len(highly_connected_df)}\")\n",
    "\n",
    "    return topic_data\n"
   ],
   "id": "1a43ce74a1361070",
   "outputs": [],
   "execution_count": 194
  },
  {
   "metadata": {
    "ExecuteTime": {
     "end_time": "2025-05-07T20:07:23.138416Z",
     "start_time": "2025-05-07T20:07:23.132375Z"
    }
   },
   "cell_type": "code",
   "source": [
    "import re\n",
    "import html\n",
    "\n",
    "def convert_to_html(text):\n",
    "    # Step 1: Escape HTML special characters\n",
    "    text = html.escape(text)\n",
    "\n",
    "    # Step 2: Replace PMID references with links\n",
    "    text = re.sub(\n",
    "        r'PMID=(\\d+)',\n",
    "        r'<a href=\"https://pubmed.ncbi.nlm.nih.gov/\\1\" target=\"_blank\">PMID: \\1</a>',\n",
    "        text\n",
    "    )\n",
    "\n",
    "    # Step 3: Convert double newlines or newlines to <p> blocks\n",
    "    paragraphs = re.split(r'\\n\\s*\\n|\\n', text)\n",
    "    html_paragraphs = [f\"<p>{para.strip()}</p>\" for para in paragraphs if para.strip()]\n",
    "\n",
    "    return \"\\n\".join(html_paragraphs)\n"
   ],
   "id": "86ab865476a2faa2",
   "outputs": [],
   "execution_count": 196
  },
  {
   "metadata": {
    "ExecuteTime": {
     "end_time": "2025-05-07T21:15:01.894128Z",
     "start_time": "2025-05-07T21:15:01.883897Z"
    }
   },
   "cell_type": "code",
   "source": [
    "from IPython.display import HTML, display\n",
    "\n",
    "def _render_topic_html(topic_name, keyword_based_title, summary):\n",
    "    return [\n",
    "        \"<tr>\",\n",
    "        \"<td style='padding: 1em; border-bottom: 1px solid #ccc; text-align: left;'>\",\n",
    "        f\"<h3 style='margin: 0 0 0.5em 0; font-weight: normal;'>Topic {topic_name}</h3>\",\n",
    "        f\"<p style='margin: 0 0 0.5em 0;'><strong>{keyword_based_title}</strong></p>\",\n",
    "        \"<hr style='border: none; border-top: 1px solid #ccc;'/>\",\n",
    "        convert_to_html(summary),\n",
    "        \"<hr style='border: none; border-top: 1px dashed #ccc;'/>\",\n",
    "        \"</td>\",\n",
    "        \"</tr>\",\n",
    "    ]\n",
    "\n",
    "def _render_topic_plain(topic_name, keyword_based_title, summary):\n",
    "    return [\n",
    "        f\"================ Topic {topic_name} =========================================\",\n",
    "        f\"[TITLE]\",\n",
    "        keyword_based_title,\n",
    "        f\"--------------------------------\",\n",
    "        summary,\n",
    "        f\"--------------------------------\\n\",\n",
    "    ]\n",
    "\n",
    "def summarize_topics(\n",
    "        *,\n",
    "        data,\n",
    "        topic_description_words=10,\n",
    "        force_topic_name=None,\n",
    "        as_html: bool = True\n",
    "):\n",
    "    preferred_count_per_topic = 50\n",
    "    connectivity_percentile_thr = 50\n",
    "\n",
    "    pubmed_cluster_names = sorted(data.df.comp.unique())\n",
    "\n",
    "    topics_keywords = get_topics_description(\n",
    "        data.df,\n",
    "        data.corpus, data.corpus_tokens, data.corpus_counts,\n",
    "        n_words=topic_description_words\n",
    "    )\n",
    "\n",
    "    output = []\n",
    "    if as_html:\n",
    "        output.append('<table style=\"width:100%; border-collapse: collapse;\">')\n",
    "\n",
    "    for topic_name in pubmed_cluster_names:\n",
    "        if (force_topic_name is not None) and (topic_name != force_topic_name):\n",
    "            continue\n",
    "\n",
    "        print(f\"Processing topic {topic_name}\")\n",
    "\n",
    "        topic_data = prepare_abstracts_for_topic(\n",
    "            data, topic_name,\n",
    "            connectivity_percentile_thr=connectivity_percentile_thr,\n",
    "            preferred_count_per_topic=preferred_count_per_topic\n",
    "        )\n",
    "\n",
    "        summary = prompt_summarize_abstracts(topic_data)\n",
    "\n",
    "        if summary:\n",
    "            topic_summary_data = {\n",
    "                \"summary\": summary,\n",
    "                \"topics_keywords\": [k for k, v in topics_keywords[topic_name]],\n",
    "            }\n",
    "            keyword_based_title = prompt_assign_title_to_summary(topic_summary_data)\n",
    "        else:\n",
    "            keyword_based_title = \"\"\n",
    "\n",
    "        # Render per topic\n",
    "        if as_html:\n",
    "            output.extend(_render_topic_html(int(topic_name)+1, keyword_based_title, summary))\n",
    "        else:\n",
    "            output.extend(_render_topic_plain(int(topic_name)+1, keyword_based_title, summary))\n",
    "\n",
    "    if as_html:\n",
    "        output.append(\"</table>\")\n",
    "        return \"\\n\".join(output)  # HTML-safe string\n",
    "    else:\n",
    "        return \"\\n\".join(output)"
   ],
   "id": "49f729f3a4fed405",
   "outputs": [],
   "execution_count": 223
  },
  {
   "metadata": {},
   "cell_type": "markdown",
   "source": "## Prompt System Instructions",
   "id": "e0e296009bc71890"
  },
  {
   "metadata": {
    "ExecuteTime": {
     "end_time": "2025-05-07T18:50:05.731677Z",
     "start_time": "2025-05-07T18:50:05.727919Z"
    }
   },
   "cell_type": "code",
   "source": [
    "SYSTEM_INSTRUCTIONS_LLM_PROMPT_SUMMARY_TITLE = \"\"\"\n",
    "You are a research bot, tasked with helping scientific researchers to assign a title to scientific text about some topic using text submitted to you and submitted keywords. Your job is to summarize the scientific topic text into one sentence to you using suggested keywords.\n",
    "\n",
    "Be sure to:\n",
    "* make a representative and short title for the given text\n",
    "* focus on the main points of the text\n",
    "* keep it condense and to the point\n",
    "* NEVER output more that one sentence\n",
    "* do not hallucinate\n",
    "<EXCEPTION>\n",
    "do not put by NO MEANS more that one sentence. Do not highlight title as bold string. E.g not like below:\n",
    "**Virally Infected Diseases and Vaccine Strategies in Virology**\n",
    "\n",
    "This research discusses respiratory infections, including COVID-19, and HPV-associated diseases. The emergence of SARS-CoV-2 led to a global pandemic, with vaccines showing efficacy. Community-acquired pneumonia and other respiratory viruses are also discussed. HPV infection is\n",
    "</EXCEPTION>\n",
    "\"\"\""
   ],
   "id": "864892e2c20f785",
   "outputs": [],
   "execution_count": 159
  },
  {
   "metadata": {
    "ExecuteTime": {
     "end_time": "2025-05-07T18:41:56.348072Z",
     "start_time": "2025-05-07T18:41:56.331297Z"
    }
   },
   "cell_type": "code",
   "source": [
    "SYSTEM_INSTRUCTIONS_LLM_PROMPT_SUMMARIZE_ABSTRACT = \"\"\"\n",
    "You are a research bot, tasked with helping scientific researchers to explore scientific papers quicker. Your job is to summarize the text submitted to you.\n",
    "\n",
    "Be sure to:\n",
    "* do not add title to the summary\n",
    "* NEVER make summary longer than 400 words\n",
    "* tell as a story where each sentence are ALWAYS logically connected with previous\n",
    "* put by NO MEANS short sentences that are not logically connected\n",
    "* focus on the main points of the text\n",
    "* keep it condense and to the point\n",
    "* submitted text is set of blocks, each block marked with own ID, it is the line in the block starting from PMID= prefix\n",
    "* if some sentence from summary is based on information from one or more blocks, specify at the end of this sentence block IDs used to generate the sentence\n",
    "* Organize block IDs as coma-separated list in round brackets, e.g  (PMID=0000001, PMID=11111111, PMID=777777)\n",
    "* do not hallucinate, please never hallucinate\n",
    "\n",
    "\n",
    "<EXCEPTION>\n",
    "do not put by NO MEANS short sentences like below:\n",
    "\n",
    "**Comprehensive Analysis of Aging Mechanisms and Potential Interventions**\n",
    "\n",
    "Aging leads to various cellular and molecular changes, contributing to age-related diseases and functional decline. Several studies explore these mechanisms and potential interventions.\n",
    "\n",
    "One study found that Procyanidin C1 (PCC1), a compound with senolytic and senomorphic properties, counteracts aging-related changes in the hematopoietic and immune system by improving physiological parameters, increasing B cells and hematopoietic stem cells, suppressing senescence markers, and restoring immune homeostasis. PMID=40316527\n",
    "\n",
    "Skeletal muscle deterioration, a hallmark of aging, involves reduced SIRT5 expression, leading to cellular senescence and inflammation; SIRT5 desuccinylates TBK1, suppressing inflammation and improving muscle function, suggesting the SIRT5-TBK1 pathway as a target for combating age-related muscle degeneration. PMID=40087407\n",
    "\n",
    "Endothelial cell senescence, resulting from telomerase inactivation, induces transcriptional changes indicative of senescence and tissue hypoxia, compromising the blood-brain barrier and reducing muscle endurance, indicating that Tert loss causes EC senescence through a telomere length-independent mechanism undermining mitochondrial function. PMID=38475941\n",
    "\n",
    "Blood-borne factors like osteocalcin (OCN) are crucial for maintaining neuronal synaptic plasticity, and OCN's effects are mediated by a primary cilium (PC) protein-autophagy axis; during aging, autophagy and PC core proteins are reduced, and restoring their levels improves cognitive impairments, suggesting the PC-autophagy axis as a gateway for communication between blood-borne factors and neurons. PMID=39984747\n",
    "\n",
    "Mitochondrial dysfunction is a key aging determinant, and defects in mitochondrial protein and organelle quality control have been linked to various age-related diseases. PMID=37731280\n",
    "\n",
    "Hyperactivation of mTORC1 signaling with aging contributes to cardiac dysfunction by dysregulating proteostasis, as shown in a 4EBP1 KO mouse model mimicking a hyperactive mTORC1/4EBP1/eIF4E axis. PMID=39379739\n",
    "\n",
    "Dietary protein, particularly branched-chain amino acids (BCAAs), influences healthy aging; BCAA restriction protects against metabolic consequences of high protein diets and has tissue-specific effects on cellular senescence. PMID=39868338\n",
    "\n",
    "Macroautophagy decreases with age, but mitophagy, the selective autophagic degradation of mitochondria, may increase or remain unchanged; pharmacological induction of mitophagy attenuates inflammation and ameliorates neurological function, pointing to mitophagy induction as a strategy to decrease age-associated inflammation. PMID=38280852\n",
    "\n",
    "PGC-1, a mitochondrial regulator, is repressed with aging in the brain and is integral in coordinating metabolism and growth signaling, placing it centrally in a growth and metabolism network relevant to brain aging. PMID=40021651\n",
    "\n",
    "Apigenin, a bioactive plant compound, may protect against age-related cognitive dysfunction by suppressing neuro-inflammatory processes driven by glial cells. PMID=38007051\n",
    "\n",
    "Inhibition of mitochondrial malate dehydrogenase (MDH2) delays the aging process through metabolic-epigenetic regulation, identifying MDH2 as a potential therapeutic target for anti-aging drug development. PMID=39962087\n",
    "\n",
    "The SATB protein DVE-1 influences lifespan independent of its canonical mitoUPR function, suggesting broader functions in modulating longevity and defending against stress. PMID=39423131\n",
    "\n",
    "TFEB deficiency in the proximal tubules causes metabolic disorders and mitochondrial dysfunction, shedding light on the mechanisms of APOA4 amyloidosis pathogenesis and providing a therapeutic strategy for CKD-related metabolic disorders. PMID=39699959\n",
    "\n",
    "β-hydroxybutyrate (HB), a ketone body, regulates protein solubility, selectively targeting pathological proteins like amyloid-β, suggesting a metabolically regulated mechanism of proteostasis relevant to aging and Alzheimer's disease. PMID=39626664\n",
    "\n",
    "LRP5 promotes lower-body fat distribution and enhances insulin sensitivity, independent of its bone-related functions, and its activation may prevent age-related fat redistribution and metabolic disorders. PMID=40000740\n",
    "\n",
    "Aging promotes STAT1 β-hydroxybutyrylation, attenuating IFN-I-mediated antiviral defense activity, and fructose can improve IFN-I antiviral defense activity by orchestrating STAT1 O-GlcNAc and β-hydroxybutyrylation modifications. PMID=39979583\n",
    "\n",
    "HIRA and PML are essential for SASP expression, activating SASP through a CCF-cGAS-STING-TBK1-NF-κB pathway. PMID=39178863\n",
    "\n",
    "TMEM242 depletion impairs ATP synthase, elevates ROS, upregulates sirt6 and nrf2, and increases f9a transcripts, potentially leading to bleeding tendencies. PMID=39856164\n",
    "\n",
    "A disease-causing mutation of ABCA6 is identified for FPD, and ABCA6 is correlated with PD occurrence and subsequent OA progression, serving as a potential target in chondrogenesis and OA treatment by orchestrated intracellular cholesterol efflux and delayed cellular senescence. PMID=39823538\n",
    "\n",
    "Endogenous DNA damage promotes hallmarks of age-related retinal degeneration, as shown in Ercc1-/- mice, which model a human progeroid syndrome. PMID=39604117\n",
    "\n",
    "ACSS2 promotes the acetylation of PAICS, limiting purine metabolism and exacerbating cytoplasmic chromatin fragment accumulation and SASP, identifying ACSS2 as a potential senomorphic target to prevent senescence-associated diseases. PMID=40021646\n",
    "\n",
    "SPP1 activates ITG5/1 to inhibit mitophagy, accelerates NPs degeneration, and induces calcification, leading to intervertebral disc degeneration (IVDD) and calcification. PMID=39721032\n",
    "\n",
    "STXBP5 overexpression accelerates senescence, while STXBP5 deletion suppresses progerin expression, delaying senility, and decreasing the expression of senescence-related factors. PMID=39379476\n",
    "\n",
    "Compartment-targeted FlucDM sensors pinpoint a diverse modulation of subcellular proteostasis by aging regulators. PMID=39383859\n",
    "\n",
    "IGF-1 signaling plays a crucial role in preserving a youthful cerebromicrovascular endothelial phenotype and maintaining the integrity of the BBB. PMID=38082450\n",
    "\n",
    "Aged hippocampal mitochondria exhibit impaired bioenergetic function, increased ROS production, deregulation of calcium homeostasis, and decreased mitochondrial biogenesis. PMID=36982549\n",
    "\n",
    "TBK1-ATAD3A-Pink1 axis drives cellular senescence, suggesting a potential mitochondrial target for anti-aging therapy. PMID=39520088\n",
    "\n",
    "Aging causes widespread reduction of proteins enriched in basic amino acids that is independent of mRNA regulation, and aberrant translation pausing leads to reduced ribosome availability resulting in proteome remodeling. PMID=38260253\n",
    "\n",
    "Cysteine oxidation of muscle proteins impairs muscle power and strength, walking speed, and cardiopulmonary fitness with aging. PMID=38332629\n",
    "\n",
    "CUL2FEM1B senses ROS produced by complex III of the electron transport chain (ETC), helping cells adjust their ETC to changing environments. PMID=39642856\n",
    "\n",
    "HSF-1 mediates lifespan extension through mitochondrial network adaptations that occur in response to down-tuning of components associated with organellar protein degradation pathways. PMID=39532882\n",
    "\n",
    "YBR238C oppositely affect mitochondria and aging, modulating mitochondrial function, demonstrating a feedback loop between TORC1 and mitochondria (the TORC1-MItochondria-TORC1 (TOMITO) signaling process) that regulates cellular aging processes. PMID=38713053\n",
    "\n",
    "Mitochondrial metabolic modulation contributes to the longevity of daf-2 mutants, highlighting the crucial role of mitochondria in aging. PMID=40136535\n",
    "\n",
    "MAVS safeguards mitochondrial homeostasis and antagonizes human stem cell senescence. PMID=37521327\n",
    "\n",
    "TMEM135 is crucial for regulating mitochondria, peroxisomes, and lipids, emphasizing the importance of a balanced TMEM135 function for the health of the retina and other tissues. PMID=38576540\n",
    "\n",
    "Blocking neddylation increased cellular hallmarks of aging and led to an increase in Tau aggregation and phosphorylation in neurons carrying the APPswe/swe mutation, indicating that cellular aging can reveal late-onset disease phenotypes. PMID=38917806\n",
    "\n",
    "Mitochondrial DNA turnover in rat skeletal muscle decreases with age, contributing to losses of mitochondrial genomic integrity and potentially playing a role in skeletal muscle dysfunction. PMID=39312152\n",
    "\n",
    "Suppression of NF-κB in cardiomyocytes leads to pronounced cardiac remodeling, dysfunction, and cellular damage associated with the aging process, influencing both cellular senescence and molecular damage pathways. PMID=39857807\n",
    "\n",
    "MicroRNAs and neuropeptide-like proteins can form molecular regulatory networks involving downstream molecules to regulate lifespan, and such regulatory effects vary on environmental conditions. PMID=39323014\n",
    "\n",
    "Pharmacological elevation of CISD2 expression at a late-life stage using hesperetin treatment is a feasible approach to effectively mitigating both intrinsic and extrinsic skin aging. PMID=38263133\n",
    "\n",
    "Oxidative protein folding in the ER promotes cell aging, providing a potential target for aging and aging-related disease intervention. PMID=37306027\n",
    "\n",
    "Mitochondrial morphology changes during aging, and C. elegans serve as a robust model for rapidly measuring mitochondrial\n",
    "\n",
    "* Do not put same PMID in the one coma-separated list, like below:\n",
    "\n",
    "Yin-Chen-Hao-Tang (YCHT) exhibited anti-fibrotic effects on the liver, potentially by suppressing oxidative stress and lipid peroxidation, restoring levels of metabolites like unsaturated fatty acids and lysophosphatidylcholines (PMID=26805802). Sophora flavescens (Kushen) itself showed anti-fibrosis activity, with studies identifying potential active compounds and targets through integrated network pharmacology and biomedical analysis (PMID=27754507). Fufang Biejia Ruangan Pill (FFBJ), an approved anti-fibrosis drug, contains various components including organic acids, terpenoids, flavonoids, phenylpropanoids, and alkaloids, with studies identifying absorbed components in vivo to understand its material basis (PMID=26724854, PMID=26724854, PMID=26724854, PMID=26724854, PMID=26724854, PMID=26724854, PMID=26724854, PMID=26724854, PMID=26724854, PMID=26724854, PMID=26724854, PMID=26724854, PMID=26724854, PMID=26724854, PMID=26724854, PMID=26724854, PMID=26724854, PMID=26724854, PMID=26724854, PMID=26724854, PMID=26724854, PMID=26724854, PMID=26724854, PMID=26724854, PMID=26724854, PMID=26724854, PMID=26724854, PMID=26724854, PMID=26724854, PMID=26724854, PMID=26724854, PMID=26724854, PMID=26724854, PMID=26724854, PMID=26724854, PMID=26724854, PMID=26724854, PMID=26724854, PMID=26724854, PMID=26724854, PMID=26724854, PMID=26724854, PMID=26724854, PMID=26724854, PMID=26724854, PMID=26724854, PMID=26724854, PMID=26724854, PMID=26724854, PMID=26724854, PMID=26724854, PMID=26724854, PMID=26724854, PMID=26724854, PMID=26724854, PMID=26724854, PMID=26724854, PMID=26724854, PMID=26724854, PMID=26724854, PMID=26724854, PMID=26724854, PMID=26724854, PMID=26724854, PMID=26724854, PMID=26724854, PMID=26724854, PMID=26724854, PMID=26724854, PMID=26724854, PMID=26724854, PMID=26724854, PMID=26724854, PMID=26724854, PMID=26724854, PMID=26724854, PMID=26724854, PMID=26724854, PMID=26724854, PMID=26724854, PMID=26724854, PMID=26724854, PMID=26724854, PMID=26724854, PMID=26724854, PMID=26724854, PMID=26724854, PMID=26724854, PMID=26724854, PMID=26724854, PMID=26724854, PMID=26724854, PMID=26724854, PMID=26724854, PMID=26724854, PMID=26724854, PMID=26724854, PMID=26724854, PMID=26724854, PMID=26724854, PMID=26724854, PMID=26724854, PMID=26724854, PMID=26724854, PMID=26724854, PMID=26724854, PMID=26724854, PMID=26724854, PMID=26724854, PMID=26724854, PMID=26724854, PMID=26724854, PMID=26724854, PMID=26724854, PMID=26724854, PMID=26724854,\n",
    "\n",
    "</EXCEPTION>\n",
    "\"\"\""
   ],
   "id": "82250b3980928d5c",
   "outputs": [],
   "execution_count": 146
  },
  {
   "metadata": {
    "ExecuteTime": {
     "end_time": "2025-05-07T18:41:56.507184Z",
     "start_time": "2025-05-07T18:41:56.501522Z"
    }
   },
   "cell_type": "code",
   "source": [
    "# SYSTEM_INSTRUCTIONS_LLM_PROMPT_SUMMARIZE_ABSTRACT = \"\"\"\n",
    "# You are a research bot, tasked with helping scientific researchers to explore scientific papers quicker.\n",
    "#\n",
    "# You are provided with a structured text where each paragraph marked with their \"pmid\" identifiers in a json format:\n",
    "# [\n",
    "#   {\n",
    "#     \"pmid\": \"37481675\",\n",
    "#     \"paragraph\": \"<Here is the paragraph text>\"\n",
    "#   },...\n",
    "# ]\n",
    "#\n",
    "# Your job is to summarize text as if it is some scientific text about some topic.\n",
    "#\n",
    "# If sentence from summary is based on on information from one or more \"paragraph\", specify at the end of this sentence \"pmid\"  of paragraphs used to generate the sentence. Organize sentence \"pmid\" ids as coma-separated list in round brackets, e.g  (PMID=0000001, PMID=11111111, PMID=777777)\n",
    "#\n",
    "# Be sure to:\n",
    "# * do not add title to the summary\n",
    "# * NEVER make summary text longer than 400 words if we count only words from sentences\n",
    "# * tell as a story where each sentence are ALWAYS logically connected with previous\n",
    "# * put by NO MEANS short sentences that are not logically connected\n",
    "# * focus on the main points of the text\n",
    "# * keep it condense and to the point\n",
    "# * do not hallucinate, please never hallucinate\n",
    "# \"\"\"\n"
   ],
   "id": "e4585efed3cc7c59",
   "outputs": [],
   "execution_count": 147
  },
  {
   "metadata": {
    "ExecuteTime": {
     "end_time": "2025-05-07T18:41:56.653601Z",
     "start_time": "2025-05-07T18:41:56.648539Z"
    }
   },
   "cell_type": "code",
   "source": [
    "# SYSTEM_INSTRUCTIONS_LLM_PROMPT_SUMMARIZE_ABSTRACT = \"\"\"\n",
    "# You are a research bot, tasked with helping scientific researchers to explore scientific papers quicker.\n",
    "#\n",
    "# You are provided with abstracts with their \"pmid\" identifiers in a json format:\n",
    "# [\n",
    "#   {\n",
    "#     \"pmid\": \"37481675\",\n",
    "#     \"abstract\": \"<Here is the abstract of the first paper>\"\n",
    "#   },...\n",
    "# ]\n",
    "#\n",
    "# Your job is to summarize all submitted abstracts as if it is one text about some topic.\n",
    "#\n",
    "# Your output format is a json file with a given structure:\n",
    "# {\n",
    "#     \"summary\": [\n",
    "#         \"paragraph\": [\n",
    "#             {\n",
    "#                 \"sentence\": \"<sentence from text>\",\n",
    "#                 \"pmid_references\": [\n",
    "#                     \"00001\", \"11111\", \"222222\n",
    "#                 ]\n",
    "#             }, ...\n",
    "#         ], ...\n",
    "#     ]\n",
    "# }\n",
    "# Summary could contain from one or more paragraphs. Each paragraph has one or more sentence.\n",
    "# If sentence from summary is based on on information from one or more \"abstract\", you need to add corresponding \"pmid\" to \"pmid_references\" list for this \"sentence\".\n",
    "#\n",
    "# You task is to output every sentence from summary in a specified output format. Keeping valid output format is very important for my research.\n",
    "#\n",
    "# Be sure to:\n",
    "# * make a representative and short title for the summary\n",
    "# * NEVER make summary text longer than 400 words if we count only words from sentences\n",
    "# * tell as a story where each sentence are ALWAYS logically connected with previous\n",
    "# * put by NO MEANS short sentences that are not logically connected\n",
    "# * focus on the main points of the text\n",
    "# * keep it condense and to the point\n",
    "# * do not hallucinate, please never hallucinate\n",
    "# \"\"\""
   ],
   "id": "36d40d77cc198345",
   "outputs": [],
   "execution_count": 148
  },
  {
   "metadata": {},
   "cell_type": "markdown",
   "source": [
    "## Summarization wrappers for Local Execution\n",
    "\n",
    "`summarize_topics(..)` function works through this API. This implementation is for direct prompt execution from local machine, w/o google cloud infrastructure"
   ],
   "id": "c3a17caf52aa7b23"
  },
  {
   "metadata": {
    "ExecuteTime": {
     "end_time": "2025-05-07T23:01:55.951195Z",
     "start_time": "2025-05-07T23:01:55.948095Z"
    }
   },
   "cell_type": "code",
   "source": [
    "from google import genai\n",
    "from google.genai import types\n",
    "import base64"
   ],
   "id": "c8beecceb32d243f",
   "outputs": [],
   "execution_count": 227
  },
  {
   "metadata": {
    "ExecuteTime": {
     "end_time": "2025-05-07T23:01:58.753676Z",
     "start_time": "2025-05-07T23:01:58.750752Z"
    }
   },
   "cell_type": "code",
   "source": "VERTEX_CLIENT_PROJECT = os.getenv('VERTEX_CLIENT_PROJECT', 'default_project')",
   "id": "4066452c70930d66",
   "outputs": [],
   "execution_count": 228
  },
  {
   "metadata": {
    "ExecuteTime": {
     "end_time": "2025-05-07T23:16:05.192382Z",
     "start_time": "2025-05-07T23:16:05.186891Z"
    }
   },
   "cell_type": "code",
   "source": [
    "def prompt_summarize_abstracts(topic_data):\n",
    "    if 'abstracts' in topic_data:\n",
    "        abstract_entries = topic_data['abstracts']\n",
    "\n",
    "        validated_entries = []\n",
    "        for entry in abstract_entries:\n",
    "            assert 'id' in entry\n",
    "            assert 'abstract' in entry\n",
    "\n",
    "\n",
    "            pmid = entry['id']\n",
    "            abstract = entry['abstract']\n",
    "\n",
    "            # TODO: validate id & abstract size & type, truncated if too long\n",
    "\n",
    "            validated_entries.append(dict(pmid=pmid, abstract=abstract))\n",
    "\n",
    "        assert len(abstract_entries) == len(validated_entries)\n",
    "\n",
    "        return do_llm_prompt_summarize_abstracts(validated_entries)\n",
    "\n",
    "\n",
    "    # XXX: error\n",
    "    return \"\""
   ],
   "id": "ac4aaf7b2fa2993e",
   "outputs": [],
   "execution_count": 236
  },
  {
   "metadata": {
    "ExecuteTime": {
     "end_time": "2025-05-07T23:16:09.599098Z",
     "start_time": "2025-05-07T23:16:09.595210Z"
    }
   },
   "cell_type": "code",
   "source": [
    "def prompt_assign_title_to_summary(topic_summary_data):\n",
    "    if ('summary' in topic_summary_data) and ('topics_keywords' in topic_summary_data):\n",
    "        #print(request_data['topics_keywords'])\n",
    "\n",
    "        return do_llm_prompt_assign_title_to_summary(topic_summary_data['summary'], topic_summary_data['topics_keywords'])\n",
    "\n",
    "    # XXX: error\n",
    "    return \"\""
   ],
   "id": "682d9bc1c69c34da",
   "outputs": [],
   "execution_count": 237
  },
  {
   "metadata": {},
   "cell_type": "markdown",
   "source": [
    "## Local LLM Prompts Functions\n",
    "\n",
    "This functions could be used directly in Google Cloud Function Impl"
   ],
   "id": "f84a85a72dd67b0a"
  },
  {
   "metadata": {
    "ExecuteTime": {
     "end_time": "2025-05-07T18:41:57.818142Z",
     "start_time": "2025-05-07T18:41:57.811967Z"
    }
   },
   "cell_type": "code",
   "source": [
    "def do_llm_prompt_assign_title_to_summary(summary, topics_keywords):\n",
    "    args = dict(\n",
    "        model=\"gemini-2.0-flash-lite-001\",\n",
    "        temperature = 0.01, top_p = 0.95, top_k=None, max_output_tokens = 64,\n",
    "    )\n",
    "\n",
    "    topic_desc = \",\".join(topics_keywords)\n",
    "    llm_response = llm_generate(\n",
    "        project=VERTEX_CLIENT_PROJECT,\n",
    "        system_instructions=SYSTEM_INSTRUCTIONS_LLM_PROMPT_SUMMARY_TITLE,\n",
    "        text_to_summarize=f\"KEYWORDS: {topic_desc}\\nTEXT:\\n{summary}\",\n",
    "        **args\n",
    "    )\n",
    "\n",
    "    #print(llm_response)\n",
    "    print(\"[DONE] Response len\", len(llm_response))\n",
    "\n",
    "    return llm_response"
   ],
   "id": "afde3bb16bea74f9",
   "outputs": [],
   "execution_count": 153
  },
  {
   "metadata": {
    "ExecuteTime": {
     "end_time": "2025-05-07T18:41:58.017786Z",
     "start_time": "2025-05-07T18:41:58.010447Z"
    }
   },
   "cell_type": "code",
   "source": [
    "def do_llm_prompt_summarize_abstracts(entries):\n",
    "    args = dict(\n",
    "        model=\"gemini-2.5-flash-preview-04-17\", thinking_budget=1000,\n",
    "        # model=\"gemini-2.0-flash-001\",\n",
    "        # model=\"gemini-2.0-flash-lite-001\",\n",
    "        temperature=0.1, top_p=0.75, top_k=30, max_output_tokens=8192,\n",
    "    )\n",
    "\n",
    "    # entries = entries[0:5] # TODO: FIX\n",
    "\n",
    "    # text_to_summarize=json.dumps(entries, ensure_ascii=False, indent=2)\n",
    "    text_to_summarize = \"\\n\".join(f\"\\nPMID={e['pmid']}\\n{e['abstract']}\" for e in entries)\n",
    "\n",
    "    llm_response = llm_generate(\n",
    "        project=VERTEX_CLIENT_PROJECT,\n",
    "        system_instructions=SYSTEM_INSTRUCTIONS_LLM_PROMPT_SUMMARIZE_ABSTRACT,\n",
    "        text_to_summarize=text_to_summarize,\n",
    "        **args\n",
    "    )\n",
    "\n",
    "    #print(llm_response)\n",
    "    print(\"[DONE] Response len\", len(llm_response))\n",
    "\n",
    "    return llm_response"
   ],
   "id": "af9818e95311482a",
   "outputs": [],
   "execution_count": 154
  },
  {
   "metadata": {
    "ExecuteTime": {
     "end_time": "2025-05-07T18:41:58.595962Z",
     "start_time": "2025-05-07T18:41:58.583169Z"
    }
   },
   "cell_type": "code",
   "source": [
    "def llm_generate(\n",
    "        *,\n",
    "        project,\n",
    "        system_instructions,\n",
    "        text_to_summarize,\n",
    "        model, temperature, top_p, top_k, max_output_tokens,\n",
    "        thinking_budget=None,\n",
    "        max_retries=5\n",
    "):\n",
    "    # print(text_to_summarize)\n",
    "    # if True:\n",
    "    #     return \"\"\n",
    "\n",
    "    client = genai.Client(\n",
    "        vertexai=True,\n",
    "        project=project,\n",
    "        location=\"us-central1\",\n",
    "    )\n",
    "\n",
    "    msg1_text1 = types.Part.from_text(text=text_to_summarize)\n",
    "    si_text1 = system_instructions\n",
    "\n",
    "    contents = [types.Content(role=\"user\", parts=[msg1_text1])]\n",
    "\n",
    "    optional_args = {}\n",
    "    if thinking_budget is not None:\n",
    "        optional_args['thinking_config'] = types.ThinkingConfig(thinking_budget=thinking_budget)\n",
    "\n",
    "    generate_content_config = types.GenerateContentConfig(\n",
    "        temperature=temperature,\n",
    "        top_p=top_p,\n",
    "        top_k=top_k,\n",
    "        seed=0,\n",
    "        max_output_tokens=max_output_tokens,\n",
    "        response_modalities=[\"TEXT\"],\n",
    "        safety_settings=[types.SafetySetting(\n",
    "            category=\"HARM_CATEGORY_HATE_SPEECH\",\n",
    "            threshold=\"OFF\"\n",
    "        ), types.SafetySetting(\n",
    "            category=\"HARM_CATEGORY_DANGEROUS_CONTENT\",\n",
    "            threshold=\"OFF\"\n",
    "        ), types.SafetySetting(\n",
    "            category=\"HARM_CATEGORY_SEXUALLY_EXPLICIT\",\n",
    "            threshold=\"OFF\"\n",
    "        ), types.SafetySetting(\n",
    "            category=\"HARM_CATEGORY_HARASSMENT\",\n",
    "            threshold=\"OFF\"\n",
    "        )],\n",
    "        system_instruction=[types.Part.from_text(text=si_text1)],\n",
    "        **optional_args\n",
    "    )\n",
    "\n",
    "    retries_cnt = 0\n",
    "    while retries_cnt < max_retries:\n",
    "        chunks = []\n",
    "        retries_cnt += 1\n",
    "\n",
    "        for chunk in client.models.generate_content_stream(\n",
    "                model=model,\n",
    "                contents=contents,\n",
    "                config=generate_content_config,\n",
    "        ):\n",
    "            assert chunk is not None\n",
    "            if chunk.text is None:\n",
    "                # when chunk.text is None - smth goes wrong - XXX: is know bug in 2.5 ==> REDO\n",
    "                chunks = None\n",
    "                break\n",
    "\n",
    "            # if debug:\n",
    "            #     print(\"CHUNK: [\", chunk.text, end=\"]\\n\")\n",
    "\n",
    "            if chunk.text is not None:\n",
    "                chunks.append(chunk.text)\n",
    "\n",
    "        # join chunks:\n",
    "        if chunks is None:\n",
    "            print(f\"Retry #{retries_cnt}...\")\n",
    "            continue\n",
    "\n",
    "        return \"\".join(chunks)\n",
    "\n",
    "    raise Exception(\"Cannot summarize text. Maximum number of retries reached\")\n"
   ],
   "id": "ce05505939a5feae",
   "outputs": [],
   "execution_count": 155
  },
  {
   "metadata": {},
   "cell_type": "markdown",
   "source": "## Run",
   "id": "b03f6275eefe2db3"
  },
  {
   "metadata": {
    "ExecuteTime": {
     "end_time": "2025-05-07T23:18:11.231719Z",
     "start_time": "2025-05-07T23:17:48.370195Z"
    }
   },
   "cell_type": "code",
   "source": [
    "as_html=False\n",
    "\n",
    "result = summarize_topics(\n",
    "    data=data, topic_description_words=10, #config.topic_description_words,\n",
    "    force_topic_name=1,\n",
    "    as_html=as_html\n",
    ")\n",
    "if as_html:\n",
    "    display(HTML(result))\n",
    "else:\n",
    "    print(result)"
   ],
   "id": "6993343bd1cccfa4",
   "outputs": [
    {
     "name": "stdout",
     "output_type": "stream",
     "text": [
      "Processing topic 1\n",
      "Highly connected papers: 152 -> 50\n",
      "[DONE] Response len 8784\n",
      "[DONE] Response len 181\n",
      "================ Topic 2 =========================================\n",
      "[TITLE]\n",
      "Mitochondrial dysfunction and metabolic regulation of proteins are key factors in the aging process, impacting muscle and neuronal function through genetic and cellular mechanisms.\n",
      "\n",
      "--------------------------------\n",
      "Aging is a complex process marked by progressive functional decline across various systems, driven by hallmarks such as cellular senescence, mitochondrial dysfunction, and impaired proteostasis (PMID=37731280, PMID=36982549, PMID=39383859). Cellular senescence, characterized by stable proliferation arrest and an inflammatory senescence-associated secretory phenotype (SASP), contributes significantly to age-related pathologies (PMID=39178863, PMID=40021646). The SASP is activated through pathways involving cytoplasmic chromatin fragments, cGAS-STING, TBK1, and NF-κB, with HIRA and PML playing essential roles (PMID=39178863). ACSS2 exacerbates SASP by limiting purine metabolism through PAICS acetylation, leading to increased cytoplasmic chromatin fragments (PMID=40021646). Oxidative protein folding in the endoplasmic reticulum also promotes cell aging by increasing ER-derived H2O2 leakage, a process that can be mitigated by inhibiting protein disulfide isomerase (PDI) (PMID=37306027).\n",
      "\n",
      "Mitochondrial dysfunction is central to aging and linked diseases, involving defects in protein and organelle quality control (PMID=37731280, PMID=36982549). Aged hippocampal mitochondria show impaired bioenergetics, increased ROS, calcium deregulation, and decreased biogenesis and mitophagy (PMID=36982549). Mitochondrial DNA turnover decreases with age in skeletal muscle, contributing to genomic integrity loss and dysfunction (PMID=39312152). The TBK1-ATAD3A-Pink1 axis drives cellular senescence by inhibiting Pink1-mediated mitophagy, suggesting a mitochondrial target for anti-aging therapy (PMID=39520088). While macroautophagy decreases with age, mitophagy may increase or remain unchanged, and its pharmacological induction can attenuate inflammation and improve neurological function (PMID=38280852). CUL2FEM1B senses ROS from mitochondrial complex III, helping cells adjust the electron transport chain to changing environments (PMID=39642856). MAVS safeguards mitochondrial homeostasis and antagonizes human stem cell senescence by interacting with OPA1 (PMID=37521327). TMEM135 is crucial for regulating mitochondria, peroxisomes, and lipids, with balanced function important for tissue health (PMID=38576540).\n",
      "\n",
      "Proteostasis loss is another hallmark of aging and neurodegenerative diseases like Alzheimer's (PMID=39626664, PMID=39383859). Aging causes widespread reduction of proteins enriched in basic amino acids, independent of mRNA regulation, due to aberrant translation pausing and reduced ribosome availability (PMID=38260253). Hyperactivation of mTORC1 signaling with aging contributes to cardiac dysfunction by dysregulating proteostasis (PMID=39379739). The ketone body β-hydroxybutyrate (HB) regulates protein solubility, selectively targeting pathological proteins like amyloid-β, suggesting a metabolically regulated proteostasis mechanism relevant to aging and Alzheimer's (PMID=39626664). HSF-1 mediates lifespan extension through mitochondrial network adaptations by down-tuning organellar protein degradation components (PMID=39532882).\n",
      "\n",
      "Aging affects specific tissues and systems, such as the hematopoietic and immune system, skeletal muscle, brain, heart, kidney, retina, and skin (PMID=40316527, PMID=40087407, PMID=38475941, PMID=39379739, PMID=39699959, PMID=39604117, PMID=38263133). Age-related skeletal muscle deterioration involves reduced SIRT5 expression, leading to senescence and inflammation, while SIRT5 desuccinylates TBK1 to suppress inflammation (PMID=40087407). Endothelial cell senescence, caused by Tert loss, induces transcriptional changes indicative of senescence and tissue hypoxia, compromising the blood-brain barrier and reducing muscle endurance (PMID=38475941). In the brain, aging is associated with reduced cognitive function and neuroinflammation driven by glial cells (PMID=38007051). Blood-borne factors like osteocalcin (OCN) maintain neuronal synaptic plasticity via a primary cilium (PC) protein-autophagy axis, which declines with age (PMID=39984747). IGF-1 signaling is crucial for preserving a youthful cerebromicrovascular endothelial phenotype and maintaining blood-brain barrier integrity (PMID=38082450). Suppressing NF-κB in cardiomyocytes leads to pronounced cardiac remodeling, dysfunction, and cellular damage associated with aging (PMID=39857807). TFEB deficiency in proximal tubules causes metabolic disorders and mitochondrial dysfunction, contributing to APOA4 amyloidosis pathogenesis (PMID=39699959). Endogenous DNA damage promotes age-related retinal degeneration hallmarks (PMID=39604117). Oxidative stress and cysteine oxidation of muscle proteins impair muscle function and mobility with aging (PMID=38332629). SPP1 activates ITG5/1 to inhibit mitophagy, accelerating nucleus pulposus degeneration and calcification, leading to intervertebral disc degeneration (PMID=39721032). STXBP5 overexpression accelerates senescence, while its deletion suppresses progerin expression and delays senility (PMID=39379476). Blocking neddylation increases cellular aging hallmarks and Tau aggregation/phosphorylation in neurons, revealing late-onset disease phenotypes (PMID=38917806). APPL2 levels decrease with age, and its deficiency leads to premature aging and decreased autophagy (PMID=38927595).\n",
      "\n",
      "Dietary interventions and specific compounds show promise in counteracting aging effects (PMID=39868338, PMID=40316527, PMID=38007051, PMID=38263133, PMID=39962087, PMID=38816549, PMID=39187977, PMID=38816549). Procyanidin C1 (PCC1) counteracts aging-related changes in the hematopoietic and immune system by improving physiological parameters, increasing B cells and hematopoietic stem cells, suppressing senescence markers, and restoring immune homeostasis (PMID=40316527). Reducing branched-chain amino acids (BCAAs) protects against metabolic consequences of high protein diets and has tissue-specific effects on cellular senescence (PMID=39868338). Apigenin may protect against age-related cognitive dysfunction by suppressing neuro-inflammatory processes driven by glial cells (PMID=38007051). Inhibition of mitochondrial malate dehydrogenase (MDH2) delays aging through metabolic-epigenetic regulation, identifying MDH2 as a potential therapeutic target (PMID=39962087). Hesperetin treatment at a late-life stage effectively mitigates both intrinsic and extrinsic skin aging by elevating CISD2 expression (PMID=38263133). SGLT2 inhibitors enhance immune-mediated clearance of senescent cells, ameliorating age-associated phenotypic changes (PMID=38816549). Betaine transcriptionally represses Mss51 via Yy1, improving age-related mitochondrial respiration in skeletal muscle and delaying muscle loss (PMID=39187977). An uncharacterized gene, CG11837 (ortholog of human DIMT1), regulates insect lifespan and protects human cells from cellular senescence (PMID=38834883). Fructose can improve IFN-I antiviral defense activity by orchestrating STAT1 O-GlcNAc and β-hydroxybutyrylation modifications (PMID=39979583).\n",
      "\n",
      "Other factors influencing aging include microRNAs and neuropeptide-like proteins forming regulatory networks that vary with environmental conditions (PMID=39323014). The SATB protein DVE-1 influences lifespan independent of its canonical mitoUPR function, suggesting broader roles in longevity and stress defense (PMID=39423131). LRP5 promotes lower-body fat distribution and enhances insulin sensitivity, independent of its bone functions, and its activation may prevent age-related fat redistribution and metabolic disorders (PMID=40000740). A disease-causing mutation of ABCA6 is identified for familial patellar dysplasia and is correlated with osteoarthritis progression by orchestrating intracellular cholesterol efflux and delaying cellular senescence (PMID=39823538). TMEM242 depletion impairs ATP synthase, elevates ROS, upregulates sirt6 and nrf2, and increases f9a transcripts, potentially leading to bleeding tendencies (PMID=39856164). The TORC1-MItochondria-TORC1 (TOMITO) signaling process, involving YBR238C, regulates cellular aging processes (PMID=38713053). Mitochondrial metabolic modulation contributes to the longevity of daf-2 mutants, highlighting the crucial role of mitochondria in aging (PMID=40136535). Overexpression of the lncRNA aal1 prolongs lifespan in fission yeast and boosts fly lifespan by reducing ribosome content and attenuating translational capacity (PMID=39358533). Hypercapnia interferes with satellite cell activation, autophagy flux, and myogenesis, which can be improved by systemic rapamycin administration (PMID=39589836). Skeletal muscle function, particularly enhanced lysosomal and mitochondrial function via TFEB overexpression, can reduce neuroinflammation and tau pathology in the aged CNS, preserving cognition (PMID=37952157).\n",
      "--------------------------------\n",
      "\n"
     ]
    }
   ],
   "execution_count": 240
  },
  {
   "metadata": {},
   "cell_type": "markdown",
   "source": "# Run Prompts via Google Cloud Functions",
   "id": "1bb5fcf91f92d4c5"
  },
  {
   "metadata": {},
   "cell_type": "markdown",
   "source": [
    "## Summarization wrappers for Google Cloud Functions Execution\n",
    "\n",
    "`summarize_topics(..)` function works through this API. This implementation prepare data and calls endpoints in Google Cloud"
   ],
   "id": "1fb3cbb255954762"
  },
  {
   "metadata": {
    "ExecuteTime": {
     "end_time": "2025-05-07T23:12:26.435562Z",
     "start_time": "2025-05-07T23:12:26.430174Z"
    }
   },
   "cell_type": "code",
   "source": [
    "GOOGLE_MODEL_SUMMARIZE_TOPIC_ENDPOINT = os.getenv(\n",
    "    \"GOOGLE_MODEL_SUMMARIZE_TOPIC_ENDPOINT\",\n",
    "    \"https://put.your.url.endpoint.here\"\n",
    ")\n",
    "\n",
    "def prompt_summarize_abstracts(topic_data):\n",
    "    response = requests.post(\n",
    "        f\"{GOOGLE_MODEL_SUMMARIZE_TOPIC_ENDPOINT}\",\n",
    "        json=topic_data, # XXX Pass Python object here, not dump\n",
    "        # json=json.dumps(topic_data, ensure_ascii=False, indent=2),\n",
    "        headers={\"Content-Type\": \"application/json\"}\n",
    "    )\n",
    "\n",
    "    # 5. Handle response\n",
    "    if response.status_code == 200:\n",
    "        data = response.json()\n",
    "\n",
    "        if \"summary\" in data:\n",
    "            return data[\"summary\"]\n",
    "\n",
    "        print(f\"❌ Error: No summary in response\")\n",
    "    else:\n",
    "        print(f\"❌ Error: {response.status_code}\")\n",
    "\n",
    "    return \"\"\n"
   ],
   "id": "543e15f360ac977f",
   "outputs": [],
   "execution_count": 231
  },
  {
   "metadata": {
    "ExecuteTime": {
     "end_time": "2025-05-07T23:12:45.016785Z",
     "start_time": "2025-05-07T23:12:45.008639Z"
    }
   },
   "cell_type": "code",
   "source": [
    "GOOGLE_MODEL_SUMMARIZE_TOPIC_TITLE_ENDPOINT = os.getenv(\n",
    "    \"GOOGLE_MODEL_SUMMARIZE_TOPIC_TITLE_ENDPOINT\",\n",
    "    \"https://put.your.url.endpoint.here\"\n",
    ")\n",
    "\n",
    "def prompt_assign_title_to_summary(topic_summary_data):\n",
    "    response = requests.post(\n",
    "        f\"{GOOGLE_MODEL_SUMMARIZE_TOPIC_TITLE_ENDPOINT}\",\n",
    "        json=topic_summary_data,\n",
    "        headers={\"Content-Type\": \"application/json\"}\n",
    "    )\n",
    "\n",
    "    # Handle response\n",
    "    if response.status_code == 200:\n",
    "        data = response.json()\n",
    "\n",
    "        if \"title\" in data:\n",
    "            return data[\"title\"]\n",
    "\n",
    "        print(f\"❌ Error: No title in response\")\n",
    "    else:\n",
    "        print(f\"❌ Error: {response.status_code}\")\n",
    "\n",
    "    return \"\"\n"
   ],
   "id": "4e931a25fae11ecb",
   "outputs": [],
   "execution_count": 234
  },
  {
   "metadata": {},
   "cell_type": "markdown",
   "source": "## Run",
   "id": "69b240cb3fb72581"
  },
  {
   "metadata": {
    "ExecuteTime": {
     "end_time": "2025-05-07T21:17:50.908399Z",
     "start_time": "2025-05-07T21:15:30.260108Z"
    }
   },
   "cell_type": "code",
   "source": [
    "as_html=True\n",
    "\n",
    "result = summarize_topics(\n",
    "    data=data, topic_description_words=10, #config.topic_description_words,\n",
    "    # force_topic_name=1,\n",
    "    as_html=as_html\n",
    ")\n",
    "if as_html:\n",
    "    display(HTML(result))\n",
    "else:\n",
    "    print(result)"
   ],
   "id": "8dac65224d4a84fd",
   "outputs": [
    {
     "name": "stdout",
     "output_type": "stream",
     "text": [
      "Processing topic 0\n",
      "Highly connected papers: 164 -> 50\n",
      "Processing topic 1\n",
      "Highly connected papers: 152 -> 50\n",
      "Processing topic 2\n",
      "Highly connected papers: 139 -> 50\n",
      "Processing topic 3\n",
      "Highly connected papers: 104 -> 50\n",
      "Processing topic 4\n",
      "Highly connected papers: 101 -> 50\n",
      "Processing topic 5\n",
      "Highly connected papers: 92 -> 50\n",
      "Processing topic 6\n",
      "Highly connected papers: 58 -> 50\n",
      "Processing topic 7\n",
      "Highly connected papers: 57 -> 50\n",
      "Processing topic 8\n",
      "Highly connected papers: 55 -> 50\n",
      "Processing topic 9\n",
      "Highly connected papers: 36 -> 36\n"
     ]
    },
    {
     "data": {
      "text/plain": [
       "<IPython.core.display.HTML object>"
      ],
      "text/html": [
       "<table style=\"width:100%; border-collapse: collapse;\">\n",
       "<tr>\n",
       "<td style='padding: 1em; border-bottom: 1px solid #ccc; text-align: left;'>\n",
       "<h3 style='margin: 0 0 0.5em 0; font-weight: normal;'>Topic 1</h3>\n",
       "<p style='margin: 0 0 0.5em 0;'><strong>This study investigates how various biological and lifestyle factors associate with the risk of accelerated aging and mortality in adults.\n",
       "</strong></p>\n",
       "<hr style='border: none; border-top: 1px solid #ccc;'/>\n",
       "<p>Aging is a complex process characterized by a gradual decline in functional capacity and increased susceptibility to diseases, and various methods are being developed to measure biological age beyond chronological age to better understand individual trajectories (<a href=\"https://pubmed.ncbi.nlm.nih.gov/38581608\" target=\"_blank\">PMID: 38581608</a>, <a href=\"https://pubmed.ncbi.nlm.nih.gov/38058300\" target=\"_blank\">PMID: 38058300</a>). Biomarkers such as proteomic profiles, epigenetic clocks, physiological indicators, and telomere length are utilized to estimate biological age and predict risks for age-related diseases, multimorbidity, and mortality (<a href=\"https://pubmed.ncbi.nlm.nih.gov/39117878\" target=\"_blank\">PMID: 39117878</a>, <a href=\"https://pubmed.ncbi.nlm.nih.gov/38130910\" target=\"_blank\">PMID: 38130910</a>, <a href=\"https://pubmed.ncbi.nlm.nih.gov/39633416\" target=\"_blank\">PMID: 39633416</a>). Longitudinal studies mapping the blood proteome have identified aging-related proteins associated with clinical traits and chronic diseases, leading to the development of proteomic healthy aging scores capable of predicting cardiometabolic disease incidence (<a href=\"https://pubmed.ncbi.nlm.nih.gov/39805987\" target=\"_blank\">PMID: 39805987</a>). Epigenetic clocks, particularly GrimAge and GrimAge2, have demonstrated strong associations with all-cause and cause-specific mortality risk, often showing superior predictive performance compared to earlier clocks like HorvathAge and HannumAge (<a href=\"https://pubmed.ncbi.nlm.nih.gov/40301953\" target=\"_blank\">PMID: 40301953</a>, <a href=\"https://pubmed.ncbi.nlm.nih.gov/39633416\" target=\"_blank\">PMID: 39633416</a>). Physiological age, derived from clinical indicators, also reveals disparities in aging trajectories influenced by factors like sex and education, with higher education potentially providing a greater midlife buffer against physiological aging for women (<a href=\"https://pubmed.ncbi.nlm.nih.gov/39830243\" target=\"_blank\">PMID: 39830243</a>, <a href=\"https://pubmed.ncbi.nlm.nih.gov/40156883\" target=\"_blank\">PMID: 40156883</a>). Growth differentiation factor 15 (GDF-15) is another significant biomarker, increasing with age and correlating with epigenetic aging clocks, impaired glycemic control, inflammation, and physical decline (<a href=\"https://pubmed.ncbi.nlm.nih.gov/39644331\" target=\"_blank\">PMID: 39644331</a>). Beyond biological markers, multidomain frameworks integrating objective indicators like hearing loss, tooth loss, and falls with subjective aging perceptions are associated with increased risks of all-cause and cause-specific premature mortality (<a href=\"https://pubmed.ncbi.nlm.nih.gov/39863635\" target=\"_blank\">PMID: 39863635</a>). Social factors, including disadvantage, discrimination, loss of loved ones, and social deficits, are linked to accelerated biological aging and increased risk of age-related diseases, potentially mediated by inflammatory pathways (<a href=\"https://pubmed.ncbi.nlm.nih.gov/40087516\" target=\"_blank\">PMID: 40087516</a>, <a href=\"https://pubmed.ncbi.nlm.nih.gov/39132086\" target=\"_blank\">PMID: 39132086</a>, <a href=\"https://pubmed.ncbi.nlm.nih.gov/39073817\" target=\"_blank\">PMID: 39073817</a>, <a href=\"https://pubmed.ncbi.nlm.nih.gov/39973988\" target=\"_blank\">PMID: 39973988</a>). Lifestyle factors significantly influence biological aging, with physical activity generally associated with lower age acceleration and longevity, while sedentary behavior, particularly screen time, is linked to accelerated epigenetic aging (<a href=\"https://pubmed.ncbi.nlm.nih.gov/39230733\" target=\"_blank\">PMID: 39230733</a>, <a href=\"https://pubmed.ncbi.nlm.nih.gov/39794269\" target=\"_blank\">PMID: 39794269</a>, <a href=\"https://pubmed.ncbi.nlm.nih.gov/39821867\" target=\"_blank\">PMID: 39821867</a>). Dietary factors also play a role, as higher intake of methyl donor nutrients is negatively associated with phenotypic age acceleration, while sugar-sweetened beverage intake, especially in the evening, is positively correlated with it, potentially mediated by obesity (<a href=\"https://pubmed.ncbi.nlm.nih.gov/40221525\" target=\"_blank\">PMID: 40221525</a>, <a href=\"https://pubmed.ncbi.nlm.nih.gov/39780125\" target=\"_blank\">PMID: 39780125</a>). Insulin resistance, indicated by the Triglyceride-glucose index, is positively associated with biological age and accelerated aging risk (<a href=\"https://pubmed.ncbi.nlm.nih.gov/40022176\" target=\"_blank\">PMID: 40022176</a>). Environmental exposures like volatile organic compounds are also linked to biological aging, with daily behaviors potentially influencing susceptibility (<a href=\"https://pubmed.ncbi.nlm.nih.gov/40264054\" target=\"_blank\">PMID: 40264054</a>). Interventions such as enhancing cardiorespiratory fitness, time-restricted eating, and visual arts-mediated cognitive activation therapy show potential in slowing biological aging or mitigating its effects on health outcomes like chronic respiratory diseases, inflammation, oxidative stress, and dementia (<a href=\"https://pubmed.ncbi.nlm.nih.gov/39391738\" target=\"_blank\">PMID: 39391738</a>, <a href=\"https://pubmed.ncbi.nlm.nih.gov/39861451\" target=\"_blank\">PMID: 39861451</a>, <a href=\"https://pubmed.ncbi.nlm.nih.gov/38524114\" target=\"_blank\">PMID: 38524114</a>).</p>\n",
       "<hr style='border: none; border-top: 1px dashed #ccc;'/>\n",
       "</td>\n",
       "</tr>\n",
       "<tr>\n",
       "<td style='padding: 1em; border-bottom: 1px solid #ccc; text-align: left;'>\n",
       "<h3 style='margin: 0 0 0.5em 0; font-weight: normal;'>Topic 2</h3>\n",
       "<p style='margin: 0 0 0.5em 0;'><strong>Mitochondrial dysfunction and metabolic dysregulation are key factors in aging, impacting muscle and neuronal function, and are regulated by genetic and protein pathways in mouse models.\n",
       "</strong></p>\n",
       "<hr style='border: none; border-top: 1px solid #ccc;'/>\n",
       "<p>Aging is a complex process marked by cellular and molecular changes like cellular senescence, mitochondrial dysfunction, and impaired proteostasis, which contribute to age-related diseases and functional decline (<a href=\"https://pubmed.ncbi.nlm.nih.gov/40316527\" target=\"_blank\">PMID: 40316527</a>, <a href=\"https://pubmed.ncbi.nlm.nih.gov/37731280\" target=\"_blank\">PMID: 37731280</a>, <a href=\"https://pubmed.ncbi.nlm.nih.gov/39379739\" target=\"_blank\">PMID: 39379739</a>, <a href=\"https://pubmed.ncbi.nlm.nih.gov/39383859\" target=\"_blank\">PMID: 39383859</a>). Cellular senescence, characterized by a stable proliferation arrest and an inflammatory senescence-associated secretory phenotype (SASP), is a key driver of aging (<a href=\"https://pubmed.ncbi.nlm.nih.gov/39178863\" target=\"_blank\">PMID: 39178863</a>, <a href=\"https://pubmed.ncbi.nlm.nih.gov/40021646\" target=\"_blank\">PMID: 40021646</a>). SASP expression is influenced by factors like cytoplasmic chromatin fragments activating the cGAS/STING pathway, and proteins like HIRA and PML are essential for this process (<a href=\"https://pubmed.ncbi.nlm.nih.gov/39178863\" target=\"_blank\">PMID: 39178863</a>, <a href=\"https://pubmed.ncbi.nlm.nih.gov/40021646\" target=\"_blank\">PMID: 40021646</a>). ACSS2 promotes SASP by acetylating PAICS, limiting purine metabolism and exacerbating cytoplasmic chromatin fragment accumulation, suggesting ACSS2 as a senomorphic target (<a href=\"https://pubmed.ncbi.nlm.nih.gov/40021646\" target=\"_blank\">PMID: 40021646</a>). The TBK1-ATAD3A-Pink1 axis also drives cellular senescence, presenting a potential mitochondrial target for anti-aging therapy (<a href=\"https://pubmed.ncbi.nlm.nih.gov/39520088\" target=\"_blank\">PMID: 39520088</a>). Mitochondrial dysfunction is a central hallmark of aging, linked to various age-related diseases and functional decline in tissues like the brain, skeletal muscle, and heart (<a href=\"https://pubmed.ncbi.nlm.nih.gov/37731280\" target=\"_blank\">PMID: 37731280</a>, <a href=\"https://pubmed.ncbi.nlm.nih.gov/36982549\" target=\"_blank\">PMID: 36982549</a>, <a href=\"https://pubmed.ncbi.nlm.nih.gov/39187977\" target=\"_blank\">PMID: 39187977</a>, <a href=\"https://pubmed.ncbi.nlm.nih.gov/39699959\" target=\"_blank\">PMID: 39699959</a>). Aged hippocampal mitochondria show impaired bioenergetic function, increased ROS, calcium deregulation, and decreased biogenesis and mitophagy (<a href=\"https://pubmed.ncbi.nlm.nih.gov/36982549\" target=\"_blank\">PMID: 36982549</a>). Mitochondrial DNA turnover decreases with age in skeletal muscle, contributing to genomic integrity loss and dysfunction (<a href=\"https://pubmed.ncbi.nlm.nih.gov/39312152\" target=\"_blank\">PMID: 39312152</a>). Defects in mitochondrial protein and organelle quality control are linked to age-related diseases (<a href=\"https://pubmed.ncbi.nlm.nih.gov/37731280\" target=\"_blank\">PMID: 37731280</a>). The mTORC1 signaling pathway, often hyperactivated with aging, contributes to cardiac dysfunction by dysregulating proteostasis (<a href=\"https://pubmed.ncbi.nlm.nih.gov/39379739\" target=\"_blank\">PMID: 39379739</a>). Loss of proteostasis is also a hallmark of aging and Alzheimer&#x27;s disease, and the ketone body β-hydroxybutyrate (HB) regulates protein solubility, selectively targeting pathological proteins like amyloid-β (<a href=\"https://pubmed.ncbi.nlm.nih.gov/39626664\" target=\"_blank\">PMID: 39626664</a>). Aging causes a widespread reduction of proteins enriched in basic amino acids, independent of mRNA regulation, due to aberrant translation pausing and reduced ribosome availability (<a href=\"https://pubmed.ncbi.nlm.nih.gov/38260253\" target=\"_blank\">PMID: 38260253</a>). Oxidative protein folding in the ER, producing H2O2, promotes cell aging, identifying PDI as a potential target (<a href=\"https://pubmed.ncbi.nlm.nih.gov/37306027\" target=\"_blank\">PMID: 37306027</a>). Endogenous DNA damage promotes hallmarks of age-related retinal degeneration, as seen in Ercc1-/- mice (<a href=\"https://pubmed.ncbi.nlm.nih.gov/39604117\" target=\"_blank\">PMID: 39604117</a>). Age-related skeletal muscle deterioration involves reduced SIRT5 expression, which normally desuccinylates TBK1 to suppress inflammation, suggesting the SIRT5-TBK1 pathway as a target (<a href=\"https://pubmed.ncbi.nlm.nih.gov/40087407\" target=\"_blank\">PMID: 40087407</a>). Endothelial cell senescence, caused by Tert loss, induces transcriptional changes indicative of senescence and tissue hypoxia, compromising the blood-brain barrier and reducing muscle endurance, partly through a telomere length-independent mechanism undermining mitochondrial function (<a href=\"https://pubmed.ncbi.nlm.nih.gov/38475941\" target=\"_blank\">PMID: 38475941</a>). Blood-borne factors like osteocalcin (OCN) maintain neuronal synaptic plasticity via a primary cilium (PC) protein-autophagy axis, which declines with aging, and restoring this axis improves cognitive impairments (<a href=\"https://pubmed.ncbi.nlm.nih.gov/39984747\" target=\"_blank\">PMID: 39984747</a>). Dietary components like branched-chain amino acids (BCAAs) influence healthy aging, with restriction protecting against metabolic consequences and having tissue-specific effects on senescence (<a href=\"https://pubmed.ncbi.nlm.nih.gov/39868338\" target=\"_blank\">PMID: 39868338</a>). Pharmacological interventions show promise, such as Procyanidin C1 (PCC1) counteracting aging in the hematopoietic and immune system by improving physiological parameters, increasing B cells and HSCs, suppressing senescence markers, and restoring immune homeostasis (<a href=\"https://pubmed.ncbi.nlm.nih.gov/40316527\" target=\"_blank\">PMID: 40316527</a>). Apigenin may protect against age-related cognitive dysfunction by suppressing neuro-inflammatory processes driven by glial cells (<a href=\"https://pubmed.ncbi.nlm.nih.gov/38007051\" target=\"_blank\">PMID: 38007051</a>). Pharmacological induction of mitophagy with urolithin A attenuates inflammation and ameliorates neurological function in old mice (<a href=\"https://pubmed.ncbi.nlm.nih.gov/38280852\" target=\"_blank\">PMID: 38280852</a>). Inhibition of mitochondrial malate dehydrogenase (MDH2) delays aging through metabolic-epigenetic regulation, identifying MDH2 as a potential therapeutic target and Glibenclamide as a lead compound (<a href=\"https://pubmed.ncbi.nlm.nih.gov/39962087\" target=\"_blank\">PMID: 39962087</a>). Blocking neddylation increased cellular hallmarks of aging and led to increased Tau aggregation and phosphorylation in neurons, indicating that cellular aging can reveal late-onset disease phenotypes (<a href=\"https://pubmed.ncbi.nlm.nih.gov/38917806\" target=\"_blank\">PMID: 38917806</a>). Suppression of NF-κB in cardiomyocytes leads to pronounced cardiac remodeling, dysfunction, and cellular damage associated with aging, influencing both cellular senescence and molecular damage pathways (<a href=\"https://pubmed.ncbi.nlm.nih.gov/39857807\" target=\"_blank\">PMID: 39857807</a>). Pharmacological elevation of CISD2 expression at a late-life stage using hesperetin treatment is a feasible approach to effectively mitigating both intrinsic and extrinsic skin aging (<a href=\"https://pubmed.ncbi.nlm.nih.gov/38263133\" target=\"_blank\">PMID: 38263133</a>). Inhibition of SGLT2 enhances clearance of senescent cells, ameliorating age-associated phenotypic changes and extending lifespan in premature aging mice (<a href=\"https://pubmed.ncbi.nlm.nih.gov/38816549\" target=\"_blank\">PMID: 38816549</a>). Muscle-specific overexpression of TFEB, enhancing lysosomal and mitochondrial function, reduces neuroinflammation and tau pathology, preserving cognition in aged mice (<a href=\"https://pubmed.ncbi.nlm.nih.gov/37952157\" target=\"_blank\">PMID: 37952157</a>). Betaine transcriptionally represses Mss51 via Yy1, improving age-related mitochondrial respiration in skeletal muscle and delaying muscle loss (<a href=\"https://pubmed.ncbi.nlm.nih.gov/39187977\" target=\"_blank\">PMID: 39187977</a>). The uncharacterized gene CG11837, a putative ortholog of human DIMT1, regulates insect lifespan and protects human cells from cellular senescence (<a href=\"https://pubmed.ncbi.nlm.nih.gov/38834883\" target=\"_blank\">PMID: 38834883</a>). Hypercapnia interferes with satellite cell activation, autophagy flux, and myogenesis, and systemic rapamycin administration improves these outcomes (<a href=\"https://pubmed.ncbi.nlm.nih.gov/39589836\" target=\"_blank\">PMID: 39589836</a>).</p>\n",
       "<hr style='border: none; border-top: 1px dashed #ccc;'/>\n",
       "</td>\n",
       "</tr>\n",
       "<tr>\n",
       "<td style='padding: 1em; border-bottom: 1px solid #ccc; text-align: left;'>\n",
       "<h3 style='margin: 0 0 0.5em 0; font-weight: normal;'>Topic 3</h3>\n",
       "<p style='margin: 0 0 0.5em 0;'><strong>The gut microbiotas and metabolites are effective in anti-aging interventions, potentially extending lifespans.\n",
       "</strong></p>\n",
       "<hr style='border: none; border-top: 1px solid #ccc;'/>\n",
       "<p>Aging is a primary risk factor for most chronic disorders, characterized by cellular senescence and the development of a pro-inflammatory senescence-associated secretory phenotype (SASP), which significantly contributes to organismal aging and age-related diseases (<a href=\"https://pubmed.ncbi.nlm.nih.gov/37475161\" target=\"_blank\">PMID: 37475161</a>, <a href=\"https://pubmed.ncbi.nlm.nih.gov/38502584\" target=\"_blank\">PMID: 38502584</a>, <a href=\"https://pubmed.ncbi.nlm.nih.gov/39273040\" target=\"_blank\">PMID: 39273040</a>, <a href=\"https://pubmed.ncbi.nlm.nih.gov/39604391\" target=\"_blank\">PMID: 39604391</a>). This age-associated inflammation, termed inflammaging, is multifactorial and involves various pathways, including inflammasome activation, which can manifest at both transcriptional and post-translational levels depending on the tissue (<a href=\"https://pubmed.ncbi.nlm.nih.gov/39256821\" target=\"_blank\">PMID: 39256821</a>). Mitochondrial dysfunction is also a key determinant of aging, impacting cellular fitness and contributing to age-related decline (<a href=\"https://pubmed.ncbi.nlm.nih.gov/39273040\" target=\"_blank\">PMID: 39273040</a>, <a href=\"https://pubmed.ncbi.nlm.nih.gov/39872286\" target=\"_blank\">PMID: 39872286</a>, <a href=\"https://pubmed.ncbi.nlm.nih.gov/39599637\" target=\"_blank\">PMID: 39599637</a>, <a href=\"https://pubmed.ncbi.nlm.nih.gov/38613037\" target=\"_blank\">PMID: 38613037</a>, <a href=\"https://pubmed.ncbi.nlm.nih.gov/39857414\" target=\"_blank\">PMID: 39857414</a>). Furthermore, aging involves metabolic changes, such as altered arginine metabolism in red blood cells, which serves as a biomarker for aging and is linked to cellular damage (<a href=\"https://pubmed.ncbi.nlm.nih.gov/39478346\" target=\"_blank\">PMID: 39478346</a>, <a href=\"https://pubmed.ncbi.nlm.nih.gov/39604391\" target=\"_blank\">PMID: 39604391</a>). The gut microbiome undergoes considerable changes with age, influencing host metabolism and aging processes through complex interactions, and these changes can be sex and mitochondrial-haplotype specific (<a href=\"https://pubmed.ncbi.nlm.nih.gov/37582366\" target=\"_blank\">PMID: 37582366</a>, <a href=\"https://pubmed.ncbi.nlm.nih.gov/40140706\" target=\"_blank\">PMID: 40140706</a>, <a href=\"https://pubmed.ncbi.nlm.nih.gov/39560153\" target=\"_blank\">PMID: 39560153</a>, <a href=\"https://pubmed.ncbi.nlm.nih.gov/40015964\" target=\"_blank\">PMID: 40015964</a>, <a href=\"https://pubmed.ncbi.nlm.nih.gov/38364095\" target=\"_blank\">PMID: 38364095</a>, <a href=\"https://pubmed.ncbi.nlm.nih.gov/39628383\" target=\"_blank\">PMID: 39628383</a>, <a href=\"https://pubmed.ncbi.nlm.nih.gov/40074999\" target=\"_blank\">PMID: 40074999</a>). Age-related changes are heterogeneous across different cell types and tissues, with some populations being more transcriptionally dynamic than others, and can involve DNA damage, epigenetic alterations, and changes in stem cell populations (<a href=\"https://pubmed.ncbi.nlm.nih.gov/37706427\" target=\"_blank\">PMID: 37706427</a>, <a href=\"https://pubmed.ncbi.nlm.nih.gov/38502584\" target=\"_blank\">PMID: 38502584</a>, <a href=\"https://pubmed.ncbi.nlm.nih.gov/39385256\" target=\"_blank\">PMID: 39385256</a>, <a href=\"https://pubmed.ncbi.nlm.nih.gov/38604248\" target=\"_blank\">PMID: 38604248</a>, <a href=\"https://pubmed.ncbi.nlm.nih.gov/39604391\" target=\"_blank\">PMID: 39604391</a>). Vascular aging, driven by factors like oxidative stress and inflammation, promotes atherosclerosis, while the accumulation of senescent cells in vascular tissues is considered a primary cause (<a href=\"https://pubmed.ncbi.nlm.nih.gov/38502584\" target=\"_blank\">PMID: 38502584</a>). Similarly, senescent hepatocytes accumulate in metabolic dysfunction-associated steatotic liver disease (MASLD) and contribute to disease progression by losing key functions and releasing detrimental factors (<a href=\"https://pubmed.ncbi.nlm.nih.gov/40155379\" target=\"_blank\">PMID: 40155379</a>). Targeting senescent cells with senotherapeutics, which include senolytics that eliminate senescent cells and senomorphics that suppress the SASP, is an emerging strategy to delay aging and alleviate age-related pathologies (<a href=\"https://pubmed.ncbi.nlm.nih.gov/37475161\" target=\"_blank\">PMID: 37475161</a>, <a href=\"https://pubmed.ncbi.nlm.nih.gov/40155379\" target=\"_blank\">PMID: 40155379</a>, <a href=\"https://pubmed.ncbi.nlm.nih.gov/39730824\" target=\"_blank\">PMID: 39730824</a>, <a href=\"https://pubmed.ncbi.nlm.nih.gov/40220121\" target=\"_blank\">PMID: 40220121</a>, <a href=\"https://pubmed.ncbi.nlm.nih.gov/39463954\" target=\"_blank\">PMID: 39463954</a>). Natural compounds and dietary interventions show promise as senotherapeutics or modulators of aging pathways; for instance, Rutin acts as a senomorphic by dampening SASP expression, while curcumin prolongs lifespan by inhibiting TORC1 and enhancing ATP levels (<a href=\"https://pubmed.ncbi.nlm.nih.gov/37475161\" target=\"_blank\">PMID: 37475161</a>, <a href=\"https://pubmed.ncbi.nlm.nih.gov/39273040\" target=\"_blank\">PMID: 39273040</a>). Other compounds like Ginkgetin inhibit the cGAS-STING pathway to alleviate inflammation and senescence, and specific bacterial derivatives or dietary components like cinnamaldehyde and fish collagen oligopeptides demonstrate anti-aging effects by modulating pathways like mTORC1, autophagy, oxidative stress, and inflammation (<a href=\"https://pubmed.ncbi.nlm.nih.gov/39558862\" target=\"_blank\">PMID: 39558862</a>, <a href=\"https://pubmed.ncbi.nlm.nih.gov/39560153\" target=\"_blank\">PMID: 39560153</a>, <a href=\"https://pubmed.ncbi.nlm.nih.gov/39760475\" target=\"_blank\">PMID: 39760475</a>, <a href=\"https://pubmed.ncbi.nlm.nih.gov/38613037\" target=\"_blank\">PMID: 38613037</a>). Time-restricted feeding can also preserve some aspects of organ function that decline with aging, such as retinal function (<a href=\"https://pubmed.ncbi.nlm.nih.gov/38964431\" target=\"_blank\">PMID: 38964431</a>). Furthermore, interventions targeting protein damage, like immunotherapy against isoDGR-modified proteins, or modulating specific metabolic pathways, such as branched-chain amino acid metabolism via gut microbiota, show potential for mitigating age-related decline (<a href=\"https://pubmed.ncbi.nlm.nih.gov/37971164\" target=\"_blank\">PMID: 37971164</a>, <a href=\"https://pubmed.ncbi.nlm.nih.gov/39628383\" target=\"_blank\">PMID: 39628383</a>). Artificial intelligence platforms are being developed to identify potential geroprotectors and provide insights into aging mechanisms (<a href=\"https://pubmed.ncbi.nlm.nih.gov/39627462\" target=\"_blank\">PMID: 39627462</a>).</p>\n",
       "<hr style='border: none; border-top: 1px dashed #ccc;'/>\n",
       "</td>\n",
       "</tr>\n",
       "<tr>\n",
       "<td style='padding: 1em; border-bottom: 1px solid #ccc; text-align: left;'>\n",
       "<h3 style='margin: 0 0 0.5em 0; font-weight: normal;'>Topic 4</h3>\n",
       "<p style='margin: 0 0 0.5em 0;'><strong>Cellular senescence, driven by inflammation and regulated by various signaling pathways, is a key factor in aging, with potential treatments targeting senescent cells and their effects.\n",
       "</strong></p>\n",
       "<hr style='border: none; border-top: 1px solid #ccc;'/>\n",
       "<p>Aging involves progressive deterioration across multiple biological systems, characterized by molecular dysregulation and functional decline (<a href=\"https://pubmed.ncbi.nlm.nih.gov/37481675\" target=\"_blank\">PMID: 37481675</a>, <a href=\"https://pubmed.ncbi.nlm.nih.gov/38107570\" target=\"_blank\">PMID: 38107570</a>). Cellular senescence, a state of permanent cell cycle arrest, is a key hallmark of aging, contributing to tissue dysfunction and age-related diseases (<a href=\"https://pubmed.ncbi.nlm.nih.gov/37697347\" target=\"_blank\">PMID: 37697347</a>, <a href=\"https://pubmed.ncbi.nlm.nih.gov/39739833\" target=\"_blank\">PMID: 39739833</a>, <a href=\"https://pubmed.ncbi.nlm.nih.gov/38107570\" target=\"_blank\">PMID: 38107570</a>). Senescent cells often exhibit a senescence-associated secretory phenotype (SASP), releasing pro-inflammatory factors and other molecules that can impact surrounding tissues and promote chronic inflammation (<a href=\"https://pubmed.ncbi.nlm.nih.gov/38839869\" target=\"_blank\">PMID: 38839869</a>, <a href=\"https://pubmed.ncbi.nlm.nih.gov/39012326\" target=\"_blank\">PMID: 39012326</a>, <a href=\"https://pubmed.ncbi.nlm.nih.gov/39617789\" target=\"_blank\">PMID: 39617789</a>). For instance, senescent lung endothelial cells weaken cell-cell junctions and promote neutrophil migration, contributing to inflammation (<a href=\"https://pubmed.ncbi.nlm.nih.gov/39815038\" target=\"_blank\">PMID: 39815038</a>), while senescent microglia contribute to neuroinflammation in the brain (<a href=\"https://pubmed.ncbi.nlm.nih.gov/39404415\" target=\"_blank\">PMID: 39404415</a>). The SASP is regulated by various pathways, including ASK1-p38 signaling (<a href=\"https://pubmed.ncbi.nlm.nih.gov/38839869\" target=\"_blank\">PMID: 38839869</a>), NF-κB activation (<a href=\"https://pubmed.ncbi.nlm.nih.gov/37697347\" target=\"_blank\">PMID: 37697347</a>), and involves extensive actin cytoskeleton remodeling linked to cell enlargement (<a href=\"https://pubmed.ncbi.nlm.nih.gov/39962062\" target=\"_blank\">PMID: 39962062</a>). DNA damage and impaired DNA repair capacity are also observed in senescent cells, potentially making them &quot;ticking bombs&quot; (<a href=\"https://pubmed.ncbi.nlm.nih.gov/39739833\" target=\"_blank\">PMID: 39739833</a>, <a href=\"https://pubmed.ncbi.nlm.nih.gov/39772747\" target=\"_blank\">PMID: 39772747</a>).</p>\n",
       "<p>Maintaining protein homeostasis (proteostasis) is crucial, as its decline with age contributes to neurodegenerative disorders (<a href=\"https://pubmed.ncbi.nlm.nih.gov/39753948\" target=\"_blank\">PMID: 39753948</a>). Mitochondrial dysfunction is another significant factor in aging, affecting bioenergetic function and contributing to cellular senescence and inflammation (<a href=\"https://pubmed.ncbi.nlm.nih.gov/39554099\" target=\"_blank\">PMID: 39554099</a>, <a href=\"https://pubmed.ncbi.nlm.nih.gov/38627524\" target=\"_blank\">PMID: 38627524</a>, <a href=\"https://pubmed.ncbi.nlm.nih.gov/39868046\" target=\"_blank\">PMID: 39868046</a>, <a href=\"https://pubmed.ncbi.nlm.nih.gov/38157106\" target=\"_blank\">PMID: 38157106</a>, <a href=\"https://pubmed.ncbi.nlm.nih.gov/38397399\" target=\"_blank\">PMID: 38397399</a>). Impaired mitochondrial function can lead to increased reactive oxygen species (ROS) and DNA damage, triggering senescence (<a href=\"https://pubmed.ncbi.nlm.nih.gov/38689095\" target=\"_blank\">PMID: 38689095</a>, <a href=\"https://pubmed.ncbi.nlm.nih.gov/38217101\" target=\"_blank\">PMID: 38217101</a>).</p>\n",
       "<p>Several interventions and compounds show promise in mitigating aging effects. Systems-level analysis reveals that lifespan-extending interventions like calorie restriction and rapamycin often tighten the regulation of biological modules, particularly in metabolism and stress response, and reduce inflammation (<a href=\"https://pubmed.ncbi.nlm.nih.gov/37481675\" target=\"_blank\">PMID: 37481675</a>, <a href=\"https://pubmed.ncbi.nlm.nih.gov/37698783\" target=\"_blank\">PMID: 37698783</a>). Calorie restriction benefits may be partly mediated by metabolites like lithocholic acid (LCA), which activates AMPK (<a href=\"https://pubmed.ncbi.nlm.nih.gov/39695227\" target=\"_blank\">PMID: 39695227</a>). Young blood components, specifically small extracellular vesicles (sEVs), can counteract aging by stimulating PGC-1 expression and enhancing mitochondrial function (<a href=\"https://pubmed.ncbi.nlm.nih.gov/38627524\" target=\"_blank\">PMID: 38627524</a>, <a href=\"https://pubmed.ncbi.nlm.nih.gov/40082997\" target=\"_blank\">PMID: 40082997</a>). The peptide DADLE improved motor/cognitive function and extended lifespan in aged mice, reducing inflammation and increasing anti-aging markers (<a href=\"https://pubmed.ncbi.nlm.nih.gov/39312071\" target=\"_blank\">PMID: 39312071</a>). Mitochondrial-targeted peptide Elamipretide improved functional declines in aging mice, associated with pro-longevity shifts in gene expression related to metabolism and reduced inflammation, although not always reflected in molecular age markers (<a href=\"https://pubmed.ncbi.nlm.nih.gov/39554099\" target=\"_blank\">PMID: 39554099</a>). Ketone bodies like beta-hydroxybutyrate (BHB), induced by ketogenic diets, can improve brain function, memory, and synaptic plasticity in aged mice, potentially by attenuating microglial inflammatory responses and promoting autophagy (<a href=\"https://pubmed.ncbi.nlm.nih.gov/38843842\" target=\"_blank\">PMID: 38843842</a>, <a href=\"https://pubmed.ncbi.nlm.nih.gov/39697898\" target=\"_blank\">PMID: 39697898</a>, <a href=\"https://pubmed.ncbi.nlm.nih.gov/38106160\" target=\"_blank\">PMID: 38106160</a>, <a href=\"https://pubmed.ncbi.nlm.nih.gov/39126207\" target=\"_blank\">PMID: 39126207</a>, <a href=\"https://pubmed.ncbi.nlm.nih.gov/39821043\" target=\"_blank\">PMID: 39821043</a>). The gut microbiome also influences aging; an aged microbiome can accelerate vascular aging and metabolic impairment, which can be improved by acetate supplementation or a high-fiber diet (<a href=\"https://pubmed.ncbi.nlm.nih.gov/39897133\" target=\"_blank\">PMID: 39897133</a>, <a href=\"https://pubmed.ncbi.nlm.nih.gov/38157106\" target=\"_blank\">PMID: 38157106</a>).</p>\n",
       "<p>Targeting senescent cells or their effects is a therapeutic strategy; senolytics like TBB can selectively eliminate senescent cells by disrupting heterochromatin remodeling (<a href=\"https://pubmed.ncbi.nlm.nih.gov/38816370\" target=\"_blank\">PMID: 38816370</a>), while inhibiting the YAP-TEAD pathway with verteporfin can eliminate senescent cells by hindering ER activity required for SASP (<a href=\"https://pubmed.ncbi.nlm.nih.gov/37667102\" target=\"_blank\">PMID: 37667102</a>). CAR-T cells targeting NKG2D ligands on senescent cells show potential for selective elimination (<a href=\"https://pubmed.ncbi.nlm.nih.gov/38704364\" target=\"_blank\">PMID: 38704364</a>). Compounds like Procyanidin A1 (PC A1) from peanut skin extract alleviate senescence by reducing ROS and inducing autophagy (<a href=\"https://pubmed.ncbi.nlm.nih.gov/40227314\" target=\"_blank\">PMID: 40227314</a>). Bisphosphonates, used for bone loss, also show extra-skeletal anti-aging effects, potentially by influencing senescence, autophagy, and inflammation pathways (<a href=\"https://pubmed.ncbi.nlm.nih.gov/40196558\" target=\"_blank\">PMID: 40196558</a>). Other potential targets include Cysltr1 for retinal aging (<a href=\"https://pubmed.ncbi.nlm.nih.gov/39891615\" target=\"_blank\">PMID: 39891615</a>), LEF1 in immune cell senescence (<a href=\"https://pubmed.ncbi.nlm.nih.gov/37961030\" target=\"_blank\">PMID: 37961030</a>), and the PI3K-AKT-FOXO1 pathway in endometrial aging (<a href=\"https://pubmed.ncbi.nlm.nih.gov/39695355\" target=\"_blank\">PMID: 39695355</a>). Oxidative protein folding in the ER also promotes cell aging (<a href=\"https://pubmed.ncbi.nlm.nih.gov/38771153\" target=\"_blank\">PMID: 38771153</a>). A novel hypothesis suggests tissue autodigestion by leaking digestive enzymes from the gut contributes to aging (<a href=\"https://pubmed.ncbi.nlm.nih.gov/39418235\" target=\"_blank\">PMID: 39418235</a>). PML nuclear bodies and their associated proteins also play a significant role in cellular aging processes (<a href=\"https://pubmed.ncbi.nlm.nih.gov/39768166\" target=\"_blank\">PMID: 39768166</a>).</p>\n",
       "<hr style='border: none; border-top: 1px dashed #ccc;'/>\n",
       "</td>\n",
       "</tr>\n",
       "<tr>\n",
       "<td style='padding: 1em; border-bottom: 1px solid #ccc; text-align: left;'>\n",
       "<h3 style='margin: 0 0 0.5em 0; font-weight: normal;'>Topic 5</h3>\n",
       "<p style='margin: 0 0 0.5em 0;'><strong>Researchers in the field of geroscience are using science and tools to publicly study aging, identifying challenges and potential medicine through ketone trials.\n",
       "</strong></p>\n",
       "<hr style='border: none; border-top: 1px solid #ccc;'/>\n",
       "<p>Aging is a complex process influenced by various factors, and researchers are developing methods to measure biological age, which often deviates from chronological age and better reflects health and disease risk (<a href=\"https://pubmed.ncbi.nlm.nih.gov/39392224\" target=\"_blank\">PMID: 39392224</a>, <a href=\"https://pubmed.ncbi.nlm.nih.gov/40159527\" target=\"_blank\">PMID: 40159527</a>, <a href=\"https://pubmed.ncbi.nlm.nih.gov/39369207\" target=\"_blank\">PMID: 39369207</a>). Epigenetic clocks, particularly those based on DNA methylation, are widely used biomarkers that predict chronological age, health outcomes, and mortality, with newer generations incorporating health and lifestyle factors (<a href=\"https://pubmed.ncbi.nlm.nih.gov/39411517\" target=\"_blank\">PMID: 39411517</a>, <a href=\"https://pubmed.ncbi.nlm.nih.gov/39888134\" target=\"_blank\">PMID: 39888134</a>, <a href=\"https://pubmed.ncbi.nlm.nih.gov/38441802\" target=\"_blank\">PMID: 38441802</a>, <a href=\"https://pubmed.ncbi.nlm.nih.gov/38482631\" target=\"_blank\">PMID: 38482631</a>). These clocks can be developed for different tissues like blood, buccal swabs, and saliva, and their outputs, while useful indicators, should not be conflated with whole-body biological aging (<a href=\"https://pubmed.ncbi.nlm.nih.gov/39411517\" target=\"_blank\">PMID: 39411517</a>, <a href=\"https://pubmed.ncbi.nlm.nih.gov/39888134\" target=\"_blank\">PMID: 39888134</a>, <a href=\"https://pubmed.ncbi.nlm.nih.gov/38037563\" target=\"_blank\">PMID: 38037563</a>, <a href=\"https://pubmed.ncbi.nlm.nih.gov/39392224\" target=\"_blank\">PMID: 39392224</a>). Studies show that lifestyle factors such as diet, physical activity, sleep, obesity, and tobacco use are significantly associated with accelerated biological aging as measured by these clocks, particularly those trained on morbidity and mortality (<a href=\"https://pubmed.ncbi.nlm.nih.gov/39073811\" target=\"_blank\">PMID: 39073811</a>, <a href=\"https://pubmed.ncbi.nlm.nih.gov/39369207\" target=\"_blank\">PMID: 39369207</a>, <a href=\"https://pubmed.ncbi.nlm.nih.gov/40096467\" target=\"_blank\">PMID: 40096467</a>). Beyond epigenetics, biological age can be assessed using multi-dimensional approaches combining various biomarkers like cognitive measures, body composition, and metabolomic profiles, which can provide a more comprehensive view of age-related decline and resilience (<a href=\"https://pubmed.ncbi.nlm.nih.gov/40159527\" target=\"_blank\">PMID: 40159527</a>, <a href=\"https://pubmed.ncbi.nlm.nih.gov/39278973\" target=\"_blank\">PMID: 39278973</a>, <a href=\"https://pubmed.ncbi.nlm.nih.gov/38206765\" target=\"_blank\">PMID: 38206765</a>). Accelerated biological aging has been observed in specific diseases like chronic liver disease, type 2 diabetes, breast cancer, and heart failure, suggesting that targeting aging mechanisms could be a strategy for preventing or treating age-related conditions (<a href=\"https://pubmed.ncbi.nlm.nih.gov/39026032\" target=\"_blank\">PMID: 39026032</a>, <a href=\"https://pubmed.ncbi.nlm.nih.gov/37987887\" target=\"_blank\">PMID: 37987887</a>, <a href=\"https://pubmed.ncbi.nlm.nih.gov/40175686\" target=\"_blank\">PMID: 40175686</a>, <a href=\"https://pubmed.ncbi.nlm.nih.gov/40297496\" target=\"_blank\">PMID: 40297496</a>). Key molecular mechanisms underlying aging include cellular senescence, inflammation, mitochondrial dysfunction, and epigenetic alterations, and researchers are exploring these as potential therapeutic targets (<a href=\"https://pubmed.ncbi.nlm.nih.gov/37148367\" target=\"_blank\">PMID: 37148367</a>, <a href=\"https://pubmed.ncbi.nlm.nih.gov/39399066\" target=\"_blank\">PMID: 39399066</a>, <a href=\"https://pubmed.ncbi.nlm.nih.gov/39839443\" target=\"_blank\">PMID: 39839443</a>, <a href=\"https://pubmed.ncbi.nlm.nih.gov/39742485\" target=\"_blank\">PMID: 39742485</a>). Databases and computational tools are being developed to integrate multi-omics data, identify aging-related genes and pathways, and facilitate the discovery and validation of anti-aging interventions and biomarkers across species (<a href=\"https://pubmed.ncbi.nlm.nih.gov/37870433\" target=\"_blank\">PMID: 37870433</a>, <a href=\"https://pubmed.ncbi.nlm.nih.gov/37850649\" target=\"_blank\">PMID: 37850649</a>, <a href=\"https://pubmed.ncbi.nlm.nih.gov/39695922\" target=\"_blank\">PMID: 39695922</a>, <a href=\"https://pubmed.ncbi.nlm.nih.gov/39356317\" target=\"_blank\">PMID: 39356317</a>, <a href=\"https://pubmed.ncbi.nlm.nih.gov/38470883\" target=\"_blank\">PMID: 38470883</a>). Animal models like nonhuman primates, mice, C. elegans, and Drosophila are crucial for understanding aging mechanisms and screening potential longevity interventions (<a href=\"https://pubmed.ncbi.nlm.nih.gov/39585646\" target=\"_blank\">PMID: 39585646</a>, <a href=\"https://pubmed.ncbi.nlm.nih.gov/37432607\" target=\"_blank\">PMID: 37432607</a>, <a href=\"https://pubmed.ncbi.nlm.nih.gov/39346601\" target=\"_blank\">PMID: 39346601</a>). Overall, research is advancing the understanding of aging as a malleable process, identifying biomarkers and mechanisms that can be targeted to promote healthy longevity and reduce the burden of age-related diseases (<a href=\"https://pubmed.ncbi.nlm.nih.gov/40297496\" target=\"_blank\">PMID: 40297496</a>, <a href=\"https://pubmed.ncbi.nlm.nih.gov/38289789\" target=\"_blank\">PMID: 38289789</a>).</p>\n",
       "<hr style='border: none; border-top: 1px dashed #ccc;'/>\n",
       "</td>\n",
       "</tr>\n",
       "<tr>\n",
       "<td style='padding: 1em; border-bottom: 1px solid #ccc; text-align: left;'>\n",
       "<h3 style='margin: 0 0 0.5em 0; font-weight: normal;'>Topic 6</h3>\n",
       "<p style='margin: 0 0 0.5em 0;'><strong>Age-related changes in the genome, transcriptome, and chromatin, including telomere shortening, contribute to somatic decline and influence lifespan across various species.\n",
       "</strong></p>\n",
       "<hr style='border: none; border-top: 1px solid #ccc;'/>\n",
       "<p>Aging is a complex process characterized by transcriptomic and epigenetic changes across multiple tissues and organs, including the brain, contributing to functional decline and increased mortality risk (<a href=\"https://pubmed.ncbi.nlm.nih.gov/37118429\" target=\"_blank\">PMID: 37118429</a>, <a href=\"https://pubmed.ncbi.nlm.nih.gov/37822253\" target=\"_blank\">PMID: 37822253</a>, <a href=\"https://pubmed.ncbi.nlm.nih.gov/39843737\" target=\"_blank\">PMID: 39843737</a>, <a href=\"https://pubmed.ncbi.nlm.nih.gov/39242518\" target=\"_blank\">PMID: 39242518</a>, <a href=\"https://pubmed.ncbi.nlm.nih.gov/37986960\" target=\"_blank\">PMID: 37986960</a>, <a href=\"https://pubmed.ncbi.nlm.nih.gov/38471806\" target=\"_blank\">PMID: 38471806</a>, <a href=\"https://pubmed.ncbi.nlm.nih.gov/39463924\" target=\"_blank\">PMID: 39463924</a>, <a href=\"https://pubmed.ncbi.nlm.nih.gov/37986616\" target=\"_blank\">PMID: 37986616</a>, <a href=\"https://pubmed.ncbi.nlm.nih.gov/40033047\" target=\"_blank\">PMID: 40033047</a>, <a href=\"https://pubmed.ncbi.nlm.nih.gov/40287511\" target=\"_blank\">PMID: 40287511</a>, <a href=\"https://pubmed.ncbi.nlm.nih.gov/37828039\" target=\"_blank\">PMID: 37828039</a>, <a href=\"https://pubmed.ncbi.nlm.nih.gov/37465120\" target=\"_blank\">PMID: 37465120</a>). These age-associated changes manifest as hallmarks like genomic instability, telomere attrition, epigenetic alterations, loss of proteostasis, mitochondrial dysfunction, cellular senescence, stem cell exhaustion, altered intercellular communication, and inflammation (<a href=\"https://pubmed.ncbi.nlm.nih.gov/3659939\" target=\"_blank\">PMID: 3659939</a>, <a href=\"https://pubmed.ncbi.nlm.nih.gov/37986616\" target=\"_blank\">PMID: 37986616</a>). Transcriptomic analysis reveals age-related gene expression changes that are often tissue-specific but also include evolutionarily conserved pathways, with differential expression of protein-coding genes and lncRNAs being significant in aging (<a href=\"https://pubmed.ncbi.nlm.nih.gov/37118429\" target=\"_blank\">PMID: 37118429</a>, <a href=\"https://pubmed.ncbi.nlm.nih.gov/37269831\" target=\"_blank\">PMID: 37269831</a>, <a href=\"https://pubmed.ncbi.nlm.nih.gov/39896546\" target=\"_blank\">PMID: 39896546</a>, <a href=\"https://pubmed.ncbi.nlm.nih.gov/40033047\" target=\"_blank\">PMID: 40033047</a>, <a href=\"https://pubmed.ncbi.nlm.nih.gov/39975269\" target=\"_blank\">PMID: 39975269</a>, <a href=\"https://pubmed.ncbi.nlm.nih.gov/40287511\" target=\"_blank\">PMID: 40287511</a>, <a href=\"https://pubmed.ncbi.nlm.nih.gov/37828039\" target=\"_blank\">PMID: 37828039</a>). Epigenetic modifications, such as changes in DNA methylation and chromatin accessibility, are key drivers of aging, influencing gene expression and cellular identity, with specific regions like AP-1 binding motifs becoming more accessible in elderly cells while TEAD binding motifs are enriched in younger cells (<a href=\"https://pubmed.ncbi.nlm.nih.gov/39843737\" target=\"_blank\">PMID: 39843737</a>, <a href=\"https://pubmed.ncbi.nlm.nih.gov/39934111\" target=\"_blank\">PMID: 39934111</a>, <a href=\"https://pubmed.ncbi.nlm.nih.gov/40133272\" target=\"_blank\">PMID: 40133272</a>, <a href=\"https://pubmed.ncbi.nlm.nih.gov/39242518\" target=\"_blank\">PMID: 39242518</a>, <a href=\"https://pubmed.ncbi.nlm.nih.gov/38062919\" target=\"_blank\">PMID: 38062919</a>, <a href=\"https://pubmed.ncbi.nlm.nih.gov/37465120\" target=\"_blank\">PMID: 37465120</a>). Cellular senescence, marked by irreversible cell cycle arrest and the accumulation of senescent cells, is a significant contributor to aging and age-related diseases, with markers like senescence-associated beta-galactosidase showing tissue-specific onset and intensity differences between long-lived and short-lived species (<a href=\"https://pubmed.ncbi.nlm.nih.gov/40082363\" target=\"_blank\">PMID: 40082363</a>, <a href=\"https://pubmed.ncbi.nlm.nih.gov/38568207\" target=\"_blank\">PMID: 38568207</a>, <a href=\"https://pubmed.ncbi.nlm.nih.gov/39872064\" target=\"_blank\">PMID: 39872064</a>, <a href=\"https://pubmed.ncbi.nlm.nih.gov/37935676\" target=\"_blank\">PMID: 37935676</a>, <a href=\"https://pubmed.ncbi.nlm.nih.gov/37987889\" target=\"_blank\">PMID: 37987889</a>). Mitochondrial dysfunction, characterized by impaired bioenergetics, increased ROS, and altered dynamics, is another central hallmark of aging, linked to various age-related diseases and influenced by factors like mitochondrial DNA turnover and somatic mutations (<a href=\"https://pubmed.ncbi.nlm.nih.gov/39188058\" target=\"_blank\">PMID: 39188058</a>, <a href=\"https://pubmed.ncbi.nlm.nih.gov/38361161\" target=\"_blank\">PMID: 38361161</a>, <a href=\"https://pubmed.ncbi.nlm.nih.gov/36982549\" target=\"_blank\">PMID: 36982549</a>, <a href=\"https://pubmed.ncbi.nlm.nih.gov/39520088\" target=\"_blank\">PMID: 39520088</a>, <a href=\"https://pubmed.ncbi.nlm.nih.gov/39312152\" target=\"_blank\">PMID: 39312152</a>, <a href=\"https://pubmed.ncbi.nlm.nih.gov/38955799\" target=\"_blank\">PMID: 38955799</a>). Telomere shortening, exacerbated by oxidative stress, induces telomere damage and cellular senescence, involving structural changes like single-stranded breaks and R-loop formation (<a href=\"https://pubmed.ncbi.nlm.nih.gov/39448517\" target=\"_blank\">PMID: 39448517</a>, <a href=\"https://pubmed.ncbi.nlm.nih.gov/40219969\" target=\"_blank\">PMID: 40219969</a>, <a href=\"https://pubmed.ncbi.nlm.nih.gov/37987889\" target=\"_blank\">PMID: 37987889</a>). Loss of proteostasis, including increased translational errors like stop-codon readthrough, contributes to age-related decline in tissues like muscle and brain (<a href=\"https://pubmed.ncbi.nlm.nih.gov/40021653\" target=\"_blank\">PMID: 40021653</a>). Transposable elements, such as LINE-1 and Alu, can become active with age, contributing to genomic instability and inflammation, with cGAS playing a role in maintaining heterochromatin on these elements (<a href=\"https://pubmed.ncbi.nlm.nih.gov/39314493\" target=\"_blank\">PMID: 39314493</a>, <a href=\"https://pubmed.ncbi.nlm.nih.gov/39416083\" target=\"_blank\">PMID: 39416083</a>, <a href=\"https://pubmed.ncbi.nlm.nih.gov/38318533\" target=\"_blank\">PMID: 38318533</a>). Interventions like heterochronic parabiosis have shown potential to reverse aspects of aging, improving physiological parameters, extending lifespan and healthspan, and inducing lasting epigenetic and transcriptomic remodeling towards a younger state (<a href=\"https://pubmed.ncbi.nlm.nih.gov/37118429\" target=\"_blank\">PMID: 37118429</a>, <a href=\"https://pubmed.ncbi.nlm.nih.gov/37500973\" target=\"_blank\">PMID: 37500973</a>). Exercise training also shifts epigenetic and transcriptomic patterns in human skeletal muscle towards a younger profile, maintaining genes related to muscle structure, metabolism, and mitochondrial function (<a href=\"https://pubmed.ncbi.nlm.nih.gov/37128843\" target=\"_blank\">PMID: 37128843</a>). Chemical cocktails have been identified that can restore youthful transcript profiles and reverse transcriptomic age in human cells without altering cellular identity (<a href=\"https://pubmed.ncbi.nlm.nih.gov/37437248\" target=\"_blank\">PMID: 37437248</a>). Microbiome transplants in fruit flies did not improve longevity and sometimes were detrimental, suggesting that for this model, the presence of a microbiome might not be beneficial for lifespan (<a href=\"https://pubmed.ncbi.nlm.nih.gov/39835966\" target=\"_blank\">PMID: 39835966</a>). Sex differences are observed in aging, affecting memory impairment, transcriptomic and chromatin landscapes, and the impact of interventions like caloric restriction, highlighting the need for sex-specific studies (<a href=\"https://pubmed.ncbi.nlm.nih.gov/39896546\" target=\"_blank\">PMID: 39896546</a>, <a href=\"https://pubmed.ncbi.nlm.nih.gov/38318533\" target=\"_blank\">PMID: 38318533</a>, <a href=\"https://pubmed.ncbi.nlm.nih.gov/40192444\" target=\"_blank\">PMID: 40192444</a>, <a href=\"https://pubmed.ncbi.nlm.nih.gov/39975269\" target=\"_blank\">PMID: 39975269</a>). The study of aging across different species, including short-lived models like the African turquoise killifish and planarians, provides insights into conserved and unique mechanisms of lifespan regulation and potential rejuvenation strategies (<a href=\"https://pubmed.ncbi.nlm.nih.gov/37269831\" target=\"_blank\">PMID: 37269831</a>, <a href=\"https://pubmed.ncbi.nlm.nih.gov/38568207\" target=\"_blank\">PMID: 38568207</a>, <a href=\"https://pubmed.ncbi.nlm.nih.gov/39302208\" target=\"_blank\">PMID: 39302208</a>, <a href=\"https://pubmed.ncbi.nlm.nih.gov/37828039\" target=\"_blank\">PMID: 37828039</a>, <a href=\"https://pubmed.ncbi.nlm.nih.gov/37837621\" target=\"_blank\">PMID: 37837621</a>, <a href=\"https://pubmed.ncbi.nlm.nih.gov/40181188\" target=\"_blank\">PMID: 40181188</a>).</p>\n",
       "<hr style='border: none; border-top: 1px dashed #ccc;'/>\n",
       "</td>\n",
       "</tr>\n",
       "<tr>\n",
       "<td style='padding: 1em; border-bottom: 1px solid #ccc; text-align: left;'>\n",
       "<h3 style='margin: 0 0 0.5em 0; font-weight: normal;'>Topic 7</h3>\n",
       "<p style='margin: 0 0 0.5em 0;'><strong>Single-cell analysis identifies age-related gene expression changes in the tumor microenvironment, offering prognostic insights for LUAD and potential immune modulation strategies.\n",
       "</strong></p>\n",
       "<hr style='border: none; border-top: 1px solid #ccc;'/>\n",
       "<p>Studies exploring the aging transcriptome often focus on genes that change with age, but investigating age-invariant genes, which remain unchanged, can also provide valuable insights and serve as reference genes in expression studies (<a href=\"https://pubmed.ncbi.nlm.nih.gov/38645168\" target=\"_blank\">PMID: 38645168</a>, <a href=\"https://pubmed.ncbi.nlm.nih.gov/39873648\" target=\"_blank\">PMID: 39873648</a>). A systematic investigation across the lifespan in mouse tissues identified pan-tissue and tissue-specific age-invariant genes that are stable and validated, noting that these genes tend to have shorter transcripts and are enriched for CpG islands (<a href=\"https://pubmed.ncbi.nlm.nih.gov/38645168\" target=\"_blank\">PMID: 38645168</a>, <a href=\"https://pubmed.ncbi.nlm.nih.gov/39873648\" target=\"_blank\">PMID: 39873648</a>). While hallmarks of aging typically involve changes in cellular maintenance, some genes associated with these hallmarks resist expression fluctuations with age (<a href=\"https://pubmed.ncbi.nlm.nih.gov/38645168\" target=\"_blank\">PMID: 38645168</a>, <a href=\"https://pubmed.ncbi.nlm.nih.gov/39873648\" target=\"_blank\">PMID: 39873648</a>). Traditional reference genes are often not universally appropriate for aging studies across all tissues, highlighting the need for tissue-specific and pan-tissue alternatives identified in such studies (<a href=\"https://pubmed.ncbi.nlm.nih.gov/38645168\" target=\"_blank\">PMID: 38645168</a>, <a href=\"https://pubmed.ncbi.nlm.nih.gov/39873648\" target=\"_blank\">PMID: 39873648</a>).</p>\n",
       "<p>Aging is a complex process characterized by physiological decline and increased susceptibility to diseases, including various cancers, osteoporosis, sarcopenia, diabetic nephropathy, and stroke (<a href=\"https://pubmed.ncbi.nlm.nih.gov/38274286\" target=\"_blank\">PMID: 38274286</a>, <a href=\"https://pubmed.ncbi.nlm.nih.gov/38134103\" target=\"_blank\">PMID: 38134103</a>, <a href=\"https://pubmed.ncbi.nlm.nih.gov/39022075\" target=\"_blank\">PMID: 39022075</a>, <a href=\"https://pubmed.ncbi.nlm.nih.gov/39762477\" target=\"_blank\">PMID: 39762477</a>, <a href=\"https://pubmed.ncbi.nlm.nih.gov/38978778\" target=\"_blank\">PMID: 38978778</a>, <a href=\"https://pubmed.ncbi.nlm.nih.gov/37404805\" target=\"_blank\">PMID: 37404805</a>, <a href=\"https://pubmed.ncbi.nlm.nih.gov/37382646\" target=\"_blank\">PMID: 37382646</a>). Cellular senescence, an irreversible cell cycle arrest, is a fundamental hallmark of aging implicated in the pathogenesis and progression of age-related diseases and cancers (<a href=\"https://pubmed.ncbi.nlm.nih.gov/39820552\" target=\"_blank\">PMID: 39820552</a>, <a href=\"https://pubmed.ncbi.nlm.nih.gov/40279419\" target=\"_blank\">PMID: 40279419</a>, <a href=\"https://pubmed.ncbi.nlm.nih.gov/38798365\" target=\"_blank\">PMID: 38798365</a>, <a href=\"https://pubmed.ncbi.nlm.nih.gov/39723224\" target=\"_blank\">PMID: 39723224</a>, <a href=\"https://pubmed.ncbi.nlm.nih.gov/37752791\" target=\"_blank\">PMID: 37752791</a>, <a href=\"https://pubmed.ncbi.nlm.nih.gov/37382646\" target=\"_blank\">PMID: 37382646</a>). Studies utilizing transcriptomic, proteomic, and epigenetic data, often at single-cell resolution, combined with machine learning techniques, are identifying aging-related biomarkers and constructing prognostic models for diseases like hepatocellular carcinoma, lung adenocarcinoma, breast cancer, gastric cancer, and thyroid carcinoma (<a href=\"https://pubmed.ncbi.nlm.nih.gov/39353907\" target=\"_blank\">PMID: 39353907</a>, <a href=\"https://pubmed.ncbi.nlm.nih.gov/40216977\" target=\"_blank\">PMID: 40216977</a>, <a href=\"https://pubmed.ncbi.nlm.nih.gov/39820552\" target=\"_blank\">PMID: 39820552</a>, <a href=\"https://pubmed.ncbi.nlm.nih.gov/39762477\" target=\"_blank\">PMID: 39762477</a>, <a href=\"https://pubmed.ncbi.nlm.nih.gov/40205433\" target=\"_blank\">PMID: 40205433</a>, <a href=\"https://pubmed.ncbi.nlm.nih.gov/40279419\" target=\"_blank\">PMID: 40279419</a>, <a href=\"https://pubmed.ncbi.nlm.nih.gov/40111533\" target=\"_blank\">PMID: 40111533</a>, <a href=\"https://pubmed.ncbi.nlm.nih.gov/38151291\" target=\"_blank\">PMID: 38151291</a>, <a href=\"https://pubmed.ncbi.nlm.nih.gov/38714870\" target=\"_blank\">PMID: 38714870</a>, <a href=\"https://pubmed.ncbi.nlm.nih.gov/37600707\" target=\"_blank\">PMID: 37600707</a>, <a href=\"https://pubmed.ncbi.nlm.nih.gov/40076502\" target=\"_blank\">PMID: 40076502</a>, <a href=\"https://pubmed.ncbi.nlm.nih.gov/39757226\" target=\"_blank\">PMID: 39757226</a>, <a href=\"https://pubmed.ncbi.nlm.nih.gov/39723224\" target=\"_blank\">PMID: 39723224</a>, <a href=\"https://pubmed.ncbi.nlm.nih.gov/38134103\" target=\"_blank\">PMID: 38134103</a>, <a href=\"https://pubmed.ncbi.nlm.nih.gov/38978778\" target=\"_blank\">PMID: 38978778</a>, <a href=\"https://pubmed.ncbi.nlm.nih.gov/37404805\" target=\"_blank\">PMID: 37404805</a>, <a href=\"https://pubmed.ncbi.nlm.nih.gov/39769366\" target=\"_blank\">PMID: 39769366</a>, <a href=\"https://pubmed.ncbi.nlm.nih.gov/39022075\" target=\"_blank\">PMID: 39022075</a>, <a href=\"https://pubmed.ncbi.nlm.nih.gov/40256325\" target=\"_blank\">PMID: 40256325</a>, <a href=\"https://pubmed.ncbi.nlm.nih.gov/40299459\" target=\"_blank\">PMID: 40299459</a>). These analyses reveal age-related heterogeneity in tumor cells and the microenvironment, identify key genes and pathways involved in disease progression, and suggest potential therapeutic targets and strategies, including those related to immune modulation and senotherapy (<a href=\"https://pubmed.ncbi.nlm.nih.gov/40216977\" target=\"_blank\">PMID: 40216977</a>, <a href=\"https://pubmed.ncbi.nlm.nih.gov/39578560\" target=\"_blank\">PMID: 39578560</a>, <a href=\"https://pubmed.ncbi.nlm.nih.gov/40211000\" target=\"_blank\">PMID: 40211000</a>, <a href=\"https://pubmed.ncbi.nlm.nih.gov/38714870\" target=\"_blank\">PMID: 38714870</a>, <a href=\"https://pubmed.ncbi.nlm.nih.gov/37600707\" target=\"_blank\">PMID: 37600707</a>, <a href=\"https://pubmed.ncbi.nlm.nih.gov/40076502\" target=\"_blank\">PMID: 40076502</a>, <a href=\"https://pubmed.ncbi.nlm.nih.gov/39757226\" target=\"_blank\">PMID: 39757226</a>, <a href=\"https://pubmed.ncbi.nlm.nih.gov/39022075\" target=\"_blank\">PMID: 39022075</a>, <a href=\"https://pubmed.ncbi.nlm.nih.gov/39896625\" target=\"_blank\">PMID: 39896625</a>, <a href=\"https://pubmed.ncbi.nlm.nih.gov/37996875\" target=\"_blank\">PMID: 37996875</a>, <a href=\"https://pubmed.ncbi.nlm.nih.gov/40256325\" target=\"_blank\">PMID: 40256325</a>, <a href=\"https://pubmed.ncbi.nlm.nih.gov/40299459\" target=\"_blank\">PMID: 40299459</a>). Biomarkers based on DNA methylation patterns or urinary proteomic profiles are also being developed to predict biological age and disease risk, offering potential for personalized healthcare (<a href=\"https://pubmed.ncbi.nlm.nih.gov/38274286\" target=\"_blank\">PMID: 38274286</a>, <a href=\"https://pubmed.ncbi.nlm.nih.gov/39210148\" target=\"_blank\">PMID: 39210148</a>, <a href=\"https://pubmed.ncbi.nlm.nih.gov/39122459\" target=\"_blank\">PMID: 39122459</a>).</p>\n",
       "<hr style='border: none; border-top: 1px dashed #ccc;'/>\n",
       "</td>\n",
       "</tr>\n",
       "<tr>\n",
       "<td style='padding: 1em; border-bottom: 1px solid #ccc; text-align: left;'>\n",
       "<h3 style='margin: 0 0 0.5em 0; font-weight: normal;'>Topic 8</h3>\n",
       "<p style='margin: 0 0 0.5em 0;'><strong>Extracellular vesicles from macrophages influence bone marrow mesenchymal stem cell senescence and differential capacity, impacting bone aging.\n",
       "</strong></p>\n",
       "<hr style='border: none; border-top: 1px solid #ccc;'/>\n",
       "<p>Aging is a process accompanied by functional decline in tissues and organs, often linked to the reduced regenerative capacity of stem cells like bone marrow mesenchymal stem cells (BMSCs), which impairs bone tissue regeneration and contributes to skeletal disorders such as senile osteoporosis (<a href=\"https://pubmed.ncbi.nlm.nih.gov/39876006\" target=\"_blank\">PMID: 39876006</a>, <a href=\"https://pubmed.ncbi.nlm.nih.gov/39543818\" target=\"_blank\">PMID: 39543818</a>, <a href=\"https://pubmed.ncbi.nlm.nih.gov/39123275\" target=\"_blank\">PMID: 39123275</a>, <a href=\"https://pubmed.ncbi.nlm.nih.gov/39377219\" target=\"_blank\">PMID: 39377219</a>, <a href=\"https://pubmed.ncbi.nlm.nih.gov/39939879\" target=\"_blank\">PMID: 39939879</a>). Mesenchymal stem cell (MSC) aging is also influenced by anomalies in the extracellular microenvironment, including matrix stiffness, which can trigger aging and decreased differentiation capacity (<a href=\"https://pubmed.ncbi.nlm.nih.gov/39353686\" target=\"_blank\">PMID: 39353686</a>). Cellular senescence, characterized by irreversible growth arrest and the secretion of a senescence-associated secretory phenotype (SASP), plays a critical role in aging and age-related diseases (<a href=\"https://pubmed.ncbi.nlm.nih.gov/39039843\" target=\"_blank\">PMID: 39039843</a>, <a href=\"https://pubmed.ncbi.nlm.nih.gov/39370688\" target=\"_blank\">PMID: 39370688</a>, <a href=\"https://pubmed.ncbi.nlm.nih.gov/38115574\" target=\"_blank\">PMID: 38115574</a>). For instance, macrophage senescence drives diabetic vascular aging by propagating SASP, exacerbating vascular dysfunction (<a href=\"https://pubmed.ncbi.nlm.nih.gov/39834861\" target=\"_blank\">PMID: 39834861</a>). Vascular smooth muscle cell (VSMC) senescence also contributes to arterial wall inflammation and remodeling in conditions like Takayasu&#x27;s arteritis (<a href=\"https://pubmed.ncbi.nlm.nih.gov/38816066\" target=\"_blank\">PMID: 38816066</a>). Endothelial cell senescence, promoted by age-related inflammation, further contributes to vascular aging (<a href=\"https://pubmed.ncbi.nlm.nih.gov/38358087\" target=\"_blank\">PMID: 38358087</a>). In intervertebral disc degeneration (IVDD), oxidative stress in the microenvironment leads to the senescence of nucleus pulposus-derived mesenchymal stem cells (NPMSCs) (<a href=\"https://pubmed.ncbi.nlm.nih.gov/39920738\" target=\"_blank\">PMID: 39920738</a>). Macrophage-derived small extracellular vesicles (M-sEVs) can induce NP cell senescence by delivering specific microRNAs (<a href=\"https://pubmed.ncbi.nlm.nih.gov/39990291\" target=\"_blank\">PMID: 39990291</a>). Bone marrow inflammaging, a low-grade chronic inflammation, induces bone marrow aging, with activation of the monocyte/macrophage lineage identified as a key event (<a href=\"https://pubmed.ncbi.nlm.nih.gov/39868348\" target=\"_blank\">PMID: 39868348</a>). Senescent cells, including fibroblasts and osteocytes, accumulate in aged tissues and contribute to dysfunction, such as in skin photoaging and bone loss (<a href=\"https://pubmed.ncbi.nlm.nih.gov/37066877\" target=\"_blank\">PMID: 37066877</a>, <a href=\"https://pubmed.ncbi.nlm.nih.gov/39370688\" target=\"_blank\">PMID: 39370688</a>, <a href=\"https://pubmed.ncbi.nlm.nih.gov/40202158\" target=\"_blank\">PMID: 40202158</a>). Mitochondrial dysfunction is intricately linked to cellular aging and senescence in various cell types, including MSCs and tendon stem/progenitor cells (TSPCs) (<a href=\"https://pubmed.ncbi.nlm.nih.gov/39353686\" target=\"_blank\">PMID: 39353686</a>, <a href=\"https://pubmed.ncbi.nlm.nih.gov/40298797\" target=\"_blank\">PMID: 40298797</a>, <a href=\"https://pubmed.ncbi.nlm.nih.gov/36917311\" target=\"_blank\">PMID: 36917311</a>, <a href=\"https://pubmed.ncbi.nlm.nih.gov/39238005\" target=\"_blank\">PMID: 39238005</a>). Various molecular mechanisms regulate stem cell aging and senescence, including lncRNAs like NEAT1, microRNAs such as miR-203-3p and miR-31-5p, and proteins like NAMPT, ADAM19, USP26, and CDC42, often involving pathways related to mitochondrial function, autophagy, or Wnt signaling (<a href=\"https://pubmed.ncbi.nlm.nih.gov/39876006\" target=\"_blank\">PMID: 39876006</a>, <a href=\"https://pubmed.ncbi.nlm.nih.gov/39896347\" target=\"_blank\">PMID: 39896347</a>, <a href=\"https://pubmed.ncbi.nlm.nih.gov/39543818\" target=\"_blank\">PMID: 39543818</a>, <a href=\"https://pubmed.ncbi.nlm.nih.gov/39123275\" target=\"_blank\">PMID: 39123275</a>, <a href=\"https://pubmed.ncbi.nlm.nih.gov/39377219\" target=\"_blank\">PMID: 39377219</a>, <a href=\"https://pubmed.ncbi.nlm.nih.gov/39927476\" target=\"_blank\">PMID: 39927476</a>, <a href=\"https://pubmed.ncbi.nlm.nih.gov/39159429\" target=\"_blank\">PMID: 39159429</a>, <a href=\"https://pubmed.ncbi.nlm.nih.gov/38578073\" target=\"_blank\">PMID: 38578073</a>). Targeting these mechanisms or using therapeutic strategies like transplantation of young hematopoietic stem cells, pharmacological modulation of pathways like STING-autophagy or AMPK/mTOR, or delivery of stem cell-derived extracellular vesicles shows promise for mitigating age-related decline and diseases (<a href=\"https://pubmed.ncbi.nlm.nih.gov/39743633\" target=\"_blank\">PMID: 39743633</a>, <a href=\"https://pubmed.ncbi.nlm.nih.gov/39834861\" target=\"_blank\">PMID: 39834861</a>, <a href=\"https://pubmed.ncbi.nlm.nih.gov/36917311\" target=\"_blank\">PMID: 36917311</a>, <a href=\"https://pubmed.ncbi.nlm.nih.gov/39237990\" target=\"_blank\">PMID: 39237990</a>, <a href=\"https://pubmed.ncbi.nlm.nih.gov/40230357\" target=\"_blank\">PMID: 40230357</a>, <a href=\"https://pubmed.ncbi.nlm.nih.gov/39939879\" target=\"_blank\">PMID: 39939879</a>, <a href=\"https://pubmed.ncbi.nlm.nih.gov/39182069\" target=\"_blank\">PMID: 39182069</a>, <a href=\"https://pubmed.ncbi.nlm.nih.gov/37367945\" target=\"_blank\">PMID: 37367945</a>).</p>\n",
       "<hr style='border: none; border-top: 1px dashed #ccc;'/>\n",
       "</td>\n",
       "</tr>\n",
       "<tr>\n",
       "<td style='padding: 1em; border-bottom: 1px solid #ccc; text-align: left;'>\n",
       "<h3 style='margin: 0 0 0.5em 0; font-weight: normal;'>Topic 9</h3>\n",
       "<p style='margin: 0 0 0.5em 0;'><strong>This editorial discusses the ground of evidence-based aging research, including cellular and molecular changes, and potential therapeutic strategies.\n",
       "</strong></p>\n",
       "<hr style='border: none; border-top: 1px solid #ccc;'/>\n",
       "<p>Aging is a complex process characterized by various cellular and molecular changes that contribute to functional decline and increased susceptibility to age-related diseases (<a href=\"https://pubmed.ncbi.nlm.nih.gov/38532727\" target=\"_blank\">PMID: 38532727</a>, <a href=\"https://pubmed.ncbi.nlm.nih.gov/39747653\" target=\"_blank\">PMID: 39747653</a>). Key hallmarks of aging include the accumulation of DNA damage, telomere shortening, and epigenetic alterations, which collectively impair cellular function and stability (<a href=\"https://pubmed.ncbi.nlm.nih.gov/38167657\" target=\"_blank\">PMID: 38167657</a>, <a href=\"https://pubmed.ncbi.nlm.nih.gov/39525813\" target=\"_blank\">PMID: 39525813</a>, <a href=\"https://pubmed.ncbi.nlm.nih.gov/38455512\" target=\"_blank\">PMID: 38455512</a>). Mitochondrial dysfunction, marked by impaired bioenergetics and increased reactive oxygen species production, is another central feature of aging, contributing to cellular damage and energy deficits (<a href=\"https://pubmed.ncbi.nlm.nih.gov/39805986\" target=\"_blank\">PMID: 39805986</a>). A decline in proteostasis, the ability to maintain protein quality and balance, also occurs with age, leading to the accumulation of misfolded or damaged proteins (<a href=\"https://pubmed.ncbi.nlm.nih.gov/38235402\" target=\"_blank\">PMID: 38235402</a>). Cellular senescence, where cells enter a state of stable growth arrest and secrete pro-inflammatory factors, is a significant contributor to tissue dysfunction and chronic inflammation, often referred to as inflammaging (<a href=\"https://pubmed.ncbi.nlm.nih.gov/38532727\" target=\"_blank\">PMID: 38532727</a>, <a href=\"https://pubmed.ncbi.nlm.nih.gov/39747654\" target=\"_blank\">PMID: 39747654</a>). This chronic inflammation is further exacerbated by age-related changes in immune cell function, known as immunosenescence (<a href=\"https://pubmed.ncbi.nlm.nih.gov/39747653\" target=\"_blank\">PMID: 39747653</a>, <a href=\"https://pubmed.ncbi.nlm.nih.gov/37600859\" target=\"_blank\">PMID: 37600859</a>). The gut microbiome also undergoes alterations with aging, impacting overall health and potentially influencing longevity (<a href=\"https://pubmed.ncbi.nlm.nih.gov/39633118\" target=\"_blank\">PMID: 39633118</a>). Furthermore, aging is associated with stem cell exhaustion, reducing the body&#x27;s capacity for tissue repair and regeneration (<a href=\"https://pubmed.ncbi.nlm.nih.gov/37962806\" target=\"_blank\">PMID: 37962806</a>). Changes in the extracellular matrix and shifts in cellular metabolism also contribute to the aging phenotype (<a href=\"https://pubmed.ncbi.nlm.nih.gov/37682890\" target=\"_blank\">PMID: 37682890</a>, <a href=\"https://pubmed.ncbi.nlm.nih.gov/39196123\" target=\"_blank\">PMID: 39196123</a>). Nutrient sensing pathways, such as mTOR, play a crucial role in regulating these aging processes (<a href=\"https://pubmed.ncbi.nlm.nih.gov/40108369\" target=\"_blank\">PMID: 40108369</a>). These widespread changes manifest as age-related decline in specific tissues and systems, including the brain, vascular system, skin, muscle (sarcopenia), and bone (osteoporosis) (<a href=\"https://pubmed.ncbi.nlm.nih.gov/40199981\" target=\"_blank\">PMID: 40199981</a>, <a href=\"https://pubmed.ncbi.nlm.nih.gov/39982667\" target=\"_blank\">PMID: 39982667</a>, <a href=\"https://pubmed.ncbi.nlm.nih.gov/37419982\" target=\"_blank\">PMID: 37419982</a>, <a href=\"https://pubmed.ncbi.nlm.nih.gov/40216657\" target=\"_blank\">PMID: 40216657</a>, <a href=\"https://pubmed.ncbi.nlm.nih.gov/38688939\" target=\"_blank\">PMID: 38688939</a>). Lifestyle interventions like exercise and dietary modifications, such as calorie restriction, have shown promise in mitigating some aspects of age-related decline (<a href=\"https://pubmed.ncbi.nlm.nih.gov/39621687\" target=\"_blank\">PMID: 39621687</a>, <a href=\"https://pubmed.ncbi.nlm.nih.gov/37161069\" target=\"_blank\">PMID: 37161069</a>). Additionally, targeting specific aging mechanisms, such as using senolytic drugs to clear senescent cells, represents a potential therapeutic strategy for age-related conditions (<a href=\"https://pubmed.ncbi.nlm.nih.gov/39164495\" target=\"_blank\">PMID: 39164495</a>).</p>\n",
       "<hr style='border: none; border-top: 1px dashed #ccc;'/>\n",
       "</td>\n",
       "</tr>\n",
       "<tr>\n",
       "<td style='padding: 1em; border-bottom: 1px solid #ccc; text-align: left;'>\n",
       "<h3 style='margin: 0 0 0.5em 0; font-weight: normal;'>Topic 10</h3>\n",
       "<p style='margin: 0 0 0.5em 0;'><strong>eccDNA, copper, and lactate metabolism, along with factors like sleep duration, parity, and collagen, are implicated in aging processes and potential interventions.\n",
       "</strong></p>\n",
       "<hr style='border: none; border-top: 1px solid #ccc;'/>\n",
       "<p>Aging is a complex process involving various cellular and molecular changes across different tissues and organs, with studies utilizing resources like HuTAge to integrate cross-tissue human aging data and atlases detailing changes in mitochondrial function and extrachromosomal circular DNA (eccDNA) across mouse tissues (<a href=\"https://pubmed.ncbi.nlm.nih.gov/40248357\" target=\"_blank\">PMID: 40248357</a>, <a href=\"https://pubmed.ncbi.nlm.nih.gov/39704492\" target=\"_blank\">PMID: 39704492</a>, <a href=\"https://pubmed.ncbi.nlm.nih.gov/39984484\" target=\"_blank\">PMID: 39984484</a>). Extrachromosomal circular DNA, known to be involved in cancer, has also been characterized in the aging mouse brain, although its total number does not increase with age, unlike other mutations (<a href=\"https://pubmed.ncbi.nlm.nih.gov/38538648\" target=\"_blank\">PMID: 38538648</a>, <a href=\"https://pubmed.ncbi.nlm.nih.gov/39984484\" target=\"_blank\">PMID: 39984484</a>). Cellular senescence, a hallmark of aging, contributes to brain aging and is implicated in SARS-CoV-2-induced neuropathology, where senolytics have shown therapeutic benefits by blocking viral replication and preventing senescence in neuronal populations (<a href=\"https://pubmed.ncbi.nlm.nih.gov/37957361\" target=\"_blank\">PMID: 37957361</a>, <a href=\"https://pubmed.ncbi.nlm.nih.gov/39187546\" target=\"_blank\">PMID: 39187546</a>). Beyond the brain, cellular senescence is also relevant in pancreatic cancer, where circHIF-1 has been identified as a factor inhibiting senescence and promoting tumor growth (<a href=\"https://pubmed.ncbi.nlm.nih.gov/39825374\" target=\"_blank\">PMID: 39825374</a>).</p>\n",
       "<p>Metabolic alterations are closely linked to aging, with plasma metabolomics identifying numerous metabolites associated with age, longevity, and mortality, highlighting the role of essential fatty acids and suggesting nutrition as a potential intervention target (<a href=\"https://pubmed.ncbi.nlm.nih.gov/39504246\" target=\"_blank\">PMID: 39504246</a>, <a href=\"https://pubmed.ncbi.nlm.nih.gov/39683368\" target=\"_blank\">PMID: 39683368</a>). Specific metabolic pathways, such as methionine metabolism, are dysregulated with age, and dietary methionine restriction in late life has shown benefits in neuromuscular function, metabolic health, and frailty in mice, although it did not significantly impact epigenetic aging clocks in mice or humans (<a href=\"https://pubmed.ncbi.nlm.nih.gov/40238871\" target=\"_blank\">PMID: 40238871</a>). Nutrient metabolism, specifically glucose and glutamine processing, is altered with age in tendons, potentially driving age-related degeneration (<a href=\"https://pubmed.ncbi.nlm.nih.gov/39763790\" target=\"_blank\">PMID: 39763790</a>). Copper levels consistently increase with age, particularly in plasma, potentially due to deregulated nutrient sensing leading to increased intestinal absorption, suggesting a copper-centric view on aging and nutrient sensing (<a href=\"https://pubmed.ncbi.nlm.nih.gov/39839250\" target=\"_blank\">PMID: 39839250</a>).</p>\n",
       "<p>The gut and oral microbiota are increasingly recognized for their influence on aging and age-related diseases, including brain aging and neurodegeneration (<a href=\"https://pubmed.ncbi.nlm.nih.gov/38399774\" target=\"_blank\">PMID: 38399774</a>, <a href=\"https://pubmed.ncbi.nlm.nih.gov/38993126\" target=\"_blank\">PMID: 38993126</a>). Mendelian randomization studies suggest a causal association between certain gut bacteria like Streptococcus and biological age acceleration (<a href=\"https://pubmed.ncbi.nlm.nih.gov/38399774\" target=\"_blank\">PMID: 38399774</a>). In sows, increased parity, linked to aging, correlates with decreased gut microbiota diversity, an increase in pathogenic bacteria, and a decrease in beneficial bacteria, suggesting inflammatory aging contributes to declining reproductive performance (<a href=\"https://pubmed.ncbi.nlm.nih.gov/38200843\" target=\"_blank\">PMID: 38200843</a>). Circadian rhythm disruptions, such as light-dark shifts, accelerate intestinal aging and increase colon carcinogenesis, partly by altering the intestinal barrier and microbiota (<a href=\"https://pubmed.ncbi.nlm.nih.gov/39811661\" target=\"_blank\">PMID: 39811661</a>). Tools like microbeMASST are being developed to better identify microbial metabolites and link them to their producers, enhancing our understanding of microbial roles in health and aging (<a href=\"https://pubmed.ncbi.nlm.nih.gov/38316926\" target=\"_blank\">PMID: 38316926</a>).</p>\n",
       "<p>Epigenetic clocks, based on DNA methylation patterns, are strong predictors of aging, and Mendelian randomization studies indicate that iron overload causally accelerates these clocks (<a href=\"https://pubmed.ncbi.nlm.nih.gov/37805541\" target=\"_blank\">PMID: 37805541</a>). While telomere length is another marker of biological aging, studies on lithium use duration did not find associations with telomere length or other aging markers like frailty or metabolomic age delta (<a href=\"https://pubmed.ncbi.nlm.nih.gov/38539016\" target=\"_blank\">PMID: 38539016</a>). However, SARS-CoV-2 infection has been associated with decreased leukocyte telomere length, although a direct link to cognitive impairment post-COVID-19 was not found in one study (<a href=\"https://pubmed.ncbi.nlm.nih.gov/39457609\" target=\"_blank\">PMID: 39457609</a>).</p>\n",
       "<p>Specific interventions and factors show promise in mitigating age-related decline; lifelong voluntary aerobic exercise preserves physiological function and vascular endothelial function in mice, correlating with changes in plasma metabolites like spermidine and increased autophagy in skeletal muscle (<a href=\"https://pubmed.ncbi.nlm.nih.gov/38265578\" target=\"_blank\">PMID: 38265578</a>). Long-term consumption of Tamogi-take mushrooms attenuated age-related decline in cardiac and vascular endothelial function and improved exercise tolerance in mice, potentially through antioxidant effects (<a href=\"https://pubmed.ncbi.nlm.nih.gov/39779757\" target=\"_blank\">PMID: 39779757</a>). Supplementation with essential amino acids ameliorated age-associated sleep loss and fragmentation in Drosophila, suggesting a dietary intervention for age-related sleep problems (<a href=\"https://pubmed.ncbi.nlm.nih.gov/39696747\" target=\"_blank\">PMID: 39696747</a>). In the brain, metallothioneins, particularly MT1 and MT3 expressed in astrocytes, appear to be a protective mechanism during aging, highly expressed in centenarians (<a href=\"https://pubmed.ncbi.nlm.nih.gov/38769809\" target=\"_blank\">PMID: 38769809</a>). Neuronal lactate metabolism also has sex-specific cognitive effects and may become detrimental to learning and memory with aging (<a href=\"https://pubmed.ncbi.nlm.nih.gov/39055955\" target=\"_blank\">PMID: 39055955</a>). Furthermore, deer bone collagen peptides have shown potential to improve skin aging problems in mice by enhancing hydration, antioxidant capacity, and regulating collagen synthesis and degradation (<a href=\"https://pubmed.ncbi.nlm.nih.gov/38892482\" target=\"_blank\">PMID: 38892482</a>). The study of long-lived organisms like the orange roughy fish is also providing insights into potential genomic mechanisms of extreme longevity, such as those related to genomic instability, autophagy, and intercellular communication (<a href=\"https://pubmed.ncbi.nlm.nih.gov/39187546\" target=\"_blank\">PMID: 39187546</a>).</p>\n",
       "<hr style='border: none; border-top: 1px dashed #ccc;'/>\n",
       "</td>\n",
       "</tr>\n",
       "</table>"
      ]
     },
     "metadata": {},
     "output_type": "display_data"
    }
   ],
   "execution_count": 226
  },
  {
   "metadata": {
    "ExecuteTime": {
     "end_time": "2025-05-07T21:15:30.239001Z",
     "start_time": "2025-05-07T21:15:12.684617Z"
    }
   },
   "cell_type": "code",
   "source": [
    "as_html=True\n",
    "\n",
    "result = summarize_topics(\n",
    "    data=data, topic_description_words=10, #config.topic_description_words,\n",
    "    force_topic_name=0,\n",
    "    as_html=as_html\n",
    ")\n",
    "if as_html:\n",
    "    display(HTML(result))\n",
    "else:\n",
    "    print(result)"
   ],
   "id": "e1b94b6bb596d82f",
   "outputs": [
    {
     "name": "stdout",
     "output_type": "stream",
     "text": [
      "Processing topic 0\n",
      "Highly connected papers: 164 -> 50\n"
     ]
    },
    {
     "data": {
      "text/plain": [
       "<IPython.core.display.HTML object>"
      ],
      "text/html": [
       "<table style=\"width:100%; border-collapse: collapse;\">\n",
       "<tr>\n",
       "<td style='padding: 1em; border-bottom: 1px solid #ccc; text-align: left;'>\n",
       "<h3 style='margin: 0 0 0.5em 0; font-weight: normal;'>Topic 1</h3>\n",
       "<p style='margin: 0 0 0.5em 0;'><strong>A study associates frailty and mortality risk in adults with biological aging, highlighting various biomarkers and lifestyle factors that accelerate or decelerate the process.\n",
       "</strong></p>\n",
       "<hr style='border: none; border-top: 1px solid #ccc;'/>\n",
       "<p>Aging is a complex process characterized by a gradual decline in functional capacity and increased disease susceptibility, with significant individual variations that necessitate measures of biological age beyond chronological age (<a href=\"https://pubmed.ncbi.nlm.nih.gov/38581608\" target=\"_blank\">PMID: 38581608</a>, <a href=\"https://pubmed.ncbi.nlm.nih.gov/38130910\" target=\"_blank\">PMID: 38130910</a>). Various biomarkers and indices have been developed to quantify biological aging, including proteomic age clocks, epigenetic clocks based on DNA methylation, and physiological age indices derived from clinical indicators (<a href=\"https://pubmed.ncbi.nlm.nih.gov/39117878\" target=\"_blank\">PMID: 39117878</a>, <a href=\"https://pubmed.ncbi.nlm.nih.gov/38130910\" target=\"_blank\">PMID: 38130910</a>, <a href=\"https://pubmed.ncbi.nlm.nih.gov/38581608\" target=\"_blank\">PMID: 38581608</a>, <a href=\"https://pubmed.ncbi.nlm.nih.gov/39792740\" target=\"_blank\">PMID: 39792740</a>, <a href=\"https://pubmed.ncbi.nlm.nih.gov/37723992\" target=\"_blank\">PMID: 37723992</a>). Proteomic biomarkers in blood can identify aging-related proteins associated with clinical traits and chronic diseases, and a proteomic healthy aging score can predict cardiometabolic diseases, potentially influenced by gut microbiota (<a href=\"https://pubmed.ncbi.nlm.nih.gov/39805987\" target=\"_blank\">PMID: 39805987</a>). A proteomic age clock based on plasma proteins has been shown to predict chronological age, incidence of major chronic diseases, multimorbidity, mortality, and age-related functional status across diverse populations (<a href=\"https://pubmed.ncbi.nlm.nih.gov/39117878\" target=\"_blank\">PMID: 39117878</a>). Growth differentiation factor 15 (GDF-15) is another significant biomarker of aging, correlating with epigenetic aging markers, impaired glycemic control, inflammation, and physical decline, suggesting its potential for clinical use (<a href=\"https://pubmed.ncbi.nlm.nih.gov/39644331\" target=\"_blank\">PMID: 39644331</a>). DNA methylation-based epigenetic clocks, such as GrimAge and PhenoAge, are reliable tools for predicting biological age acceleration and mortality risk, often outperforming earlier generations of clocks (<a href=\"https://pubmed.ncbi.nlm.nih.gov/40301953\" target=\"_blank\">PMID: 40301953</a>, <a href=\"https://pubmed.ncbi.nlm.nih.gov/39583644\" target=\"_blank\">PMID: 39583644</a>, <a href=\"https://pubmed.ncbi.nlm.nih.gov/39687863\" target=\"_blank\">PMID: 39687863</a>). Longer DNA methylation-based telomere length (DNAmTL) is associated with reduced cardiovascular disease risk and long-term mortality, showing superior predictive performance compared to traditional telomere length measures (<a href=\"https://pubmed.ncbi.nlm.nih.gov/39633416\" target=\"_blank\">PMID: 39633416</a>). Physiological age, derived from clinical indicators, can reveal disparities in health trajectories, with education and sex interacting to influence these trajectories over the life course (<a href=\"https://pubmed.ncbi.nlm.nih.gov/39830243\" target=\"_blank\">PMID: 39830243</a>, <a href=\"https://pubmed.ncbi.nlm.nih.gov/40156883\" target=\"_blank\">PMID: 40156883</a>). Objective and subjective aging indicators, such as hearing loss, tooth loss, falls, and subjective aging perception, can be combined to assess premature mortality risk, with cumulative effects being particularly elevated among younger individuals, those with unhealthy lifestyles, and lower socioeconomic status (<a href=\"https://pubmed.ncbi.nlm.nih.gov/39863635\" target=\"_blank\">PMID: 39863635</a>). Age-related functional impairments like visual or hearing impairment, physical frailty, and cognitive impairment increase exponentially with age, forming a hazard network associated with mortality risk (<a href=\"https://pubmed.ncbi.nlm.nih.gov/38058300\" target=\"_blank\">PMID: 38058300</a>). Cellular senescence, a hallmark of aging, contributes to tissue dysfunction through the senescence-associated secretory phenotype (SASP), and specific SASP proteins are associated with age and clinical traits like inflammation and physical function (<a href=\"https://pubmed.ncbi.nlm.nih.gov/37982669\" target=\"_blank\">PMID: 37982669</a>). Factors influencing biological aging include genetics and environmental exposures (exposome), with the exposome potentially explaining a greater proportion of variation in the incidence of certain age-related diseases compared to polygenic risk (<a href=\"https://pubmed.ncbi.nlm.nih.gov/39972219\" target=\"_blank\">PMID: 39972219</a>). Social factors like disadvantage, discrimination, and food insecurity are associated with accelerated biological aging, potentially mediated by inflammatory pathways and epigenetic alterations (<a href=\"https://pubmed.ncbi.nlm.nih.gov/40087516\" target=\"_blank\">PMID: 40087516</a>, <a href=\"https://pubmed.ncbi.nlm.nih.gov/39132086\" target=\"_blank\">PMID: 39132086</a>, <a href=\"https://pubmed.ncbi.nlm.nih.gov/38723585\" target=\"_blank\">PMID: 38723585</a>, <a href=\"https://pubmed.ncbi.nlm.nih.gov/39973988\" target=\"_blank\">PMID: 39973988</a>). Lifestyle factors also play a crucial role, as physical inactivity and sedentary behavior are linked to accelerated epigenetic aging, while moderate physical activity shows protective effects on longevity and age acceleration, partly mediated by lipids (<a href=\"https://pubmed.ncbi.nlm.nih.gov/39794269\" target=\"_blank\">PMID: 39794269</a>, <a href=\"https://pubmed.ncbi.nlm.nih.gov/39230773\" target=\"_blank\">PMID: 39230773</a>, <a href=\"https://pubmed.ncbi.nlm.nih.gov/39821867\" target=\"_blank\">PMID: 39821867</a>). Dietary factors, such as higher intake of methyl donor nutrients and carotenoids, are negatively associated with phenotypic age acceleration, suggesting potential nutritional strategies for healthy longevity (<a href=\"https://pubmed.ncbi.nlm.nih.gov/40221525\" target=\"_blank\">PMID: 40221525</a>, <a href=\"https://pubmed.ncbi.nlm.nih.gov/39819329\" target=\"_blank\">PMID: 39819329</a>). Conversely, sugar-sweetened beverage intake, especially at night, is positively correlated with phenotypic age acceleration, potentially mediated by obesity (<a href=\"https://pubmed.ncbi.nlm.nih.gov/39780125\" target=\"_blank\">PMID: 39780125</a>). Insulin resistance, indicated by the Triglyceride-glucose index, is significantly associated with increased biological age and a higher risk of accelerated aging (<a href=\"https://pubmed.ncbi.nlm.nih.gov/40022176\" target=\"_blank\">PMID: 40022176</a>). Chronic respiratory diseases are linked to systemic inflammation and phenotypic age acceleration, with mutual mediating effects suggesting joint assessment for risk identification (<a href=\"https://pubmed.ncbi.nlm.nih.gov/39825391\" target=\"_blank\">PMID: 39825391</a>). Age-related changes in body composition, like decreased lean mass and altered fat mass distribution, vary by sex and contribute to conditions like sarcopenia (<a href=\"https://pubmed.ncbi.nlm.nih.gov/39028455\" target=\"_blank\">PMID: 39028455</a>, <a href=\"https://pubmed.ncbi.nlm.nih.gov/39001569\" target=\"_blank\">PMID: 39001569</a>). Abdominal obesity, measured by the weight-adjusted waist index, is inversely associated with the anti-aging protein -Klotho, an association partially mediated by systemic immune inflammation, particularly in older individuals (<a href=\"https://pubmed.ncbi.nlm.nih.gov/39905076\" target=\"_blank\">PMID: 39905076</a>). Exposure to volatile organic compounds is also associated with biological aging, and daily behaviors like smoking, drinking, and physical activity may influence susceptibility (<a href=\"https://pubmed.ncbi.nlm.nih.gov/40264054\" target=\"_blank\">PMID: 40264054</a>). Biological aging metrics can inform risk stratification for cognitive decline and dementia, with faster pace of aging being a risk factor for preclinical cognitive decline (<a href=\"https://pubmed.ncbi.nlm.nih.gov/39583644\" target=\"_blank\">PMID: 39583644</a>, <a href=\"https://pubmed.ncbi.nlm.nih.gov/3989933\" target=\"_blank\">PMID: 3989933</a>). Schizophrenia is accompanied by accelerated biological aging by midlife, which may explain the increased risk for various age-related physical diseases (<a href=\"https://pubmed.ncbi.nlm.nih.gov/37924924\" target=\"_blank\">PMID: 37924924</a>). Interventions like enhancing cardiorespiratory fitness may slow biological aging, particularly in individuals with chronic airflow limitation (<a href=\"https://pubmed.ncbi.nlm.nih.gov/39391738\" target=\"_blank\">PMID: 39391738</a>). Visual arts-mediated cognitive activation therapy has shown potential in mitigating cellular aging by elongating telomere length, especially in men, alongside cognitive and functional improvements in patients with neurocognitive disorders (<a href=\"https://pubmed.ncbi.nlm.nih.gov/38524114\" target=\"_blank\">PMID: 38524114</a>). While senolytic treatments like Dasatinib and Quercetin initially showed increases in epigenetic age acceleration, the addition of Fisetin appeared to mitigate this effect, suggesting complex interactions and the need for further research (<a href=\"https://pubmed.ncbi.nlm.nih.gov/38393697\" target=\"_blank\">PMID: 38393697</a>). Frailty, characterized by multisystem dysfunction, may be predicted by allostatic load, a physiological status associated with prolonged stress, potentially allowing for earlier intervention (<a href=\"https://pubmed.ncbi.nlm.nih.gov/39674921\" target=\"_blank\">PMID: 39674921</a>). Circulating serotonin has been identified as a potential novel predictor for overall morbidity, alongside other metabolites and proteins linked to organ-specific morbidity (<a href=\"https://pubmed.ncbi.nlm.nih.gov/39496618\" target=\"_blank\">PMID: 39496618</a>). The phase angle from bioelectrical impedance analysis can serve as a predictor for sarcopenic obesity, with specific cutoff values identified for males and females (<a href=\"https://pubmed.ncbi.nlm.nih.gov/39792740\" target=\"_blank\">PMID: 39792740</a>).</p>\n",
       "<hr style='border: none; border-top: 1px dashed #ccc;'/>\n",
       "</td>\n",
       "</tr>\n",
       "</table>"
      ]
     },
     "metadata": {},
     "output_type": "display_data"
    }
   ],
   "execution_count": 225
  },
  {
   "metadata": {},
   "cell_type": "code",
   "outputs": [],
   "execution_count": null,
   "source": "",
   "id": "83b250145fb28c65"
  }
 ],
 "metadata": {
  "kernelspec": {
   "display_name": "Python 3",
   "language": "python",
   "name": "python3"
  },
  "language_info": {
   "codemirror_mode": {
    "name": "ipython",
    "version": 2
   },
   "file_extension": ".py",
   "mimetype": "text/x-python",
   "name": "python",
   "nbconvert_exporter": "python",
   "pygments_lexer": "ipython2",
   "version": "2.7.6"
  }
 },
 "nbformat": 4,
 "nbformat_minor": 5
}
